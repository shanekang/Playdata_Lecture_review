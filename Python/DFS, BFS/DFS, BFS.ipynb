{
 "cells": [
  {
   "cell_type": "code",
   "execution_count": 1,
   "metadata": {},
   "outputs": [
    {
     "name": "stdout",
     "output_type": "stream",
     "text": [
      "1 2 7 6 8 3 4 5 "
     ]
    }
   ],
   "source": [
    "#DFS 원리\n",
    "# 스택 자료구조를 이용하여 탐색\n",
    "# 탐색 시작 노드를 스택에 삽입하고 방문처리\n",
    "# 스택의 최상단 노드에 방문하지 않은 인접 노드가 있으면 그 인접 노드를 스택에 저장\n",
    "# 방문하지 않은 인접노드가 없을 시 스택의 최상단 노드를 제거\n",
    "# 위의 과정 2 단계를 모든 노드를 방문할 때까지 수행\n",
    "\n",
    "def dfs_f(data, visit_n):\n",
    "    dfs_v[visit_n] = True\n",
    "    print(visit_n, end = ' ')\n",
    "    for i in data[visit_n]:\n",
    "        if not dfs_v[i]:\n",
    "            dfs_f(data, i)\n",
    "\n",
    "if __name__ == \"__main__\":\n",
    "    data = [[],\n",
    "            [2,3,8],\n",
    "            [1,7],\n",
    "            [1,4,5],\n",
    "            [3,5],\n",
    "            [3,4],\n",
    "            [7],\n",
    "            [2,6,8],\n",
    "            [1,7],]\n",
    "    dfs_v = [False]*len(data)\n",
    "    dfs_f(data, 1)"
   ]
  },
  {
   "cell_type": "code",
   "execution_count": 12,
   "metadata": {},
   "outputs": [
    {
     "name": "stdout",
     "output_type": "stream",
     "text": [
      "1 2 3 8 7 4 5 6 "
     ]
    }
   ],
   "source": [
    "#BFS 원리\n",
    "# DFS가 가장 멀리 있는 노드를 우선으로 탐색하는데 비해 가까운 노드부터\n",
    "#탐색하는 알고리즘\n",
    "# 큐 자료구조를 이용\n",
    "# 탐색 시작 노드를 큐 구조에 삽입\n",
    "# 큐에서 노드를 꺼내고 해당 노드의 인접 노드 중에서 방문하지 않은 노드를 모두 큐에\n",
    "#입력\n",
    "# 바로 위의 과정 한 단계를 큐가 비워질때까지 실행\n",
    "\n",
    "from collections import deque\n",
    "\n",
    "def bfs_f(data,start):\n",
    "    queue = deque([start])\n",
    "    bfs_visited[start] = True\n",
    "    while queue:\n",
    "        n = queue.popleft()\n",
    "        print(n, end= ' ')\n",
    "        for i in data[n]:\n",
    "            if not bfs_visited[i]:\n",
    "                queue.append(i)\n",
    "                bfs_visited[i] = True\n",
    "\n",
    "if __name__ == \"__main__\":\n",
    "    data = [[],\n",
    "            [2,3,8],\n",
    "            [1,7],\n",
    "            [1,4,5],\n",
    "            [3,5],\n",
    "            [3,4],\n",
    "            [7],\n",
    "            [2,6,8],\n",
    "            [1,7],]\n",
    "    bfs_visited = [False]*len(data)\n",
    "    bfs_f(data, 1)"
   ]
  },
  {
   "cell_type": "code",
   "execution_count": null,
   "metadata": {},
   "outputs": [],
   "source": []
  }
 ],
 "metadata": {
  "kernelspec": {
   "display_name": "Python 3",
   "language": "python",
   "name": "python3"
  },
  "language_info": {
   "codemirror_mode": {
    "name": "ipython",
    "version": 3
   },
   "file_extension": ".py",
   "mimetype": "text/x-python",
   "name": "python",
   "nbconvert_exporter": "python",
   "pygments_lexer": "ipython3",
   "version": "3.7.6"
  }
 },
 "nbformat": 4,
 "nbformat_minor": 4
}
