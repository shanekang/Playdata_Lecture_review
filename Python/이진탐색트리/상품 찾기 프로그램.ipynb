{
 "cells": [
  {
   "cell_type": "code",
   "execution_count": null,
   "metadata": {},
   "outputs": [],
   "source": [
    "# 상품 찾기 프로그램\n",
    "#  A 매장에 존재하는 상품들 중에서 고객 C가 찾고자 하는 상품들이 있으면 yes,\n",
    "# 없으면 no를 상품별로 출력\n",
    "#  A 매장의 상품 수와 각 상품 번호를 입력\n",
    "#  고객 C가 요청하는 상품 수와 각 상품 번호를 입력\n",
    "\n",
    "# enter product num(S) >> 5\n",
    "# enter product index(S) >>8 3 7 9 2\n",
    "# enter product num(C) >> 3\n",
    "# enter product index(C) >>5 7 9\n",
    "# result: ['no', 'yes', 'yes']\n",
    "\n",
    "def product_search():\n",
    "    check = []\n",
    "    for i in c_index:\n",
    "        if i in p_index:\n",
    "            check.append('yes')\n",
    "        else:\n",
    "            check.append('no')\n",
    "    return check\n",
    "\n",
    "if __name__ == \"__main__\":\n",
    "    store_n = int(input(\"enter product num(S) >> \"))\n",
    "    p_index = list(map(int, input(\"enter product index(S) >>\").split()))\n",
    "    customer_n = int(input(\"enter product num(C) >> \"))\n",
    "    c_index = list(map(int, input(\"enter product index(C) >>\").split()))\n",
    "    result = product_search()\n",
    "    print(f'result: {result}')"
   ]
  }
 ],
 "metadata": {
  "kernelspec": {
   "display_name": "Python 3",
   "language": "python",
   "name": "python3"
  },
  "language_info": {
   "codemirror_mode": {
    "name": "ipython",
    "version": 3
   },
   "file_extension": ".py",
   "mimetype": "text/x-python",
   "name": "python",
   "nbconvert_exporter": "python",
   "pygments_lexer": "ipython3",
   "version": "3.7.6"
  }
 },
 "nbformat": 4,
 "nbformat_minor": 4
}
