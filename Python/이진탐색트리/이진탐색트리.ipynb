{
 "cells": [
  {
   "cell_type": "code",
   "execution_count": 13,
   "metadata": {},
   "outputs": [],
   "source": [
    "#이진탐색트리 생성\n",
    "class Node:\n",
    "    def __init__(self,key,value,left=None,right=None):\n",
    "        self.key = key\n",
    "        self.value = value\n",
    "        self.left = left\n",
    "        self.right = right\n",
    "class BST:\n",
    "    def __init__(self):\n",
    "        self.root = None\n",
    "    #class BST의 메소드\n",
    "    def put(self, key,value):\n",
    "        self.root = self.put_value(self.root, key, value)\n",
    "    def put_value(self,r,key,value):\n",
    "        if r == None:\n",
    "            return Node(key,value)\n",
    "        if r.key > key:\n",
    "            r.left = self.put_value(r.left,key,value)\n",
    "        elif r.key < key:\n",
    "            r.right = self.put_value(r.right,key,value)\n",
    "        else:\n",
    "            r.value = value\n",
    "        return r\n",
    "    \n",
    "if __name__ == '__main__':\n",
    "    bs = BST()\n",
    "    data = [[50,'apple'],[60,'melon'],[20,'lime'],[10,'kiwi'],\\\n",
    "        [40,'peach'],[25,'orange'],[15,'grape'],[80,'lemon'],\\\n",
    "        [70,'cherry'],[5,'pear'],[35,'mango'],[45,'plum']]\n",
    "    for i in range(len(data)):\n",
    "        bs.put(data[i][0],data[i][1])"
   ]
  },
  {
   "cell_type": "code",
   "execution_count": 7,
   "metadata": {},
   "outputs": [],
   "source": [
    "# 이진 탐색 트리의 탐색 알고리즘(2\n",
    "# 순환적 코드(재귀함수 사용)\n",
    "def get(self, key):\n",
    "    return self.get_value(self.root, k)\n",
    "\n",
    "def get_value(self, r,k):\n",
    "    if r == None:\n",
    "        return None\n",
    "    if r.key > k:\n",
    "        return self.get_value(r.left,k)\n",
    "    elif r.key < k:\n",
    "        return self.get_value(r.right,k)\n",
    "    else:\n",
    "        return r.value"
   ]
  },
  {
   "cell_type": "code",
   "execution_count": 21,
   "metadata": {
    "scrolled": true
   },
   "outputs": [
    {
     "name": "stdout",
     "output_type": "stream",
     "text": [
      "\n",
      "Minimum of bs\n"
     ]
    },
    {
     "ename": "AttributeError",
     "evalue": "'BST' object has no attribute 'min'",
     "output_type": "error",
     "traceback": [
      "\u001b[1;31m---------------------------------------------------------------------------\u001b[0m",
      "\u001b[1;31mAttributeError\u001b[0m                            Traceback (most recent call last)",
      "\u001b[1;32m<ipython-input-21-0269a7738839>\u001b[0m in \u001b[0;36m<module>\u001b[1;34m\u001b[0m\n\u001b[0;32m     38\u001b[0m \u001b[1;32mif\u001b[0m \u001b[0m__name__\u001b[0m \u001b[1;33m==\u001b[0m \u001b[1;34m'__main__'\u001b[0m\u001b[1;33m:\u001b[0m\u001b[1;33m\u001b[0m\u001b[1;33m\u001b[0m\u001b[0m\n\u001b[0;32m     39\u001b[0m     \u001b[0mprint\u001b[0m\u001b[1;33m(\u001b[0m\u001b[1;34m'\\nMinimum of bs'\u001b[0m\u001b[1;33m)\u001b[0m\u001b[1;33m\u001b[0m\u001b[1;33m\u001b[0m\u001b[0m\n\u001b[1;32m---> 40\u001b[1;33m     \u001b[0mmin_obj\u001b[0m \u001b[1;33m=\u001b[0m \u001b[0mbs\u001b[0m\u001b[1;33m.\u001b[0m\u001b[0mmin\u001b[0m\u001b[1;33m(\u001b[0m\u001b[1;33m)\u001b[0m\u001b[1;33m\u001b[0m\u001b[1;33m\u001b[0m\u001b[0m\n\u001b[0m\u001b[0;32m     41\u001b[0m     \u001b[0mprint\u001b[0m\u001b[1;33m(\u001b[0m\u001b[1;34mf'min_key: {min_obj.key}, min_value: {min_obj.value}'\u001b[0m\u001b[1;33m)\u001b[0m\u001b[1;33m\u001b[0m\u001b[1;33m\u001b[0m\u001b[0m\n",
      "\u001b[1;31mAttributeError\u001b[0m: 'BST' object has no attribute 'min'"
     ]
    }
   ],
   "source": [
    "# 이진 탐색 트리의 최솟값 탐색\n",
    "# 루트부터 왼쪽 자식을 탐색\n",
    "#  None을 만나면(노드.left의 값이 None), None의 부모노드가 가진 key가\n",
    "# 최솟값임\n",
    "\n",
    "#class BTS의 메서드\n",
    "class BST:\n",
    "    \n",
    "    def __init__(self):\n",
    "        self.root = None\n",
    "    #class BST의 메소드\n",
    "    \n",
    "    def put(self, key,value):\n",
    "        self.root = self.put_value(self.root, key, value)\n",
    "    \n",
    "    def put_value(self,r,key,value):\n",
    "        if r == None:\n",
    "            return Node(key,value)\n",
    "        if r.key > key:\n",
    "            r.left = self.put_value(r.left,key,value)\n",
    "        elif r.key < key:\n",
    "            r.right = self.put_value(r.right,key,value)\n",
    "        else:\n",
    "            r.value = value\n",
    "        return r\n",
    "    \n",
    "    def min(self):\n",
    "        if self.root == None:\n",
    "            return None\n",
    "        else:\n",
    "            return self.minimum(self.root)\n",
    "    def minimum(self,r):\n",
    "        if r.left == None:\n",
    "            return r\n",
    "        return self.minimum(r.left)\n",
    "\n",
    "#main code\n",
    "if __name__ == '__main__':\n",
    "    print('\\nMinimum of bs')\n",
    "    min_obj = bs.min()\n",
    "    print(f'min_key: {min_obj.key}, min_value: {min_obj.value}')\n"
   ]
  },
  {
   "cell_type": "code",
   "execution_count": null,
   "metadata": {},
   "outputs": [],
   "source": []
  }
 ],
 "metadata": {
  "kernelspec": {
   "display_name": "Python 3",
   "language": "python",
   "name": "python3"
  },
  "language_info": {
   "codemirror_mode": {
    "name": "ipython",
    "version": 3
   },
   "file_extension": ".py",
   "mimetype": "text/x-python",
   "name": "python",
   "nbconvert_exporter": "python",
   "pygments_lexer": "ipython3",
   "version": "3.7.6"
  }
 },
 "nbformat": 4,
 "nbformat_minor": 4
}
