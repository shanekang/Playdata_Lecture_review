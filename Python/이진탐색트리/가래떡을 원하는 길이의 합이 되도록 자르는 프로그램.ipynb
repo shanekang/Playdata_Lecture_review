{
 "cells": [
  {
   "cell_type": "code",
   "execution_count": 2,
   "metadata": {},
   "outputs": [
    {
     "name": "stdout",
     "output_type": "stream",
     "text": [
      "6 4\n",
      "19 14 10 17\n",
      "16\n"
     ]
    }
   ],
   "source": [
    "# 가래떡을 원하는 길이의 합이 되도록 자르는 프로그램\n",
    "#  가래떡을 판매할 때, 주어진 가래떡들을 정해진 높이의 절단기를 통해 절단\n",
    "#  절단된 가래떡의 합이 손님이 원하는 가래떡의 길이가 되도록 절단기의 최적\n",
    "# 높이를 설정하는 문제임\n",
    "#  예를 들어\n",
    "#  가래떡의 길이가 19, 14, 10, 17 로 주어진 경우\n",
    "#  손님이 4 개의 가래떡을 자른 합의 결과인 6을 원할 때\n",
    "#  절단기를 15로 맞춰 자르면 4, 0, 0, 2 가 되어 손님이 원하는 6을 맞출 수 있음\n",
    "#  이 경우의 결과값은 15가 됨,\n",
    "#  즉 손님이 요청한 총 길이가 M일 때 적어도 M만큼의 가래떡을 얻기 위해서 절단기에\n",
    "# 설정할 수 있는 높이의 최댓값을 구하는 문제임\n",
    "#  입력값 범위는 떡의 개수 N과 손님이 요청한 떡의 길이M (1<=N<=1000000m\n",
    "# 1<=M<=2000000000), 각 떡의 길이 L, 0 <= L <= 1000000000 \n",
    "\n",
    "n, m = list(map(int, input().split()))\n",
    "\n",
    "rice_len = list(map(int, input().split()))\n",
    "\n",
    "start = 0\n",
    "end = max(rice_len)\n",
    "\n",
    "result = 0\n",
    "while start <= end:\n",
    "    total = 0\n",
    "    mid = (start+end)//2\n",
    "    for x in rice_len:\n",
    "        if x > mid:\n",
    "            total += x - mid\n",
    "            \n",
    "        if total < m:\n",
    "            end = mid - 1\n",
    "        else:\n",
    "            result = mid\n",
    "            start = mid + 1\n",
    "print(result)"
   ]
  }
 ],
 "metadata": {
  "kernelspec": {
   "display_name": "Python 3",
   "language": "python",
   "name": "python3"
  },
  "language_info": {
   "codemirror_mode": {
    "name": "ipython",
    "version": 3
   },
   "file_extension": ".py",
   "mimetype": "text/x-python",
   "name": "python",
   "nbconvert_exporter": "python",
   "pygments_lexer": "ipython3",
   "version": "3.7.6"
  }
 },
 "nbformat": 4,
 "nbformat_minor": 4
}
