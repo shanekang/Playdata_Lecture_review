{
 "cells": [
  {
   "cell_type": "code",
   "execution_count": 2,
   "metadata": {},
   "outputs": [],
   "source": [
    "#어떤 과학자가 발표한 논문들에 대한 h-index를 구하기\n",
    "# 과학자의 생산성과 영향력을 나타내는 지표인 h-index는 다음과 같은 규칙에\n",
    "#의해 구함\n",
    "# 한 과학자가 발표한 논문 n 편 중, h번 이상 인용된 논문이 h편 이상이고, 나머지\n",
    "#논문이 h번 이하로 인용되었다면 h의 최댓값이 h-index가 됨\n",
    "# 과학자가 발표한 논문 수는 1 ~ 1000편 사이\n",
    "# 논문별 인용 횟수는 0회에서 10,000 이하임\n",
    "\n",
    "#[22, 24] 인 경우, 논문의 편수는 2편\n",
    "#1이상 인용 논문 편수는 2, 1과 2는 다르므로 h-index는 1이 아님\n",
    "#2이상 인용 논문 편수는 2, 2와 2는 같으므로 h-index는 2가 됨\n",
    "\n",
    "def solution(citations):\n",
    "    \n",
    "    citations.sort(reverse=True)\n",
    "    answer = max(map(min, enumerate(citations, start=1))) #start가 1인 이유는 인덱스를 1부터 주기위함.\n",
    "    return answer"
   ]
  },
  {
   "cell_type": "code",
   "execution_count": 3,
   "metadata": {},
   "outputs": [],
   "source": [
    "# 거스름돈 코드 작성\n",
    "# 물건을 사고 남은 금액을 500,100,50,10 을 사용하여 돌려 줌\n",
    "# 거스름돈의 금액은 10단위로 입력\n",
    "# 가장 적은 동전 수로 거스름돈을 구성할 수 있도록 코드 작성\n",
    "# 다음은 입력과 출력을 나타냄\n",
    "\n",
    "# enter change >> 1750\n",
    "# 1750는 {500: 3, 100: 2, 50: 1, 10: 0}\n",
    "# enter change >> 38680\n",
    "# 38680는 {500: 77, 100: 1, 50: 1, 10: 3}\n",
    "\n",
    "def change(money):\n",
    "    coins = [500, 100, 50, 10]\n",
    "    result = {}\n",
    "    for coin in coins :\n",
    "        result[coin] = money//coin\n",
    "        money %= coin\n",
    "    return result"
   ]
  },
  {
   "cell_type": "code",
   "execution_count": 4,
   "metadata": {},
   "outputs": [],
   "source": [
    "#‘A’의 큰 수의 법칙 문제\n",
    "# 주어진 자연수를 정해진 조건에 맞춰 합산하여 가장 큰 값이 되도록 하는 법칙\n",
    "# 조건\n",
    "# 주어진 자연수의 리스트를 M번까지 더하고, 동일한 값을 K번 까지만 반복 연산할 수\n",
    "# 있는 있음\n",
    "# 같은 숫자가 인덱스가 다르게 주어진다면 다른 수로 간주함\n",
    "# 예를 들어 [2,4,3,5,7] 이 주어지면 8번을 합산 연산하고, 3번 까지만 중복 연산할 수\n",
    "#있는 경우\n",
    "# – 7+7+7+5+7+7+7+5 = 52\n",
    "# [6,3,6] 이고, 5번 합산하고 2번 까지만 중복 연산할 수 있는 경우\n",
    "# – 6+6+6+6+6 = 30\n",
    "# 입력은 리스트 크기는 2 ~ 1000, 합산 연산 수는 1 ~ 10000, 반복 수는 1 ~ 10000\n",
    "# 리스트 구성 값은 1 ~ 10000 사이의 자연수\n",
    "# 반복 수는 합산 연산 수보다 작거나 같음\n",
    "\n",
    "def max_sum(value, M, K):\n",
    "    value.sort(reverse=True)\n",
    "    first = value[0]\n",
    "    second = value[1]\n",
    "    max_v = 0\n",
    "\n",
    "    f_k = (M//(K+1))*K + (M%(K+1))\n",
    "\n",
    "    max_v += f_k * first\n",
    "    max_v += (M-f_k) * second\n",
    "\n",
    "    return max_v\n",
    "\n"
   ]
  },
  {
   "cell_type": "code",
   "execution_count": 5,
   "metadata": {},
   "outputs": [
    {
     "name": "stdout",
     "output_type": "stream",
     "text": [
      "enter number >>3\n",
      "enter hour >>5\n",
      "5시 59분 59초 사이의 3의 개수는 11475\n"
     ]
    }
   ],
   "source": [
    "#특정 숫자가 포함된 시각을 모두 구하는 프로그램\n",
    "# 정수 N을 입력하면 00시 00분 00초 부터 N시 59분 59초 중에서 특정 숫자가\n",
    "# 포함된 시간을 모두 구함\n",
    "# 1일의 초는 86,400 초로 특정 숫자를 탐색하는 경우의 수가 100,000개 이하임\n",
    "# 탐색의 대상이 되는 경우의 수가 100만개 이하인 경우는 완전 탐색을 적용\n",
    "# 모든 시각 중에 3이 포함되어 있는 경우는\n",
    "# – 00시 00분 03초, 00시 13분 20초 등\n",
    "\n",
    "# enter number >> 3\n",
    "# enter hour >> 5\n",
    "# 5시 59분 59초 사이의 3의 개수는 11475\n",
    "\n",
    "def hour_count(num, hour):\n",
    "    count = 0 \n",
    "    for i in range(hour + 1):\n",
    "        for j in range(60):\n",
    "            for k in range(60):\n",
    "                if str(num) in str(i)+str(j)+str(k):\n",
    "                    count+= 1\n",
    "    return count\n",
    "\n",
    "if __name__ == \"__main__\":\n",
    "    search_n = int(input(\"enter number >>\"))\n",
    "    hour = int(input(\"enter hour >>\"))\n",
    "\n",
    "    result = hour_count(search_n, hour)\n",
    "    print(f'{hour}시 59분 59초 사이의 {search_n}의 개수는 {result}')\n",
    "\n"
   ]
  }
 ],
 "metadata": {
  "kernelspec": {
   "display_name": "Python 3",
   "language": "python",
   "name": "python3"
  },
  "language_info": {
   "codemirror_mode": {
    "name": "ipython",
    "version": 3
   },
   "file_extension": ".py",
   "mimetype": "text/x-python",
   "name": "python",
   "nbconvert_exporter": "python",
   "pygments_lexer": "ipython3",
   "version": "3.8.3"
  }
 },
 "nbformat": 4,
 "nbformat_minor": 4
}
