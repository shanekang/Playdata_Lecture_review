{
 "cells": [
  {
   "cell_type": "code",
   "execution_count": 4,
   "metadata": {},
   "outputs": [
    {
     "name": "stdout",
     "output_type": "stream",
     "text": [
      "       stock_name          value   price    name           eps       bps  \\\n",
      "id                                                                         \n",
      "128940       한미약품   59385.666667  421000     NaN           NaN       NaN   \n",
      "130960     CJ E&M   58540.666667   98900  CJ E&M   6301.333333   54068.0   \n",
      "138250      엔에스쇼핑   14558.666667   13200     NaN           NaN       NaN   \n",
      "139480        이마트  239230.833333  254500     이마트  18268.166667  295780.0   \n",
      "142280     녹십자엠에스     468.833333   10200     NaN           NaN       NaN   \n",
      "145990        삼양사   82750.000000   82000     삼양사   5741.000000  108090.0   \n",
      "185750        종근당   40293.666667  100500     종근당   3990.333333   40684.0   \n",
      "192400      쿠쿠홀딩스  179204.666667  177500     NaN           NaN       NaN   \n",
      "199800         툴젠   -2514.333333  115400     NaN           NaN       NaN   \n",
      "204210     모두투어리츠    3093.333333    3475  모두투어리츠     85.166667    5335.0   \n",
      "\n",
      "              per       pbr  \n",
      "id                           \n",
      "128940        NaN       NaN  \n",
      "130960  15.695091  1.829178  \n",
      "138250        NaN       NaN  \n",
      "139480  13.931338  0.860437  \n",
      "142280        NaN       NaN  \n",
      "145990  14.283226  0.758627  \n",
      "185750  25.185866  2.470259  \n",
      "192400        NaN       NaN  \n",
      "199800        NaN       NaN  \n",
      "204210  40.802348  0.651359  \n",
      "\n",
      "\n",
      "       stock_name          value   price    name           eps     bps  \\\n",
      "id                                                                       \n",
      "130960     CJ E&M   58540.666667   98900  CJ E&M   6301.333333   54068   \n",
      "139480        이마트  239230.833333  254500     이마트  18268.166667  295780   \n",
      "145990        삼양사   82750.000000   82000     삼양사   5741.000000  108090   \n",
      "185750        종근당   40293.666667  100500     종근당   3990.333333   40684   \n",
      "204210     모두투어리츠    3093.333333    3475  모두투어리츠     85.166667    5335   \n",
      "\n",
      "              per       pbr  \n",
      "id                           \n",
      "130960  15.695091  1.829178  \n",
      "139480  13.931338  0.860437  \n",
      "145990  14.283226  0.758627  \n",
      "185750  25.185866  2.470259  \n",
      "204210  40.802348  0.651359  \n"
     ]
    }
   ],
   "source": [
    "import pandas as pd\n",
    "\n",
    "# 주식 데이터를 가져와서 데이터프레임 만들기\n",
    "#행 인덱스를 기준으로 결합하므로 index_col 의 속성을 통해 공통 인덱스를 정해 줌\n",
    "#merge는 컬럼 기준으로 join은 행 인덱스 기준으로 합치는 것이 차이점이다.\n",
    "#하지만 대부분 merge를 사용한다.\n",
    "\n",
    "df1 = pd.read_excel('./stock price.xlsx', index_col='id')\n",
    "df2 = pd.read_excel('./stock valuation.xlsx', index_col='id')\n",
    "\n",
    "# 데이터프레임 결합(join)\n",
    "df3 = df1.join(df2)\n",
    "print(df3)\n",
    "print('\\n')\n",
    "\n",
    "# 데이터프레임 결합(join) - 교집합\n",
    "df4 = df1.join(df2, how='inner')\n",
    "print(df4)"
   ]
  }
 ],
 "metadata": {
  "kernelspec": {
   "display_name": "Python 3",
   "language": "python",
   "name": "python3"
  },
  "language_info": {
   "codemirror_mode": {
    "name": "ipython",
    "version": 3
   },
   "file_extension": ".py",
   "mimetype": "text/x-python",
   "name": "python",
   "nbconvert_exporter": "python",
   "pygments_lexer": "ipython3",
   "version": "3.7.6"
  }
 },
 "nbformat": 4,
 "nbformat_minor": 4
}
