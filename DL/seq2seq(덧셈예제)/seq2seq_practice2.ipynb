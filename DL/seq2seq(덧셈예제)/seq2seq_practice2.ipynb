{
  "nbformat": 4,
  "nbformat_minor": 0,
  "metadata": {
    "colab": {
      "name": "seq2seq_practice.ipynb",
      "provenance": [],
      "collapsed_sections": []
    },
    "kernelspec": {
      "name": "python3",
      "display_name": "Python 3"
    },
    "accelerator": "GPU"
  },
  "cells": [
    {
      "cell_type": "markdown",
      "metadata": {
        "id": "HLo2DV6D52eH"
      },
      "source": [
        "* 덧셈 데이터 구성\n",
        "* seq2seq Encoder / Decoder 정의\n",
        "* 학습\n",
        "* 평가 (예측)"
      ]
    },
    {
      "cell_type": "markdown",
      "metadata": {
        "id": "sZWGDeYc5-kV"
      },
      "source": [
        "## 덧셈 데이터 구성"
      ]
    },
    {
      "cell_type": "code",
      "metadata": {
        "id": "scmpb8sP5uXP"
      },
      "source": [
        "# 최대 세자리수끼리 합을 구하는 데이터"
      ],
      "execution_count": null,
      "outputs": []
    },
    {
      "cell_type": "code",
      "metadata": {
        "id": "h3U23zLN6KoM"
      },
      "source": [
        "import numpy as np"
      ],
      "execution_count": null,
      "outputs": []
    },
    {
      "cell_type": "code",
      "metadata": {
        "id": "Yl9fTkEp6LcH"
      },
      "source": [
        "# 99 + 1 => '9','9','+','1'"
      ],
      "execution_count": null,
      "outputs": []
    },
    {
      "cell_type": "code",
      "metadata": {
        "id": "ZXTggaze8Twm"
      },
      "source": [
        "def get_sum_dict():\n",
        "  items = list(str(x) for x in range(10))\n",
        "  items.append('_')\n",
        "  items.append('+')\n",
        "\n",
        "  id_to_item = {}\n",
        "  for idx, item in enumerate(items):\n",
        "    id_to_item[idx]=item\n",
        "  \n",
        "  item_to_id = dict([(value, key) for key, value in id_to_item.items()])\n",
        "\n",
        "  return id_to_item, item_to_id"
      ],
      "execution_count": null,
      "outputs": []
    },
    {
      "cell_type": "code",
      "metadata": {
        "id": "dCYYlfqD98-2"
      },
      "source": [
        "def convert_item_to_id(items, item_to_id):\n",
        "  ids = list([item_to_id[item] for item in items])\n",
        "  return ids\n",
        "\n",
        "def convert_id_to_item(ids, id_to_item):\n",
        "  items = list([id_to_item[id] for id in ids])\n",
        "  return items"
      ],
      "execution_count": null,
      "outputs": []
    },
    {
      "cell_type": "code",
      "metadata": {
        "id": "Epo2vlgZ9ANe"
      },
      "source": [
        "def sum_data_gen():\n",
        "  num1 = np.random.randint(0,1000)\n",
        "  num2 = np.random.randint(0,1000)\n",
        "  ans = num1 + num2\n",
        "  q_str = str(num1) + '+' + str(num2)\n",
        "  a_str = '_' + str(ans).zfill(4)\n",
        "  return list(q_str), list(a_str)"
      ],
      "execution_count": null,
      "outputs": []
    },
    {
      "cell_type": "code",
      "metadata": {
        "id": "7_zhoQ2I-8QB"
      },
      "source": [
        "def get_dataset(data_num=100):\n",
        "  id_to_item, item_to_id = get_sum_dict()\n",
        "  xs = []\n",
        "  ys = []\n",
        "  for i in range(data_num):\n",
        "    x, y = sum_data_gen()\n",
        "    xs.append(convert_item_to_id(x, item_to_id))\n",
        "    ys.append(convert_item_to_id(y, item_to_id))\n",
        "  return xs, ys   "
      ],
      "execution_count": null,
      "outputs": []
    },
    {
      "cell_type": "code",
      "metadata": {
        "id": "e3P5Fxbe_S3K"
      },
      "source": [
        "train_x, train_y = get_dataset(data_num=100000)\n",
        "test_x, test_y = get_dataset(data_num=10000)\n",
        "id_to_item, item_to_id = get_sum_dict()"
      ],
      "execution_count": null,
      "outputs": []
    },
    {
      "cell_type": "code",
      "metadata": {
        "id": "7iCa9OEHYYDY",
        "outputId": "23d0b455-8564-4aae-8683-045babc47fa4",
        "colab": {
          "base_uri": "https://localhost:8080/",
          "height": 34
        }
      },
      "source": [
        "train_x[0],train_y[0]"
      ],
      "execution_count": null,
      "outputs": [
        {
          "output_type": "execute_result",
          "data": {
            "text/plain": [
              "([2, 3, 0, 11, 4, 9, 4], [10, 0, 7, 2, 4])"
            ]
          },
          "metadata": {
            "tags": []
          },
          "execution_count": 53
        }
      ]
    },
    {
      "cell_type": "code",
      "metadata": {
        "id": "7GCsXPHXYgNW",
        "outputId": "0cc05fb1-9a32-41ae-b097-cbfb6b1fed97",
        "colab": {
          "base_uri": "https://localhost:8080/",
          "height": 34
        }
      },
      "source": [
        "convert_id_to_item(train_x[0], id_to_item)"
      ],
      "execution_count": null,
      "outputs": [
        {
          "output_type": "execute_result",
          "data": {
            "text/plain": [
              "['2', '3', '0', '+', '4', '9', '4']"
            ]
          },
          "metadata": {
            "tags": []
          },
          "execution_count": 54
        }
      ]
    },
    {
      "cell_type": "code",
      "metadata": {
        "id": "bIMGE0x7AR7C"
      },
      "source": [
        "import tensorflow as tf"
      ],
      "execution_count": null,
      "outputs": []
    },
    {
      "cell_type": "code",
      "metadata": {
        "id": "0vq9YxB6AoJf"
      },
      "source": [
        "from tensorflow.keras.layers import Input, LSTM, Embedding, Dense\n",
        "from tensorflow.keras.models import Model, Sequential\n",
        "from tensorflow.keras.preprocessing.sequence import pad_sequences\n",
        "from tensorflow.keras.utils import to_categorical"
      ],
      "execution_count": null,
      "outputs": []
    },
    {
      "cell_type": "code",
      "metadata": {
        "id": "_LItE7KwBWYm"
      },
      "source": [
        "# Source data의 단어 수 & Target data의 단어 수 정의 \n",
        "src_vocab_size = len(id_to_item) \n",
        "tar_vocab_size = len(id_to_item)"
      ],
      "execution_count": null,
      "outputs": []
    },
    {
      "cell_type": "code",
      "metadata": {
        "id": "hZNypIxwDwoO"
      },
      "source": [
        "train_x = pad_sequences(train_x, maxlen=7, padding='pre')\n",
        "test_x = pad_sequences(test_x, maxlen=7, padding='pre')\n",
        "train_y = pad_sequences(train_y, maxlen=5, padding='pre')\n",
        "test_y = pad_sequences(test_y, maxlen=5, padding='pre')"
      ],
      "execution_count": null,
      "outputs": []
    },
    {
      "cell_type": "code",
      "metadata": {
        "id": "ODb9w1WCZSbN",
        "outputId": "2f1cfe0f-264c-4c95-9ffd-12309f9c1c41",
        "colab": {
          "base_uri": "https://localhost:8080/",
          "height": 34
        }
      },
      "source": [
        "convert_id_to_item(train_x[0], id_to_item), convert_id_to_item(train_y[0], id_to_item)"
      ],
      "execution_count": null,
      "outputs": [
        {
          "output_type": "execute_result",
          "data": {
            "text/plain": [
              "(['2', '3', '0', '+', '4', '9', '4'], ['_', '0', '7', '2', '4'])"
            ]
          },
          "metadata": {
            "tags": []
          },
          "execution_count": 59
        }
      ]
    },
    {
      "cell_type": "code",
      "metadata": {
        "id": "AZJ730ySNsIE"
      },
      "source": [
        "train_y_t = train_y[:,1:]\n",
        "test_y_t = test_y[:,1:]\n",
        "\n",
        "# ['_', '0', '3', '1', '5'] => ['0', '3', '1', '5', '_'] (학습을 위한 데이터 추가 생성 )\n",
        "train_y_t = pad_sequences(train_y_t, value=item_to_id['_'], maxlen=5, padding='post')\n",
        "test_y_t = pad_sequences(test_y_t, value=item_to_id['_'], maxlen=5, padding='post')"
      ],
      "execution_count": null,
      "outputs": []
    },
    {
      "cell_type": "code",
      "metadata": {
        "id": "raluFWTfZmpW",
        "outputId": "44362d41-c471-4227-dc03-d1ad35aa7b4d",
        "colab": {
          "base_uri": "https://localhost:8080/",
          "height": 34
        }
      },
      "source": [
        "convert_id_to_item(train_y_t[0], id_to_item)"
      ],
      "execution_count": null,
      "outputs": [
        {
          "output_type": "execute_result",
          "data": {
            "text/plain": [
              "['0', '7', '2', '4', '_']"
            ]
          },
          "metadata": {
            "tags": []
          },
          "execution_count": 61
        }
      ]
    },
    {
      "cell_type": "code",
      "metadata": {
        "id": "5SIHfpcUDKKu"
      },
      "source": [
        "# data를 Network에 전달하기 위해 (input으로 쓰기위해) one-hot encoding\n",
        "train_x = to_categorical(train_x, num_classes=src_vocab_size)\n",
        "test_x = to_categorical(test_x, num_classes=src_vocab_size)\n",
        "train_y = to_categorical(train_y, num_classes=tar_vocab_size)\n",
        "test_y = to_categorical(test_y, num_classes=tar_vocab_size)\n",
        "train_y_t = to_categorical(train_y_t, num_classes=tar_vocab_size)\n",
        "test_y_t = to_categorical(test_y_t, num_classes=tar_vocab_size) "
      ],
      "execution_count": null,
      "outputs": []
    },
    {
      "cell_type": "code",
      "metadata": {
        "id": "lZxmqLCeEARW",
        "outputId": "67fcf92a-ab20-4edc-8b25-a4af161c7df9",
        "colab": {
          "base_uri": "https://localhost:8080/",
          "height": 122
        }
      },
      "source": [
        "train_x.shape, test_x.shape, train_y.shape, test_y.shape, train_y_t.shape, test_y_t.shape"
      ],
      "execution_count": null,
      "outputs": [
        {
          "output_type": "execute_result",
          "data": {
            "text/plain": [
              "((100000, 7, 12),\n",
              " (10000, 7, 12),\n",
              " (100000, 5, 12),\n",
              " (10000, 5, 12),\n",
              " (100000, 5, 12),\n",
              " (10000, 5, 12))"
            ]
          },
          "metadata": {
            "tags": []
          },
          "execution_count": 63
        }
      ]
    },
    {
      "cell_type": "code",
      "metadata": {
        "id": "eR9lS5a_UuAR"
      },
      "source": [
        "# onehot_to_sentence(train_y_t[0], id_to_item)"
      ],
      "execution_count": null,
      "outputs": []
    },
    {
      "cell_type": "code",
      "metadata": {
        "id": "3s72AmHPanYF"
      },
      "source": [
        "def onehot_to_sentence(data, id_to_item):\n",
        "  return convert_id_to_item(np.argmax(data, axis=1), id_to_item)"
      ],
      "execution_count": null,
      "outputs": []
    },
    {
      "cell_type": "code",
      "metadata": {
        "id": "xIstwDLrkSWQ"
      },
      "source": [
        "hidden_node_size = 128"
      ],
      "execution_count": null,
      "outputs": []
    },
    {
      "cell_type": "code",
      "metadata": {
        "id": "ssPTfqBIA6pO"
      },
      "source": [
        "# Encoder \n",
        "# encoder_input = Embedding(vocab_size, 5,  input_length=7)\n",
        "encoder_inputs = Input(shape=(None, src_vocab_size))\n",
        "## seq2seq (no Attention)\n",
        "# encoder_lstm = LSTM(hidden_node_size, return_state=True) \n",
        "\n",
        "## seq2seq (with Attention)\n",
        "encoder_lstm = LSTM(hidden_node_size, return_state=True, return_sequences=True) \n",
        "encoder_outputs, state_h, state_c = encoder_lstm(encoder_inputs)\n",
        "\n",
        "encoder_states = [state_h, state_c]"
      ],
      "execution_count": null,
      "outputs": []
    },
    {
      "cell_type": "code",
      "metadata": {
        "id": "UIwknhJ2BKKG"
      },
      "source": [
        "# Decoder\n",
        "decoder_inputs = Input(shape=(None, tar_vocab_size))\n",
        "decoder_lstm = LSTM(hidden_node_size, return_state=True, return_sequences=True) \n",
        "## seq2seq (with Attention) - Attention layer 추가 \n",
        "decoder_attention = tf.keras.layers.Attention()\n",
        "\n",
        "# output, h, c 자리인데, decoder의 h,c는 사용되지 않기 때문에 _ 로..\n",
        "decoder_outputs, _, _ = decoder_lstm(decoder_inputs, initial_state=encoder_states)\n",
        "\n",
        "## seq2seq (with Attention) - Attention layer 추가 \n",
        "decoder_attention_output = decoder_attention([decoder_outputs, encoder_outputs])\n",
        "decoder_softmax_layer = Dense(tar_vocab_size, activation='softmax')\n",
        "\n",
        "## seq2seq (no Attention) - Attention layer 추가 \n",
        "#decoder_outputs = decoder_softmax_layer(decoder_outputs)\n",
        "## seq2seq (with Attention) - Attention layer 추가 \n",
        "decoder_outputs = decoder_softmax_layer(decoder_outputs + decoder_attention_output)\n",
        "\n",
        "# Model(input, output)\n",
        "model = Model([encoder_inputs, decoder_inputs], decoder_outputs)"
      ],
      "execution_count": null,
      "outputs": []
    },
    {
      "cell_type": "code",
      "metadata": {
        "id": "FOqOR1HyS688",
        "outputId": "242c0461-0c6b-4eb3-ba87-830ce4131642",
        "colab": {
          "base_uri": "https://localhost:8080/",
          "height": 472
        }
      },
      "source": [
        "model.summary()"
      ],
      "execution_count": null,
      "outputs": [
        {
          "output_type": "stream",
          "text": [
            "Model: \"functional_15\"\n",
            "__________________________________________________________________________________________________\n",
            "Layer (type)                    Output Shape         Param #     Connected to                     \n",
            "==================================================================================================\n",
            "input_19 (InputLayer)           [(None, None, 12)]   0                                            \n",
            "__________________________________________________________________________________________________\n",
            "input_20 (InputLayer)           [(None, None, 12)]   0                                            \n",
            "__________________________________________________________________________________________________\n",
            "lstm_6 (LSTM)                   [(None, None, 128),  72192       input_19[0][0]                   \n",
            "__________________________________________________________________________________________________\n",
            "lstm_7 (LSTM)                   [(None, None, 128),  72192       input_20[0][0]                   \n",
            "                                                                 lstm_6[0][1]                     \n",
            "                                                                 lstm_6[0][2]                     \n",
            "__________________________________________________________________________________________________\n",
            "attention_5 (Attention)         (None, None, 128)    0           lstm_7[0][0]                     \n",
            "                                                                 lstm_6[0][0]                     \n",
            "__________________________________________________________________________________________________\n",
            "tf_op_layer_AddV2_4 (TensorFlow [(None, None, 128)]  0           lstm_7[0][0]                     \n",
            "                                                                 attention_5[0][0]                \n",
            "__________________________________________________________________________________________________\n",
            "dense_5 (Dense)                 (None, None, 12)     1548        tf_op_layer_AddV2_4[0][0]        \n",
            "==================================================================================================\n",
            "Total params: 145,932\n",
            "Trainable params: 145,932\n",
            "Non-trainable params: 0\n",
            "__________________________________________________________________________________________________\n"
          ],
          "name": "stdout"
        }
      ]
    },
    {
      "cell_type": "code",
      "metadata": {
        "id": "ms5F70b5Tmxq"
      },
      "source": [
        "# train_x.shape, test_x.shape, \n",
        "# train_y.shape, test_y.shape, \n",
        "# train_y_t.shape, test_y_t.shape"
      ],
      "execution_count": null,
      "outputs": []
    },
    {
      "cell_type": "code",
      "metadata": {
        "id": "Q9Gh14khTfix"
      },
      "source": [
        "model.compile(optimizer='adam', loss='categorical_crossentropy', metrics=['accuracy']) "
      ],
      "execution_count": null,
      "outputs": []
    },
    {
      "cell_type": "code",
      "metadata": {
        "id": "E2JlPuyCUM5K",
        "outputId": "ba3d5619-e53f-46d0-bea8-7d4be7cccc8e",
        "colab": {
          "base_uri": "https://localhost:8080/",
          "height": 1000
        }
      },
      "source": [
        "history = model.fit(x=[train_x, train_y], \n",
        "              y=train_y_t, \n",
        "              batch_size=512, \n",
        "              epochs=200, \n",
        "              validation_split=0.2)             "
      ],
      "execution_count": null,
      "outputs": [
        {
          "output_type": "stream",
          "text": [
            "Epoch 1/200\n",
            "157/157 [==============================] - 2s 12ms/step - loss: 1.6528 - accuracy: 0.3962 - val_loss: 1.4587 - val_accuracy: 0.4339\n",
            "Epoch 2/200\n",
            "157/157 [==============================] - 1s 7ms/step - loss: 1.4053 - accuracy: 0.4500 - val_loss: 1.3391 - val_accuracy: 0.4736\n",
            "Epoch 3/200\n",
            "157/157 [==============================] - 1s 7ms/step - loss: 1.2764 - accuracy: 0.5032 - val_loss: 1.2377 - val_accuracy: 0.5197\n",
            "Epoch 4/200\n",
            "157/157 [==============================] - 1s 7ms/step - loss: 1.2081 - accuracy: 0.5348 - val_loss: 1.1852 - val_accuracy: 0.5430\n",
            "Epoch 5/200\n",
            "157/157 [==============================] - 1s 7ms/step - loss: 1.1569 - accuracy: 0.5599 - val_loss: 1.1404 - val_accuracy: 0.5648\n",
            "Epoch 6/200\n",
            "157/157 [==============================] - 1s 7ms/step - loss: 1.1155 - accuracy: 0.5759 - val_loss: 1.0836 - val_accuracy: 0.5870\n",
            "Epoch 7/200\n",
            "157/157 [==============================] - 1s 7ms/step - loss: 1.0761 - accuracy: 0.5900 - val_loss: 1.0834 - val_accuracy: 0.5778\n",
            "Epoch 8/200\n",
            "157/157 [==============================] - 1s 7ms/step - loss: 1.0397 - accuracy: 0.6022 - val_loss: 1.1237 - val_accuracy: 0.5610\n",
            "Epoch 9/200\n",
            "157/157 [==============================] - 1s 7ms/step - loss: 1.0079 - accuracy: 0.6128 - val_loss: 0.9903 - val_accuracy: 0.6130\n",
            "Epoch 10/200\n",
            "157/157 [==============================] - 1s 7ms/step - loss: 0.9822 - accuracy: 0.6210 - val_loss: 0.9730 - val_accuracy: 0.6130\n",
            "Epoch 11/200\n",
            "157/157 [==============================] - 1s 7ms/step - loss: 0.9577 - accuracy: 0.6317 - val_loss: 0.9219 - val_accuracy: 0.6542\n",
            "Epoch 12/200\n",
            "157/157 [==============================] - 1s 7ms/step - loss: 0.9376 - accuracy: 0.6378 - val_loss: 0.9398 - val_accuracy: 0.6231\n",
            "Epoch 13/200\n",
            "157/157 [==============================] - 1s 7ms/step - loss: 0.9183 - accuracy: 0.6445 - val_loss: 0.9937 - val_accuracy: 0.6057\n",
            "Epoch 14/200\n",
            "157/157 [==============================] - 1s 7ms/step - loss: 0.8991 - accuracy: 0.6518 - val_loss: 0.9059 - val_accuracy: 0.6350\n",
            "Epoch 15/200\n",
            "157/157 [==============================] - 1s 7ms/step - loss: 0.8889 - accuracy: 0.6540 - val_loss: 0.8623 - val_accuracy: 0.6717\n",
            "Epoch 16/200\n",
            "157/157 [==============================] - 1s 7ms/step - loss: 0.8774 - accuracy: 0.6608 - val_loss: 0.8527 - val_accuracy: 0.6772\n",
            "Epoch 17/200\n",
            "157/157 [==============================] - 1s 7ms/step - loss: 0.8601 - accuracy: 0.6635 - val_loss: 0.8538 - val_accuracy: 0.6589\n",
            "Epoch 18/200\n",
            "157/157 [==============================] - 1s 7ms/step - loss: 0.8500 - accuracy: 0.6707 - val_loss: 0.8265 - val_accuracy: 0.6928\n",
            "Epoch 19/200\n",
            "157/157 [==============================] - 1s 7ms/step - loss: 0.8375 - accuracy: 0.6759 - val_loss: 0.8238 - val_accuracy: 0.6765\n",
            "Epoch 20/200\n",
            "157/157 [==============================] - 1s 7ms/step - loss: 0.8265 - accuracy: 0.6798 - val_loss: 0.8005 - val_accuracy: 0.7034\n",
            "Epoch 21/200\n",
            "157/157 [==============================] - 1s 7ms/step - loss: 0.8217 - accuracy: 0.6804 - val_loss: 0.7959 - val_accuracy: 0.7017\n",
            "Epoch 22/200\n",
            "157/157 [==============================] - 1s 7ms/step - loss: 0.8096 - accuracy: 0.6855 - val_loss: 0.9017 - val_accuracy: 0.6255\n",
            "Epoch 23/200\n",
            "157/157 [==============================] - 1s 7ms/step - loss: 0.8114 - accuracy: 0.6875 - val_loss: 0.7798 - val_accuracy: 0.7117\n",
            "Epoch 24/200\n",
            "157/157 [==============================] - 1s 7ms/step - loss: 0.7937 - accuracy: 0.6923 - val_loss: 0.7779 - val_accuracy: 0.7065\n",
            "Epoch 25/200\n",
            "157/157 [==============================] - 1s 7ms/step - loss: 0.7876 - accuracy: 0.6948 - val_loss: 0.7676 - val_accuracy: 0.7101\n",
            "Epoch 26/200\n",
            "157/157 [==============================] - 1s 7ms/step - loss: 0.7861 - accuracy: 0.6936 - val_loss: 0.7631 - val_accuracy: 0.7085\n",
            "Epoch 27/200\n",
            "157/157 [==============================] - 1s 7ms/step - loss: 0.7765 - accuracy: 0.6970 - val_loss: 0.7493 - val_accuracy: 0.7161\n",
            "Epoch 28/200\n",
            "157/157 [==============================] - 1s 7ms/step - loss: 0.7724 - accuracy: 0.6964 - val_loss: 0.7999 - val_accuracy: 0.6628\n",
            "Epoch 29/200\n",
            "157/157 [==============================] - 1s 7ms/step - loss: 0.7698 - accuracy: 0.7038 - val_loss: 0.7463 - val_accuracy: 0.7183\n",
            "Epoch 30/200\n",
            "157/157 [==============================] - 1s 7ms/step - loss: 0.7559 - accuracy: 0.7058 - val_loss: 0.7801 - val_accuracy: 0.6938\n",
            "Epoch 31/200\n",
            "157/157 [==============================] - 1s 7ms/step - loss: 0.7525 - accuracy: 0.7054 - val_loss: 0.7400 - val_accuracy: 0.7076\n",
            "Epoch 32/200\n",
            "157/157 [==============================] - 1s 7ms/step - loss: 0.7658 - accuracy: 0.7053 - val_loss: 0.7229 - val_accuracy: 0.7359\n",
            "Epoch 33/200\n",
            "157/157 [==============================] - 1s 7ms/step - loss: 0.7419 - accuracy: 0.7148 - val_loss: 0.7395 - val_accuracy: 0.6985\n",
            "Epoch 34/200\n",
            "157/157 [==============================] - 1s 7ms/step - loss: 0.7412 - accuracy: 0.7141 - val_loss: 0.7667 - val_accuracy: 0.6712\n",
            "Epoch 35/200\n",
            "157/157 [==============================] - 1s 7ms/step - loss: 0.7334 - accuracy: 0.7142 - val_loss: 0.7119 - val_accuracy: 0.7323\n",
            "Epoch 36/200\n",
            "157/157 [==============================] - 1s 7ms/step - loss: 0.7311 - accuracy: 0.7164 - val_loss: 0.7889 - val_accuracy: 0.6666\n",
            "Epoch 37/200\n",
            "157/157 [==============================] - 1s 7ms/step - loss: 0.7351 - accuracy: 0.7159 - val_loss: 0.6941 - val_accuracy: 0.7454\n",
            "Epoch 38/200\n",
            "157/157 [==============================] - 1s 7ms/step - loss: 0.7229 - accuracy: 0.7215 - val_loss: 0.6876 - val_accuracy: 0.7502\n",
            "Epoch 39/200\n",
            "157/157 [==============================] - 1s 7ms/step - loss: 0.7251 - accuracy: 0.7171 - val_loss: 0.7068 - val_accuracy: 0.7347\n",
            "Epoch 40/200\n",
            "157/157 [==============================] - 1s 7ms/step - loss: 0.7169 - accuracy: 0.7225 - val_loss: 0.6886 - val_accuracy: 0.7493\n",
            "Epoch 41/200\n",
            "157/157 [==============================] - 1s 7ms/step - loss: 0.7096 - accuracy: 0.7264 - val_loss: 0.8662 - val_accuracy: 0.6587\n",
            "Epoch 42/200\n",
            "157/157 [==============================] - 1s 7ms/step - loss: 0.7063 - accuracy: 0.7265 - val_loss: 0.6827 - val_accuracy: 0.7415\n",
            "Epoch 43/200\n",
            "157/157 [==============================] - 1s 7ms/step - loss: 0.7124 - accuracy: 0.7243 - val_loss: 0.7741 - val_accuracy: 0.6672\n",
            "Epoch 44/200\n",
            "157/157 [==============================] - 1s 7ms/step - loss: 0.7001 - accuracy: 0.7259 - val_loss: 0.6731 - val_accuracy: 0.7516\n",
            "Epoch 45/200\n",
            "157/157 [==============================] - 1s 7ms/step - loss: 0.6975 - accuracy: 0.7276 - val_loss: 0.6625 - val_accuracy: 0.7606\n",
            "Epoch 46/200\n",
            "157/157 [==============================] - 1s 8ms/step - loss: 0.7135 - accuracy: 0.7238 - val_loss: 0.7044 - val_accuracy: 0.7153\n",
            "Epoch 47/200\n",
            "157/157 [==============================] - 1s 7ms/step - loss: 0.6816 - accuracy: 0.7406 - val_loss: 0.6613 - val_accuracy: 0.7536\n",
            "Epoch 48/200\n",
            "157/157 [==============================] - 1s 7ms/step - loss: 0.6858 - accuracy: 0.7319 - val_loss: 0.6534 - val_accuracy: 0.7592\n",
            "Epoch 49/200\n",
            "157/157 [==============================] - 1s 7ms/step - loss: 0.6835 - accuracy: 0.7330 - val_loss: 0.6549 - val_accuracy: 0.7535\n",
            "Epoch 50/200\n",
            "157/157 [==============================] - 1s 7ms/step - loss: 0.6780 - accuracy: 0.7366 - val_loss: 0.7306 - val_accuracy: 0.7100\n",
            "Epoch 51/200\n",
            "157/157 [==============================] - 1s 7ms/step - loss: 0.6767 - accuracy: 0.7365 - val_loss: 0.6813 - val_accuracy: 0.7251\n",
            "Epoch 52/200\n",
            "157/157 [==============================] - 1s 7ms/step - loss: 0.6735 - accuracy: 0.7369 - val_loss: 0.7613 - val_accuracy: 0.6891\n",
            "Epoch 53/200\n",
            "157/157 [==============================] - 1s 7ms/step - loss: 0.6711 - accuracy: 0.7377 - val_loss: 0.7367 - val_accuracy: 0.6802\n",
            "Epoch 54/200\n",
            "157/157 [==============================] - 1s 7ms/step - loss: 0.6651 - accuracy: 0.7407 - val_loss: 0.6348 - val_accuracy: 0.7574\n",
            "Epoch 55/200\n",
            "157/157 [==============================] - 1s 7ms/step - loss: 0.6601 - accuracy: 0.7407 - val_loss: 0.6550 - val_accuracy: 0.7404\n",
            "Epoch 56/200\n",
            "157/157 [==============================] - 1s 7ms/step - loss: 0.6624 - accuracy: 0.7398 - val_loss: 0.7275 - val_accuracy: 0.7037\n",
            "Epoch 57/200\n",
            "157/157 [==============================] - 1s 7ms/step - loss: 0.6550 - accuracy: 0.7425 - val_loss: 0.7016 - val_accuracy: 0.7116\n",
            "Epoch 58/200\n",
            "157/157 [==============================] - 1s 7ms/step - loss: 0.6473 - accuracy: 0.7484 - val_loss: 1.0779 - val_accuracy: 0.6436\n",
            "Epoch 59/200\n",
            "157/157 [==============================] - 1s 7ms/step - loss: 0.6571 - accuracy: 0.7426 - val_loss: 0.6147 - val_accuracy: 0.7689\n",
            "Epoch 60/200\n",
            "157/157 [==============================] - 1s 7ms/step - loss: 0.6353 - accuracy: 0.7516 - val_loss: 0.7207 - val_accuracy: 0.6917\n",
            "Epoch 61/200\n",
            "157/157 [==============================] - 1s 7ms/step - loss: 0.6389 - accuracy: 0.7486 - val_loss: 0.6563 - val_accuracy: 0.7165\n",
            "Epoch 62/200\n",
            "157/157 [==============================] - 1s 7ms/step - loss: 0.6344 - accuracy: 0.7497 - val_loss: 0.5949 - val_accuracy: 0.7801\n",
            "Epoch 63/200\n",
            "157/157 [==============================] - 1s 7ms/step - loss: 0.6283 - accuracy: 0.7537 - val_loss: 0.6487 - val_accuracy: 0.7318\n",
            "Epoch 64/200\n",
            "157/157 [==============================] - 1s 7ms/step - loss: 0.6231 - accuracy: 0.7554 - val_loss: 0.6237 - val_accuracy: 0.7495\n",
            "Epoch 65/200\n",
            "157/157 [==============================] - 1s 7ms/step - loss: 0.6201 - accuracy: 0.7562 - val_loss: 0.6187 - val_accuracy: 0.7472\n",
            "Epoch 66/200\n",
            "157/157 [==============================] - 1s 7ms/step - loss: 0.6216 - accuracy: 0.7529 - val_loss: 0.5909 - val_accuracy: 0.7752\n",
            "Epoch 67/200\n",
            "157/157 [==============================] - 1s 7ms/step - loss: 0.6020 - accuracy: 0.7618 - val_loss: 0.6670 - val_accuracy: 0.7102\n",
            "Epoch 68/200\n",
            "157/157 [==============================] - 1s 7ms/step - loss: 0.6126 - accuracy: 0.7542 - val_loss: 0.6060 - val_accuracy: 0.7653\n",
            "Epoch 69/200\n",
            "157/157 [==============================] - 1s 7ms/step - loss: 0.5887 - accuracy: 0.7691 - val_loss: 0.5812 - val_accuracy: 0.7676\n",
            "Epoch 70/200\n",
            "157/157 [==============================] - 1s 7ms/step - loss: 0.6001 - accuracy: 0.7623 - val_loss: 0.6004 - val_accuracy: 0.7558\n",
            "Epoch 71/200\n",
            "157/157 [==============================] - 1s 7ms/step - loss: 0.5853 - accuracy: 0.7680 - val_loss: 0.5479 - val_accuracy: 0.7902\n",
            "Epoch 72/200\n",
            "157/157 [==============================] - 1s 7ms/step - loss: 0.5734 - accuracy: 0.7706 - val_loss: 0.5329 - val_accuracy: 0.8003\n",
            "Epoch 73/200\n",
            "157/157 [==============================] - 1s 7ms/step - loss: 0.5695 - accuracy: 0.7704 - val_loss: 0.8238 - val_accuracy: 0.6631\n",
            "Epoch 74/200\n",
            "157/157 [==============================] - 1s 7ms/step - loss: 0.5589 - accuracy: 0.7759 - val_loss: 0.5238 - val_accuracy: 0.8000\n",
            "Epoch 75/200\n",
            "157/157 [==============================] - 1s 7ms/step - loss: 0.5531 - accuracy: 0.7759 - val_loss: 0.5241 - val_accuracy: 0.7999\n",
            "Epoch 76/200\n",
            "157/157 [==============================] - 1s 7ms/step - loss: 0.5462 - accuracy: 0.7791 - val_loss: 0.5177 - val_accuracy: 0.7966\n",
            "Epoch 77/200\n",
            "157/157 [==============================] - 1s 7ms/step - loss: 0.5350 - accuracy: 0.7875 - val_loss: 0.5082 - val_accuracy: 0.8031\n",
            "Epoch 78/200\n",
            "157/157 [==============================] - 1s 7ms/step - loss: 0.5353 - accuracy: 0.7831 - val_loss: 0.5194 - val_accuracy: 0.7891\n",
            "Epoch 79/200\n",
            "157/157 [==============================] - 1s 7ms/step - loss: 0.5156 - accuracy: 0.7930 - val_loss: 0.4922 - val_accuracy: 0.8094\n",
            "Epoch 80/200\n",
            "157/157 [==============================] - 1s 8ms/step - loss: 0.5208 - accuracy: 0.7883 - val_loss: 0.5343 - val_accuracy: 0.7688\n",
            "Epoch 81/200\n",
            "157/157 [==============================] - 1s 8ms/step - loss: 0.5149 - accuracy: 0.7947 - val_loss: 0.4859 - val_accuracy: 0.8097\n",
            "Epoch 82/200\n",
            "157/157 [==============================] - 1s 8ms/step - loss: 0.4941 - accuracy: 0.8033 - val_loss: 0.4667 - val_accuracy: 0.8221\n",
            "Epoch 83/200\n",
            "157/157 [==============================] - 1s 8ms/step - loss: 0.5008 - accuracy: 0.7974 - val_loss: 0.4853 - val_accuracy: 0.8033\n",
            "Epoch 84/200\n",
            "157/157 [==============================] - 1s 8ms/step - loss: 0.4970 - accuracy: 0.8009 - val_loss: 0.4681 - val_accuracy: 0.8204\n",
            "Epoch 85/200\n",
            "157/157 [==============================] - 1s 8ms/step - loss: 0.4698 - accuracy: 0.8165 - val_loss: 0.4688 - val_accuracy: 0.8090\n",
            "Epoch 86/200\n",
            "157/157 [==============================] - 1s 8ms/step - loss: 0.4699 - accuracy: 0.8106 - val_loss: 0.5019 - val_accuracy: 0.7781\n",
            "Epoch 87/200\n",
            "157/157 [==============================] - 1s 8ms/step - loss: 0.4662 - accuracy: 0.8136 - val_loss: 0.4670 - val_accuracy: 0.8134\n",
            "Epoch 88/200\n",
            "157/157 [==============================] - 1s 8ms/step - loss: 0.4960 - accuracy: 0.8072 - val_loss: 0.4599 - val_accuracy: 0.8116\n",
            "Epoch 89/200\n",
            "157/157 [==============================] - 1s 8ms/step - loss: 0.4312 - accuracy: 0.8389 - val_loss: 0.4438 - val_accuracy: 0.8239\n",
            "Epoch 90/200\n",
            "157/157 [==============================] - 1s 8ms/step - loss: 0.4406 - accuracy: 0.8262 - val_loss: 0.4203 - val_accuracy: 0.8419\n",
            "Epoch 91/200\n",
            "157/157 [==============================] - 1s 7ms/step - loss: 0.4290 - accuracy: 0.8373 - val_loss: 0.4009 - val_accuracy: 0.8606\n",
            "Epoch 92/200\n",
            "157/157 [==============================] - 1s 7ms/step - loss: 0.4287 - accuracy: 0.8380 - val_loss: 0.3914 - val_accuracy: 0.8652\n",
            "Epoch 93/200\n",
            "157/157 [==============================] - 1s 7ms/step - loss: 0.4386 - accuracy: 0.8388 - val_loss: 0.3849 - val_accuracy: 0.8710\n",
            "Epoch 94/200\n",
            "157/157 [==============================] - 1s 7ms/step - loss: 0.3924 - accuracy: 0.8576 - val_loss: 0.4046 - val_accuracy: 0.8370\n",
            "Epoch 95/200\n",
            "157/157 [==============================] - 1s 7ms/step - loss: 0.3961 - accuracy: 0.8509 - val_loss: 0.3820 - val_accuracy: 0.8629\n",
            "Epoch 96/200\n",
            "157/157 [==============================] - 1s 7ms/step - loss: 0.3795 - accuracy: 0.8613 - val_loss: 0.7116 - val_accuracy: 0.7118\n",
            "Epoch 97/200\n",
            "157/157 [==============================] - 1s 7ms/step - loss: 0.4019 - accuracy: 0.8636 - val_loss: 0.3463 - val_accuracy: 0.8884\n",
            "Epoch 98/200\n",
            "157/157 [==============================] - 1s 7ms/step - loss: 0.3615 - accuracy: 0.8701 - val_loss: 0.3888 - val_accuracy: 0.8461\n",
            "Epoch 99/200\n",
            "157/157 [==============================] - 1s 7ms/step - loss: 0.3985 - accuracy: 0.8636 - val_loss: 0.4692 - val_accuracy: 0.8115\n",
            "Epoch 100/200\n",
            "157/157 [==============================] - 1s 7ms/step - loss: 0.3337 - accuracy: 0.8923 - val_loss: 0.3305 - val_accuracy: 0.8948\n",
            "Epoch 101/200\n",
            "157/157 [==============================] - 1s 7ms/step - loss: 0.3364 - accuracy: 0.8853 - val_loss: 0.3641 - val_accuracy: 0.8528\n",
            "Epoch 102/200\n",
            "157/157 [==============================] - 1s 7ms/step - loss: 0.3287 - accuracy: 0.8859 - val_loss: 0.3212 - val_accuracy: 0.8896\n",
            "Epoch 103/200\n",
            "157/157 [==============================] - 1s 7ms/step - loss: 0.3112 - accuracy: 0.8974 - val_loss: 0.3627 - val_accuracy: 0.8433\n",
            "Epoch 104/200\n",
            "157/157 [==============================] - 1s 7ms/step - loss: 0.3230 - accuracy: 0.8858 - val_loss: 0.3870 - val_accuracy: 0.8424\n",
            "Epoch 105/200\n",
            "157/157 [==============================] - 1s 7ms/step - loss: 0.2975 - accuracy: 0.9014 - val_loss: 0.2801 - val_accuracy: 0.9160\n",
            "Epoch 106/200\n",
            "157/157 [==============================] - 1s 7ms/step - loss: 0.3099 - accuracy: 0.8880 - val_loss: 0.2881 - val_accuracy: 0.9031\n",
            "Epoch 107/200\n",
            "157/157 [==============================] - 1s 7ms/step - loss: 0.2708 - accuracy: 0.9171 - val_loss: 0.2881 - val_accuracy: 0.9012\n",
            "Epoch 108/200\n",
            "157/157 [==============================] - 1s 7ms/step - loss: 0.2727 - accuracy: 0.9106 - val_loss: 0.2479 - val_accuracy: 0.9326\n",
            "Epoch 109/200\n",
            "157/157 [==============================] - 1s 7ms/step - loss: 0.2667 - accuracy: 0.9129 - val_loss: 0.2491 - val_accuracy: 0.9255\n",
            "Epoch 110/200\n",
            "157/157 [==============================] - 1s 7ms/step - loss: 0.2710 - accuracy: 0.9132 - val_loss: 0.3297 - val_accuracy: 0.8741\n",
            "Epoch 111/200\n",
            "157/157 [==============================] - 1s 7ms/step - loss: 0.2591 - accuracy: 0.9108 - val_loss: 0.2371 - val_accuracy: 0.9281\n",
            "Epoch 112/200\n",
            "157/157 [==============================] - 1s 8ms/step - loss: 0.2672 - accuracy: 0.9057 - val_loss: 0.2258 - val_accuracy: 0.9392\n",
            "Epoch 113/200\n",
            "157/157 [==============================] - 1s 8ms/step - loss: 0.2273 - accuracy: 0.9341 - val_loss: 0.2154 - val_accuracy: 0.9470\n",
            "Epoch 114/200\n",
            "157/157 [==============================] - 1s 7ms/step - loss: 0.2390 - accuracy: 0.9206 - val_loss: 0.2338 - val_accuracy: 0.9195\n",
            "Epoch 115/200\n",
            "157/157 [==============================] - 1s 7ms/step - loss: 0.2364 - accuracy: 0.9207 - val_loss: 0.2180 - val_accuracy: 0.9341\n",
            "Epoch 116/200\n",
            "157/157 [==============================] - 1s 8ms/step - loss: 0.2231 - accuracy: 0.9303 - val_loss: 0.1989 - val_accuracy: 0.9511\n",
            "Epoch 117/200\n",
            "157/157 [==============================] - 1s 8ms/step - loss: 0.2230 - accuracy: 0.9267 - val_loss: 0.2084 - val_accuracy: 0.9384\n",
            "Epoch 118/200\n",
            "157/157 [==============================] - 1s 7ms/step - loss: 0.2129 - accuracy: 0.9323 - val_loss: 0.2280 - val_accuracy: 0.9125\n",
            "Epoch 119/200\n",
            "157/157 [==============================] - 1s 8ms/step - loss: 0.2183 - accuracy: 0.9255 - val_loss: 0.1916 - val_accuracy: 0.9515\n",
            "Epoch 120/200\n",
            "157/157 [==============================] - 1s 7ms/step - loss: 0.2046 - accuracy: 0.9355 - val_loss: 0.1864 - val_accuracy: 0.9528\n",
            "Epoch 121/200\n",
            "157/157 [==============================] - 1s 7ms/step - loss: 0.2030 - accuracy: 0.9375 - val_loss: 0.2921 - val_accuracy: 0.8773\n",
            "Epoch 122/200\n",
            "157/157 [==============================] - 1s 7ms/step - loss: 0.2226 - accuracy: 0.9240 - val_loss: 0.1752 - val_accuracy: 0.9578\n",
            "Epoch 123/200\n",
            "157/157 [==============================] - 1s 7ms/step - loss: 0.2007 - accuracy: 0.9342 - val_loss: 0.1689 - val_accuracy: 0.9633\n",
            "Epoch 124/200\n",
            "157/157 [==============================] - 1s 7ms/step - loss: 0.1762 - accuracy: 0.9525 - val_loss: 0.1715 - val_accuracy: 0.9556\n",
            "Epoch 125/200\n",
            "157/157 [==============================] - 1s 7ms/step - loss: 0.2195 - accuracy: 0.9230 - val_loss: 0.1624 - val_accuracy: 0.9650\n",
            "Epoch 126/200\n",
            "157/157 [==============================] - 1s 7ms/step - loss: 0.1791 - accuracy: 0.9487 - val_loss: 0.1819 - val_accuracy: 0.9459\n",
            "Epoch 127/200\n",
            "157/157 [==============================] - 1s 7ms/step - loss: 0.1730 - accuracy: 0.9494 - val_loss: 0.1602 - val_accuracy: 0.9615\n",
            "Epoch 128/200\n",
            "157/157 [==============================] - 1s 7ms/step - loss: 0.1953 - accuracy: 0.9299 - val_loss: 0.1575 - val_accuracy: 0.9650\n",
            "Epoch 129/200\n",
            "157/157 [==============================] - 1s 7ms/step - loss: 0.1575 - accuracy: 0.9613 - val_loss: 0.1617 - val_accuracy: 0.9549\n",
            "Epoch 130/200\n",
            "157/157 [==============================] - 1s 7ms/step - loss: 0.1706 - accuracy: 0.9523 - val_loss: 0.1666 - val_accuracy: 0.9533\n",
            "Epoch 131/200\n",
            "157/157 [==============================] - 1s 7ms/step - loss: 0.1734 - accuracy: 0.9459 - val_loss: 0.1706 - val_accuracy: 0.9425\n",
            "Epoch 132/200\n",
            "157/157 [==============================] - 1s 7ms/step - loss: 0.1684 - accuracy: 0.9470 - val_loss: 0.3673 - val_accuracy: 0.8929\n",
            "Epoch 133/200\n",
            "157/157 [==============================] - 1s 7ms/step - loss: 0.2223 - accuracy: 0.9325 - val_loss: 0.1447 - val_accuracy: 0.9672\n",
            "Epoch 134/200\n",
            "157/157 [==============================] - 1s 7ms/step - loss: 0.1385 - accuracy: 0.9718 - val_loss: 0.1390 - val_accuracy: 0.9690\n",
            "Epoch 135/200\n",
            "157/157 [==============================] - 1s 7ms/step - loss: 0.1582 - accuracy: 0.9510 - val_loss: 0.1356 - val_accuracy: 0.9710\n",
            "Epoch 136/200\n",
            "157/157 [==============================] - 1s 7ms/step - loss: 0.1713 - accuracy: 0.9443 - val_loss: 0.1351 - val_accuracy: 0.9722\n",
            "Epoch 137/200\n",
            "157/157 [==============================] - 1s 7ms/step - loss: 0.1570 - accuracy: 0.9477 - val_loss: 0.1812 - val_accuracy: 0.9312\n",
            "Epoch 138/200\n",
            "157/157 [==============================] - 1s 7ms/step - loss: 0.1396 - accuracy: 0.9640 - val_loss: 0.1380 - val_accuracy: 0.9669\n",
            "Epoch 139/200\n",
            "157/157 [==============================] - 1s 7ms/step - loss: 0.1975 - accuracy: 0.9361 - val_loss: 0.2068 - val_accuracy: 0.9135\n",
            "Epoch 140/200\n",
            "157/157 [==============================] - 1s 7ms/step - loss: 0.1585 - accuracy: 0.9484 - val_loss: 0.1353 - val_accuracy: 0.9683\n",
            "Epoch 141/200\n",
            "157/157 [==============================] - 1s 7ms/step - loss: 0.1380 - accuracy: 0.9626 - val_loss: 0.1811 - val_accuracy: 0.9258\n",
            "Epoch 142/200\n",
            "157/157 [==============================] - 1s 7ms/step - loss: 0.1470 - accuracy: 0.9536 - val_loss: 0.1316 - val_accuracy: 0.9685\n",
            "Epoch 143/200\n",
            "157/157 [==============================] - 1s 8ms/step - loss: 0.1410 - accuracy: 0.9573 - val_loss: 0.1196 - val_accuracy: 0.9780\n",
            "Epoch 144/200\n",
            "157/157 [==============================] - 1s 7ms/step - loss: 0.1426 - accuracy: 0.9548 - val_loss: 0.1237 - val_accuracy: 0.9752\n",
            "Epoch 145/200\n",
            "157/157 [==============================] - 1s 8ms/step - loss: 0.1539 - accuracy: 0.9540 - val_loss: 0.1375 - val_accuracy: 0.9601\n",
            "Epoch 146/200\n",
            "157/157 [==============================] - 1s 8ms/step - loss: 0.1218 - accuracy: 0.9729 - val_loss: 0.1139 - val_accuracy: 0.9810\n",
            "Epoch 147/200\n",
            "157/157 [==============================] - 1s 8ms/step - loss: 0.1440 - accuracy: 0.9510 - val_loss: 0.1182 - val_accuracy: 0.9756\n",
            "Epoch 148/200\n",
            "157/157 [==============================] - 1s 7ms/step - loss: 0.1616 - accuracy: 0.9440 - val_loss: 0.1207 - val_accuracy: 0.9743\n",
            "Epoch 149/200\n",
            "157/157 [==============================] - 1s 8ms/step - loss: 0.1147 - accuracy: 0.9775 - val_loss: 0.1132 - val_accuracy: 0.9780\n",
            "Epoch 150/200\n",
            "157/157 [==============================] - 1s 8ms/step - loss: 0.1397 - accuracy: 0.9562 - val_loss: 0.1447 - val_accuracy: 0.9500\n",
            "Epoch 151/200\n",
            "157/157 [==============================] - 1s 8ms/step - loss: 0.1370 - accuracy: 0.9592 - val_loss: 0.1713 - val_accuracy: 0.9306\n",
            "Epoch 152/200\n",
            "157/157 [==============================] - 1s 8ms/step - loss: 0.1446 - accuracy: 0.9557 - val_loss: 0.1289 - val_accuracy: 0.9601\n",
            "Epoch 153/200\n",
            "157/157 [==============================] - 1s 8ms/step - loss: 0.1206 - accuracy: 0.9686 - val_loss: 0.1415 - val_accuracy: 0.9463\n",
            "Epoch 154/200\n",
            "157/157 [==============================] - 1s 8ms/step - loss: 0.1354 - accuracy: 0.9570 - val_loss: 0.1018 - val_accuracy: 0.9851\n",
            "Epoch 155/200\n",
            "157/157 [==============================] - 1s 8ms/step - loss: 0.1354 - accuracy: 0.9615 - val_loss: 0.1587 - val_accuracy: 0.9425\n",
            "Epoch 156/200\n",
            "157/157 [==============================] - 1s 8ms/step - loss: 0.1184 - accuracy: 0.9694 - val_loss: 0.1899 - val_accuracy: 0.9161\n",
            "Epoch 157/200\n",
            "157/157 [==============================] - 1s 7ms/step - loss: 0.1177 - accuracy: 0.9686 - val_loss: 0.1032 - val_accuracy: 0.9802\n",
            "Epoch 158/200\n",
            "157/157 [==============================] - 1s 8ms/step - loss: 0.1387 - accuracy: 0.9612 - val_loss: 0.0988 - val_accuracy: 0.9851\n",
            "Epoch 159/200\n",
            "157/157 [==============================] - 1s 8ms/step - loss: 0.1083 - accuracy: 0.9750 - val_loss: 0.2877 - val_accuracy: 0.8695\n",
            "Epoch 160/200\n",
            "157/157 [==============================] - 1s 8ms/step - loss: 0.1629 - accuracy: 0.9477 - val_loss: 0.1060 - val_accuracy: 0.9783\n",
            "Epoch 161/200\n",
            "157/157 [==============================] - 1s 8ms/step - loss: 0.1045 - accuracy: 0.9803 - val_loss: 0.6339 - val_accuracy: 0.8163\n",
            "Epoch 162/200\n",
            "157/157 [==============================] - 1s 8ms/step - loss: 0.1325 - accuracy: 0.9605 - val_loss: 0.1253 - val_accuracy: 0.9618\n",
            "Epoch 163/200\n",
            "157/157 [==============================] - 1s 8ms/step - loss: 0.1166 - accuracy: 0.9692 - val_loss: 0.1008 - val_accuracy: 0.9784\n",
            "Epoch 164/200\n",
            "157/157 [==============================] - 1s 8ms/step - loss: 0.1104 - accuracy: 0.9729 - val_loss: 0.1059 - val_accuracy: 0.9730\n",
            "Epoch 165/200\n",
            "157/157 [==============================] - 1s 8ms/step - loss: 0.1254 - accuracy: 0.9586 - val_loss: 0.1315 - val_accuracy: 0.9535\n",
            "Epoch 166/200\n",
            "157/157 [==============================] - 1s 8ms/step - loss: 0.0943 - accuracy: 0.9845 - val_loss: 0.0997 - val_accuracy: 0.9789\n",
            "Epoch 167/200\n",
            "157/157 [==============================] - 1s 8ms/step - loss: 0.2915 - accuracy: 0.9256 - val_loss: 0.1006 - val_accuracy: 0.9820\n",
            "Epoch 168/200\n",
            "157/157 [==============================] - 1s 8ms/step - loss: 0.0908 - accuracy: 0.9880 - val_loss: 0.1079 - val_accuracy: 0.9760\n",
            "Epoch 169/200\n",
            "157/157 [==============================] - 1s 8ms/step - loss: 0.0904 - accuracy: 0.9867 - val_loss: 0.0889 - val_accuracy: 0.9877\n",
            "Epoch 170/200\n",
            "157/157 [==============================] - 1s 8ms/step - loss: 0.0970 - accuracy: 0.9798 - val_loss: 0.0865 - val_accuracy: 0.9897\n",
            "Epoch 171/200\n",
            "157/157 [==============================] - 1s 8ms/step - loss: 0.1244 - accuracy: 0.9639 - val_loss: 0.0892 - val_accuracy: 0.9861\n",
            "Epoch 172/200\n",
            "157/157 [==============================] - 1s 8ms/step - loss: 0.1033 - accuracy: 0.9803 - val_loss: 0.1363 - val_accuracy: 0.9477\n",
            "Epoch 173/200\n",
            "157/157 [==============================] - 1s 8ms/step - loss: 0.1652 - accuracy: 0.9449 - val_loss: 0.1737 - val_accuracy: 0.9351\n",
            "Epoch 174/200\n",
            "157/157 [==============================] - 1s 8ms/step - loss: 0.0956 - accuracy: 0.9825 - val_loss: 0.0887 - val_accuracy: 0.9870\n",
            "Epoch 175/200\n",
            "157/157 [==============================] - 1s 8ms/step - loss: 0.1149 - accuracy: 0.9730 - val_loss: 0.1202 - val_accuracy: 0.9603\n",
            "Epoch 176/200\n",
            "157/157 [==============================] - 1s 8ms/step - loss: 0.1025 - accuracy: 0.9745 - val_loss: 0.0947 - val_accuracy: 0.9798\n",
            "Epoch 177/200\n",
            "157/157 [==============================] - 1s 8ms/step - loss: 0.0854 - accuracy: 0.9869 - val_loss: 0.0936 - val_accuracy: 0.9788\n",
            "Epoch 178/200\n",
            "157/157 [==============================] - 1s 8ms/step - loss: 0.1330 - accuracy: 0.9655 - val_loss: 0.0802 - val_accuracy: 0.9913\n",
            "Epoch 179/200\n",
            "157/157 [==============================] - 1s 8ms/step - loss: 0.1045 - accuracy: 0.9742 - val_loss: 0.0887 - val_accuracy: 0.9856\n",
            "Epoch 180/200\n",
            "157/157 [==============================] - 1s 8ms/step - loss: 0.0905 - accuracy: 0.9811 - val_loss: 0.0873 - val_accuracy: 0.9847\n",
            "Epoch 181/200\n",
            "157/157 [==============================] - 1s 8ms/step - loss: 0.1095 - accuracy: 0.9717 - val_loss: 0.1082 - val_accuracy: 0.9609\n",
            "Epoch 182/200\n",
            "157/157 [==============================] - 1s 8ms/step - loss: 0.0835 - accuracy: 0.9864 - val_loss: 0.0984 - val_accuracy: 0.9745\n",
            "Epoch 183/200\n",
            "157/157 [==============================] - 1s 8ms/step - loss: 0.1506 - accuracy: 0.9542 - val_loss: 0.2848 - val_accuracy: 0.9028\n",
            "Epoch 184/200\n",
            "157/157 [==============================] - 1s 8ms/step - loss: 0.1362 - accuracy: 0.9611 - val_loss: 0.0862 - val_accuracy: 0.9877\n",
            "Epoch 185/200\n",
            "157/157 [==============================] - 1s 8ms/step - loss: 0.0804 - accuracy: 0.9897 - val_loss: 0.0811 - val_accuracy: 0.9867\n",
            "Epoch 186/200\n",
            "157/157 [==============================] - 1s 8ms/step - loss: 0.0774 - accuracy: 0.9898 - val_loss: 0.0755 - val_accuracy: 0.9918\n",
            "Epoch 187/200\n",
            "157/157 [==============================] - 1s 8ms/step - loss: 0.1236 - accuracy: 0.9692 - val_loss: 0.0762 - val_accuracy: 0.9913\n",
            "Epoch 188/200\n",
            "157/157 [==============================] - 1s 8ms/step - loss: 0.0950 - accuracy: 0.9784 - val_loss: 0.0966 - val_accuracy: 0.9730\n",
            "Epoch 189/200\n",
            "157/157 [==============================] - 1s 8ms/step - loss: 0.0931 - accuracy: 0.9766 - val_loss: 0.0847 - val_accuracy: 0.9843\n",
            "Epoch 190/200\n",
            "157/157 [==============================] - 1s 8ms/step - loss: 0.1341 - accuracy: 0.9649 - val_loss: 0.0880 - val_accuracy: 0.9818\n",
            "Epoch 191/200\n",
            "157/157 [==============================] - 1s 8ms/step - loss: 0.0772 - accuracy: 0.9897 - val_loss: 0.0906 - val_accuracy: 0.9833\n",
            "Epoch 192/200\n",
            "157/157 [==============================] - 1s 8ms/step - loss: 0.1054 - accuracy: 0.9784 - val_loss: 0.3328 - val_accuracy: 0.8491\n",
            "Epoch 193/200\n",
            "157/157 [==============================] - 1s 8ms/step - loss: 0.0844 - accuracy: 0.9836 - val_loss: 0.0782 - val_accuracy: 0.9863\n",
            "Epoch 194/200\n",
            "157/157 [==============================] - 1s 8ms/step - loss: 0.1585 - accuracy: 0.9666 - val_loss: 0.5749 - val_accuracy: 0.8481\n",
            "Epoch 195/200\n",
            "157/157 [==============================] - 1s 8ms/step - loss: 0.1678 - accuracy: 0.9536 - val_loss: 0.0966 - val_accuracy: 0.9836\n",
            "Epoch 196/200\n",
            "157/157 [==============================] - 1s 8ms/step - loss: 0.0762 - accuracy: 0.9906 - val_loss: 0.0763 - val_accuracy: 0.9879\n",
            "Epoch 197/200\n",
            "157/157 [==============================] - 1s 8ms/step - loss: 0.0717 - accuracy: 0.9918 - val_loss: 0.0748 - val_accuracy: 0.9903\n",
            "Epoch 198/200\n",
            "157/157 [==============================] - 1s 8ms/step - loss: 0.1361 - accuracy: 0.9671 - val_loss: 0.1032 - val_accuracy: 0.9660\n",
            "Epoch 199/200\n",
            "157/157 [==============================] - 1s 8ms/step - loss: 0.0715 - accuracy: 0.9914 - val_loss: 0.0714 - val_accuracy: 0.9906\n",
            "Epoch 200/200\n",
            "157/157 [==============================] - 1s 8ms/step - loss: 0.0673 - accuracy: 0.9936 - val_loss: 0.0713 - val_accuracy: 0.9905\n"
          ],
          "name": "stdout"
        }
      ]
    },
    {
      "cell_type": "markdown",
      "metadata": {
        "id": "Osm6ospglk_L"
      },
      "source": [
        "## 학습한 모델 동작 시키기"
      ]
    },
    {
      "cell_type": "code",
      "metadata": {
        "id": "g0DXwLHMU4Dh"
      },
      "source": [
        "## seq2seq without Attention\n",
        "# encoder_model = Model(inputs=encoder_inputs, outputs=encoder_states)\n",
        "## seq2seq with Attention\n",
        "encoder_model = Model(inputs=encoder_inputs, outputs=[encoder_outputs, encoder_states])"
      ],
      "execution_count": null,
      "outputs": []
    },
    {
      "cell_type": "code",
      "metadata": {
        "id": "bcg5LAfOly-Q"
      },
      "source": [
        "# encoder에서 넘어올 decoder input들 정의\n",
        "## seq2seq with Attention\n",
        "decoder_encoder_outputs = Input(shape=(None, hidden_node_size))\n",
        "## seq2seq without Attention\n",
        "decoder_state_input_h = Input(shape=(hidden_node_size,))\n",
        "decoder_state_input_c = Input(shape=(hidden_node_size,)) \n",
        "decoder_states_inputs = [decoder_state_input_h, decoder_state_input_c]\n",
        "\n",
        "# 모델 동작 시에는 다음 단어 예측 시 넘겨줄 states들까지 정의 \n",
        "decoder_outputs, state_h, state_c = decoder_lstm(decoder_inputs, initial_state=decoder_states_inputs)\n",
        "decoder_states = [state_h, state_c]\n",
        "\n",
        "## seq2seq with Attention\n",
        "decoder_attention_output = decoder_attention([decoder_encoder_outputs, decoder_outputs])\n",
        "\n",
        "## seq2seq without Attention\n",
        "# decoder_outputs = decoder_softmax_layer(decoder_outputs)\n",
        "\n",
        "## seq2seq with Attention\n",
        "decoder_outputs = decoder_softmax_layer(decoder_outputs + decoder_attention_output)\n",
        "\n",
        "decoder_model = Model(inputs=([decoder_inputs] + decoder_states_inputs, decoder_encoder_outputs), \n",
        "                      outputs=[decoder_outputs] + decoder_states)"
      ],
      "execution_count": null,
      "outputs": []
    },
    {
      "cell_type": "code",
      "metadata": {
        "id": "cDlE4MO8m-1B",
        "outputId": "734a4c26-2dc1-4e34-aa12-8af9f25baa99",
        "colab": {
          "base_uri": "https://localhost:8080/",
          "height": 507
        }
      },
      "source": [
        "decoder_model.summary()"
      ],
      "execution_count": null,
      "outputs": [
        {
          "output_type": "stream",
          "text": [
            "Model: \"functional_19\"\n",
            "__________________________________________________________________________________________________\n",
            "Layer (type)                    Output Shape         Param #     Connected to                     \n",
            "==================================================================================================\n",
            "input_20 (InputLayer)           [(None, None, 12)]   0                                            \n",
            "__________________________________________________________________________________________________\n",
            "input_22 (InputLayer)           [(None, 128)]        0                                            \n",
            "__________________________________________________________________________________________________\n",
            "input_23 (InputLayer)           [(None, 128)]        0                                            \n",
            "__________________________________________________________________________________________________\n",
            "lstm_7 (LSTM)                   [(None, None, 128),  72192       input_20[0][0]                   \n",
            "                                                                 input_22[0][0]                   \n",
            "                                                                 input_23[0][0]                   \n",
            "__________________________________________________________________________________________________\n",
            "input_21 (InputLayer)           [(None, None, 128)]  0                                            \n",
            "__________________________________________________________________________________________________\n",
            "attention_5 (Attention)         (None, None, 128)    0           input_21[0][0]                   \n",
            "                                                                 lstm_7[1][0]                     \n",
            "__________________________________________________________________________________________________\n",
            "tf_op_layer_AddV2_5 (TensorFlow [(None, None, 128)]  0           lstm_7[1][0]                     \n",
            "                                                                 attention_5[1][0]                \n",
            "__________________________________________________________________________________________________\n",
            "dense_5 (Dense)                 (None, None, 12)     1548        tf_op_layer_AddV2_5[0][0]        \n",
            "==================================================================================================\n",
            "Total params: 73,740\n",
            "Trainable params: 73,740\n",
            "Non-trainable params: 0\n",
            "__________________________________________________________________________________________________\n"
          ],
          "name": "stdout"
        }
      ]
    },
    {
      "cell_type": "code",
      "metadata": {
        "id": "HW765Id84r54"
      },
      "source": [
        "##### 모델 확인용 (무시하면 되는 코드)#### \n",
        "# ## seq2seq without Attention\n",
        "# # encoder_model = Model(inputs=encoder_inputs, outputs=encoder_states)\n",
        "# ## seq2seq with Attention\n",
        "# encoder_model = Model(inputs=encoder_inputs, outputs=[encoder_outputs, encoder_states])\n",
        "\n",
        "## without Attention\n",
        "# decoder_model = Model(inputs=[decoder_inputs] + decoder_states_inputs, \n",
        "#                       outputs=[decoder_outputs] + decoder_states)\n",
        "\n",
        "## with Attention\n",
        "# decoder_model = Model(inputs=([decoder_inputs] + decoder_states_inputs, decoder_encoder_outputs), \n",
        "#                       outputs=[decoder_outputs] + decoder_states)"
      ],
      "execution_count": null,
      "outputs": []
    },
    {
      "cell_type": "code",
      "metadata": {
        "id": "oj9hXIicnduP"
      },
      "source": [
        "def decode_sentence(input_seq):\n",
        "  ## seq2seq without Attention\n",
        "  # states_value = encoder_model.predict(input_seq)\n",
        "  ## seq2seq with Attention\n",
        "  temp_out = encoder_model.predict(input_seq)\n",
        "  outputs_value, states_value = temp_out[0], temp_out[1]\n",
        "\n",
        "  # 문장의 시작을 알려주는 벡터 생성 => '_'\n",
        "  target_seq = np.zeros((1,1,tar_vocab_size))\n",
        "  target_seq[0, 0, item_to_id['_']] = 1.\n",
        "\n",
        "  # 종료조건 : '_' 가 나오거나, 길이가 5가 됨\n",
        "  stop_condition = False\n",
        "  decoded_sentence = \"\"\n",
        "\n",
        "  # 종료 조건까지 반복\n",
        "  while not stop_condition:  \n",
        "    ## seq2seq without Attention\n",
        "    # output_tokens, h, c = decoder_model.predict([target_seq] + states_value)\n",
        "    ## seq2seq with Attention \n",
        "    output_tokens, h, c = decoder_model.predict(([target_seq] + states_value, outputs_value) )\n",
        "    \n",
        "    # 예측 결과를 문자로 변환\n",
        "    sampled_token_index = np.argmax(output_tokens[0, -1, :]) \n",
        "    sampled_char = id_to_item[sampled_token_index]\n",
        "    decoded_sentence += sampled_char \n",
        "    \n",
        "    if sampled_char == '_' or len(decoded_sentence) > 5:\n",
        "      stop_condition = True\n",
        "    \n",
        "    states_value = [h, c]\n",
        "\n",
        "    target_seq = np.zeros((1, 1, tar_vocab_size))\n",
        "    target_seq[0, 0, sampled_token_index] = 1.\n",
        "  \n",
        "  return decoded_sentence"
      ],
      "execution_count": null,
      "outputs": []
    },
    {
      "cell_type": "code",
      "metadata": {
        "id": "jN-GZtcrqdVa",
        "outputId": "47dceeef-3c67-4c13-b809-5428b99cc30a",
        "colab": {
          "base_uri": "https://localhost:8080/",
          "height": 34
        }
      },
      "source": [
        "onehot_to_sentence(test_x[0], id_to_item)"
      ],
      "execution_count": null,
      "outputs": [
        {
          "output_type": "execute_result",
          "data": {
            "text/plain": [
              "['2', '5', '1', '+', '2', '2', '3']"
            ]
          },
          "metadata": {
            "tags": []
          },
          "execution_count": 78
        }
      ]
    },
    {
      "cell_type": "code",
      "metadata": {
        "id": "yacTZm4oqouJ"
      },
      "source": [
        "test_idxs = np.random.choice(list(range(len(test_x))), replace=False, size=5)"
      ],
      "execution_count": null,
      "outputs": []
    },
    {
      "cell_type": "code",
      "metadata": {
        "id": "kU-Valgqq6mt",
        "outputId": "7e050d46-5246-43d2-de39-525aeb11b6ea",
        "colab": {
          "base_uri": "https://localhost:8080/",
          "height": 367
        }
      },
      "source": [
        "for idx in test_idxs:\n",
        "  input_seq = test_x[idx:idx+1]\n",
        "  decoded_sentence = decode_sentence(input_seq)\n",
        "  print( 35 * '-')\n",
        "  print('입력 문장', onehot_to_sentence(test_x[idx], id_to_item ))\n",
        "  print('정답 문장', onehot_to_sentence(test_y[idx], id_to_item ))\n",
        "  print('모델이 예측한 문장', decoded_sentence[:-1] ) "
      ],
      "execution_count": null,
      "outputs": [
        {
          "output_type": "stream",
          "text": [
            "-----------------------------------\n",
            "입력 문장 ['2', '4', '1', '+', '6', '2', '0']\n",
            "정답 문장 ['_', '0', '8', '6', '1']\n",
            "모델이 예측한 문장 0879\n",
            "-----------------------------------\n",
            "입력 문장 ['9', '0', '9', '+', '5', '9', '4']\n",
            "정답 문장 ['_', '1', '5', '0', '3']\n",
            "모델이 예측한 문장 4577\n",
            "-----------------------------------\n",
            "입력 문장 ['7', '6', '8', '+', '5', '3', '0']\n",
            "정답 문장 ['_', '1', '2', '9', '8']\n",
            "모델이 예측한 문장 1477\n",
            "-----------------------------------\n",
            "입력 문장 ['5', '2', '4', '+', '5', '4', '5']\n",
            "정답 문장 ['_', '1', '0', '6', '9']\n",
            "모델이 예측한 문장 1978\n",
            "-----------------------------------\n",
            "입력 문장 ['8', '6', '7', '+', '8', '0', '1']\n",
            "정답 문장 ['_', '1', '6', '6', '8']\n",
            "모델이 예측한 문장 5677\n"
          ],
          "name": "stdout"
        }
      ]
    },
    {
      "cell_type": "code",
      "metadata": {
        "id": "RhlrAISAqBob",
        "outputId": "97cf8100-dabe-4717-cc40-7e80ff69a291",
        "colab": {
          "base_uri": "https://localhost:8080/",
          "height": 34
        }
      },
      "source": [
        "input_seq = test_x[0:1]\n",
        "decode_sentence(input_seq)"
      ],
      "execution_count": null,
      "outputs": [
        {
          "output_type": "execute_result",
          "data": {
            "application/vnd.google.colaboratory.intrinsic+json": {
              "type": "string"
            },
            "text/plain": [
              "'0577_'"
            ]
          },
          "metadata": {
            "tags": []
          },
          "execution_count": 81
        }
      ]
    },
    {
      "cell_type": "code",
      "metadata": {
        "id": "24eaUIia5xrO"
      },
      "source": [
        ""
      ],
      "execution_count": null,
      "outputs": []
    }
  ]
}