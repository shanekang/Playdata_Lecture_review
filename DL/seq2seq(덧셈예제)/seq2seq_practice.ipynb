{
  "nbformat": 4,
  "nbformat_minor": 0,
  "metadata": {
    "colab": {
      "name": "seq2seq_practice.ipynb",
      "provenance": [],
      "collapsed_sections": []
    },
    "kernelspec": {
      "name": "python3",
      "display_name": "Python 3"
    }
  },
  "cells": [
    {
      "cell_type": "markdown",
      "metadata": {
        "id": "HLo2DV6D52eH"
      },
      "source": [
        "* 덧셈 데이터 구성\n",
        "* seq2seq Encoder / Decoder 정의\n",
        "* 학습\n",
        "* 평가 (예측)"
      ]
    },
    {
      "cell_type": "markdown",
      "metadata": {
        "id": "sZWGDeYc5-kV"
      },
      "source": [
        "## 덧셈 데이터 구성"
      ]
    },
    {
      "cell_type": "code",
      "metadata": {
        "id": "scmpb8sP5uXP"
      },
      "source": [
        "# 최대 세자리수끼리 합을 구하는 데이터"
      ],
      "execution_count": null,
      "outputs": []
    },
    {
      "cell_type": "code",
      "metadata": {
        "id": "h3U23zLN6KoM"
      },
      "source": [
        "import numpy as np"
      ],
      "execution_count": null,
      "outputs": []
    },
    {
      "cell_type": "code",
      "metadata": {
        "id": "Yl9fTkEp6LcH"
      },
      "source": [
        "# 99 + 1 => '9','9','+','1'"
      ],
      "execution_count": null,
      "outputs": []
    },
    {
      "cell_type": "code",
      "metadata": {
        "id": "ZXTggaze8Twm"
      },
      "source": [
        "def get_sum_dict():\n",
        "  items = list(str(x) for x in range(10))\n",
        "  items.append('_')\n",
        "  items.append('+')\n",
        "\n",
        "  id_to_item = {}\n",
        "  for idx, item in enumerate(items):\n",
        "    id_to_item[idx]=item\n",
        "  \n",
        "  item_to_id = dict([(value, key) for key, value in id_to_item.items()])\n",
        "\n",
        "  return id_to_item, item_to_id"
      ],
      "execution_count": null,
      "outputs": []
    },
    {
      "cell_type": "code",
      "metadata": {
        "id": "dCYYlfqD98-2"
      },
      "source": [
        "def convert_item_to_id(items, item_to_id):\n",
        "  ids = list([item_to_id[item] for item in items])\n",
        "  return ids\n",
        "\n",
        "def convert_id_to_item(ids, id_to_item):\n",
        "  items = list([id_to_item[id] for id in ids])\n",
        "  return items"
      ],
      "execution_count": null,
      "outputs": []
    },
    {
      "cell_type": "code",
      "metadata": {
        "id": "Epo2vlgZ9ANe"
      },
      "source": [
        "def sum_data_gen():\n",
        "  num1 = np.random.randint(0,1000)\n",
        "  num2 = np.random.randint(0,1000)\n",
        "  ans = num1 + num2\n",
        "  q_str = str(num1) + '+' + str(num2)\n",
        "  a_str = '_' + str(ans).zfill(4)\n",
        "  return list(q_str), list(a_str)"
      ],
      "execution_count": null,
      "outputs": []
    },
    {
      "cell_type": "code",
      "metadata": {
        "id": "7_zhoQ2I-8QB"
      },
      "source": [
        "def get_dataset(data_num=100):\n",
        "  id_to_item, item_to_id = get_sum_dict()\n",
        "  xs = []\n",
        "  ys = []\n",
        "  for i in range(data_num):\n",
        "    x, y = sum_data_gen()\n",
        "    xs.append(convert_item_to_id(x, item_to_id))\n",
        "    ys.append(convert_item_to_id(y, item_to_id))\n",
        "  return xs, ys   "
      ],
      "execution_count": null,
      "outputs": []
    },
    {
      "cell_type": "code",
      "metadata": {
        "id": "e3P5Fxbe_S3K"
      },
      "source": [
        "train_x, train_y = get_dataset(data_num=20000)\n",
        "test_x, test_y = get_dataset(data_num=10000)\n",
        "id_to_item, item_to_id = get_sum_dict()"
      ],
      "execution_count": null,
      "outputs": []
    },
    {
      "cell_type": "code",
      "metadata": {
        "id": "bIMGE0x7AR7C"
      },
      "source": [
        "import tensorflow as tf"
      ],
      "execution_count": null,
      "outputs": []
    },
    {
      "cell_type": "code",
      "metadata": {
        "id": "0vq9YxB6AoJf"
      },
      "source": [
        "from tensorflow.keras.layers import Input, LSTM, Embedding, Dense\n",
        "from tensorflow.keras.models import Model, Sequential\n",
        "from tensorflow.keras.preprocessing.sequence import pad_sequences\n",
        "from tensorflow.keras.utils import to_categorical"
      ],
      "execution_count": null,
      "outputs": []
    },
    {
      "cell_type": "code",
      "metadata": {
        "id": "_LItE7KwBWYm"
      },
      "source": [
        "src_vocab_size = len(id_to_item) \n",
        "tar_vocab_size = len(id_to_item)"
      ],
      "execution_count": null,
      "outputs": []
    },
    {
      "cell_type": "code",
      "metadata": {
        "id": "hZNypIxwDwoO"
      },
      "source": [
        "train_x = pad_sequences(train_x, maxlen=7, padding='pre')\n",
        "test_x = pad_sequences(test_x, maxlen=7, padding='pre')\n",
        "train_y = pad_sequences(train_y, maxlen=5, padding='pre')\n",
        "test_y = pad_sequences(test_y, maxlen=5, padding='pre')"
      ],
      "execution_count": null,
      "outputs": []
    },
    {
      "cell_type": "code",
      "metadata": {
        "id": "AZJ730ySNsIE"
      },
      "source": [
        "train_y_t = train_y[:,1:]\n",
        "test_y_t = test_y[:,1:]\n",
        "\n",
        "train_y_t = pad_sequences(train_y_t, maxlen=5, padding='pre')\n",
        "test_y_t = pad_sequences(test_y_t, maxlen=5, padding='pre')"
      ],
      "execution_count": null,
      "outputs": []
    },
    {
      "cell_type": "code",
      "metadata": {
        "id": "5SIHfpcUDKKu"
      },
      "source": [
        "train_x = to_categorical(train_x, num_classes=vocab_size)\n",
        "test_x = to_categorical(test_x, num_classes=vocab_size)\n",
        "train_y = to_categorical(train_y, num_classes=vocab_size)\n",
        "test_y = to_categorical(test_y, num_classes=vocab_size)\n",
        "train_y_t = to_categorical(train_y_t, num_classes=vocab_size)\n",
        "test_y_t = to_categorical(test_y_t, num_classes=vocab_size)"
      ],
      "execution_count": null,
      "outputs": []
    },
    {
      "cell_type": "code",
      "metadata": {
        "id": "lZxmqLCeEARW",
        "outputId": "44047f4b-7852-4338-c5c1-c99152f05629",
        "colab": {
          "base_uri": "https://localhost:8080/",
          "height": 125
        }
      },
      "source": [
        "train_x.shape, test_x.shape, train_y.shape, test_y.shape, train_y_t.shape, test_y_t.shape"
      ],
      "execution_count": null,
      "outputs": [
        {
          "output_type": "execute_result",
          "data": {
            "text/plain": [
              "((20000, 7, 12),\n",
              " (10000, 7, 12),\n",
              " (20000, 5, 12),\n",
              " (10000, 5, 12),\n",
              " (20000, 5, 12),\n",
              " (10000, 5, 12))"
            ]
          },
          "metadata": {
            "tags": []
          },
          "execution_count": 139
        }
      ]
    },
    {
      "cell_type": "code",
      "metadata": {
        "id": "eR9lS5a_UuAR",
        "outputId": "a0011c86-a741-4376-c4c0-f9eee68e1222",
        "colab": {
          "base_uri": "https://localhost:8080/",
          "height": 215
        }
      },
      "source": [
        "train_y_t[:2]"
      ],
      "execution_count": null,
      "outputs": [
        {
          "output_type": "execute_result",
          "data": {
            "text/plain": [
              "array([[[1., 0., 0., 0., 0., 0., 0., 0., 0., 0., 0., 0.],\n",
              "        [1., 0., 0., 0., 0., 0., 0., 0., 0., 0., 0., 0.],\n",
              "        [0., 0., 0., 0., 0., 1., 0., 0., 0., 0., 0., 0.],\n",
              "        [0., 0., 0., 0., 0., 1., 0., 0., 0., 0., 0., 0.],\n",
              "        [0., 0., 0., 1., 0., 0., 0., 0., 0., 0., 0., 0.]],\n",
              "\n",
              "       [[1., 0., 0., 0., 0., 0., 0., 0., 0., 0., 0., 0.],\n",
              "        [1., 0., 0., 0., 0., 0., 0., 0., 0., 0., 0., 0.],\n",
              "        [0., 0., 1., 0., 0., 0., 0., 0., 0., 0., 0., 0.],\n",
              "        [0., 0., 1., 0., 0., 0., 0., 0., 0., 0., 0., 0.],\n",
              "        [0., 0., 0., 0., 0., 0., 1., 0., 0., 0., 0., 0.]]], dtype=float32)"
            ]
          },
          "metadata": {
            "tags": []
          },
          "execution_count": 140
        }
      ]
    },
    {
      "cell_type": "code",
      "metadata": {
        "id": "ssPTfqBIA6pO"
      },
      "source": [
        "# Encoder \n",
        "# encoder_input = Embedding(vocab_size, 5,  input_length=7)\n",
        "encoder_inputs = Input(shape=(None, src_vocab_size))\n",
        "encoder_lstm = LSTM(8, return_state=True)\n",
        "encoder_outputs, state_h, state_c = encoder_lstm(encoder_inputs)\n",
        "\n",
        "encoder_states = [state_h, state_c]"
      ],
      "execution_count": null,
      "outputs": []
    },
    {
      "cell_type": "code",
      "metadata": {
        "id": "UIwknhJ2BKKG"
      },
      "source": [
        "# Decoder\n",
        "decoder_inputs = Input(shape=(None, tar_vocab_size))\n",
        "decoder_lstm = LSTM(8, return_state=True, return_sequences=True)\n",
        "# output, h, c 자리인데, decoder의 h,c는 사용되지 않기 때문에 _ 로..\n",
        "decoder_outputs, _, _ = decoder_lstm(decoder_inputs, initial_state=encoder_states)\n",
        "\n",
        "decoder_softmax_layer = Dense(tar_vocab_size, activation='softmax')\n",
        "decoder_outputs = decoder_softmax_layer(decoder_outputs)\n",
        "\n",
        "# Model(input, output)\n",
        "model = Model([encoder_inputs, decoder_inputs], decoder_outputs)"
      ],
      "execution_count": null,
      "outputs": []
    },
    {
      "cell_type": "code",
      "metadata": {
        "id": "FOqOR1HyS688",
        "outputId": "16d2a5e6-c1ea-474a-e018-9dc1d0419e90",
        "colab": {
          "base_uri": "https://localhost:8080/",
          "height": 397
        }
      },
      "source": [
        "model.summary()"
      ],
      "execution_count": null,
      "outputs": [
        {
          "output_type": "stream",
          "text": [
            "Model: \"functional_3\"\n",
            "__________________________________________________________________________________________________\n",
            "Layer (type)                    Output Shape         Param #     Connected to                     \n",
            "==================================================================================================\n",
            "input_8 (InputLayer)            [(None, None, 12)]   0                                            \n",
            "__________________________________________________________________________________________________\n",
            "input_9 (InputLayer)            [(None, None, 12)]   0                                            \n",
            "__________________________________________________________________________________________________\n",
            "lstm_10 (LSTM)                  [(None, 8), (None, 8 672         input_8[0][0]                    \n",
            "__________________________________________________________________________________________________\n",
            "lstm_11 (LSTM)                  [(None, None, 8), (N 672         input_9[0][0]                    \n",
            "                                                                 lstm_10[0][1]                    \n",
            "                                                                 lstm_10[0][2]                    \n",
            "__________________________________________________________________________________________________\n",
            "dense_2 (Dense)                 (None, None, 12)     108         lstm_11[0][0]                    \n",
            "==================================================================================================\n",
            "Total params: 1,452\n",
            "Trainable params: 1,452\n",
            "Non-trainable params: 0\n",
            "__________________________________________________________________________________________________\n"
          ],
          "name": "stdout"
        }
      ]
    },
    {
      "cell_type": "code",
      "metadata": {
        "id": "ms5F70b5Tmxq"
      },
      "source": [
        "# train_x.shape, test_x.shape, \n",
        "# train_y.shape, test_y.shape, \n",
        "# train_y_t.shape, test_y_t.shape"
      ],
      "execution_count": null,
      "outputs": []
    },
    {
      "cell_type": "code",
      "metadata": {
        "id": "Q9Gh14khTfix"
      },
      "source": [
        "model.compile(optimizer='adam', loss='categorical_crossentropy') "
      ],
      "execution_count": null,
      "outputs": []
    },
    {
      "cell_type": "code",
      "metadata": {
        "id": "E2JlPuyCUM5K",
        "outputId": "92e959be-5768-45c4-f978-24da77ed8f71",
        "colab": {
          "base_uri": "https://localhost:8080/",
          "height": 1000
        }
      },
      "source": [
        "model.fit(x=[train_x, train_y], \n",
        "              y=train_y_t, \n",
        "              batch_size=512, \n",
        "              epochs=50, \n",
        "              validation_split=0.2)             "
      ],
      "execution_count": null,
      "outputs": [
        {
          "output_type": "stream",
          "text": [
            "Epoch 1/50\n",
            "32/32 [==============================] - 1s 36ms/step - loss: 2.4288 - val_loss: 2.3677\n",
            "Epoch 2/50\n",
            "32/32 [==============================] - 0s 13ms/step - loss: 2.2886 - val_loss: 2.1835\n",
            "Epoch 3/50\n",
            "32/32 [==============================] - 0s 12ms/step - loss: 2.0813 - val_loss: 1.9781\n",
            "Epoch 4/50\n",
            "32/32 [==============================] - 0s 12ms/step - loss: 1.8984 - val_loss: 1.8148\n",
            "Epoch 5/50\n",
            "32/32 [==============================] - 0s 12ms/step - loss: 1.7484 - val_loss: 1.6806\n",
            "Epoch 6/50\n",
            "32/32 [==============================] - 0s 12ms/step - loss: 1.6261 - val_loss: 1.5695\n",
            "Epoch 7/50\n",
            "32/32 [==============================] - 0s 13ms/step - loss: 1.5203 - val_loss: 1.4677\n",
            "Epoch 8/50\n",
            "32/32 [==============================] - 0s 12ms/step - loss: 1.4192 - val_loss: 1.3667\n",
            "Epoch 9/50\n",
            "32/32 [==============================] - 0s 12ms/step - loss: 1.3172 - val_loss: 1.2641\n",
            "Epoch 10/50\n",
            "32/32 [==============================] - 0s 12ms/step - loss: 1.2139 - val_loss: 1.1605\n",
            "Epoch 11/50\n",
            "32/32 [==============================] - 0s 12ms/step - loss: 1.1106 - val_loss: 1.0580\n",
            "Epoch 12/50\n",
            "32/32 [==============================] - 0s 12ms/step - loss: 1.0092 - val_loss: 0.9578\n",
            "Epoch 13/50\n",
            "32/32 [==============================] - 0s 12ms/step - loss: 0.9106 - val_loss: 0.8608\n",
            "Epoch 14/50\n",
            "32/32 [==============================] - 0s 12ms/step - loss: 0.8156 - val_loss: 0.7677\n",
            "Epoch 15/50\n",
            "32/32 [==============================] - 0s 12ms/step - loss: 0.7247 - val_loss: 0.6794\n",
            "Epoch 16/50\n",
            "32/32 [==============================] - 0s 12ms/step - loss: 0.6392 - val_loss: 0.5972\n",
            "Epoch 17/50\n",
            "32/32 [==============================] - 0s 12ms/step - loss: 0.5603 - val_loss: 0.5222\n",
            "Epoch 18/50\n",
            "32/32 [==============================] - 0s 12ms/step - loss: 0.4890 - val_loss: 0.4550\n",
            "Epoch 19/50\n",
            "32/32 [==============================] - 0s 12ms/step - loss: 0.4255 - val_loss: 0.3957\n",
            "Epoch 20/50\n",
            "32/32 [==============================] - 0s 13ms/step - loss: 0.3700 - val_loss: 0.3444\n",
            "Epoch 21/50\n",
            "32/32 [==============================] - 0s 12ms/step - loss: 0.3224 - val_loss: 0.3006\n",
            "Epoch 22/50\n",
            "32/32 [==============================] - 0s 13ms/step - loss: 0.2820 - val_loss: 0.2637\n",
            "Epoch 23/50\n",
            "32/32 [==============================] - 0s 12ms/step - loss: 0.2480 - val_loss: 0.2328\n",
            "Epoch 24/50\n",
            "32/32 [==============================] - 0s 12ms/step - loss: 0.2195 - val_loss: 0.2068\n",
            "Epoch 25/50\n",
            "32/32 [==============================] - 0s 12ms/step - loss: 0.1956 - val_loss: 0.1849\n",
            "Epoch 26/50\n",
            "32/32 [==============================] - 0s 12ms/step - loss: 0.1754 - val_loss: 0.1664\n",
            "Epoch 27/50\n",
            "32/32 [==============================] - 0s 12ms/step - loss: 0.1582 - val_loss: 0.1505\n",
            "Epoch 28/50\n",
            "32/32 [==============================] - 0s 12ms/step - loss: 0.1435 - val_loss: 0.1368\n",
            "Epoch 29/50\n",
            "32/32 [==============================] - 0s 12ms/step - loss: 0.1308 - val_loss: 0.1250\n",
            "Epoch 30/50\n",
            "32/32 [==============================] - 0s 12ms/step - loss: 0.1197 - val_loss: 0.1147\n",
            "Epoch 31/50\n",
            "32/32 [==============================] - 0s 12ms/step - loss: 0.1100 - val_loss: 0.1057\n",
            "Epoch 32/50\n",
            "32/32 [==============================] - 0s 13ms/step - loss: 0.1015 - val_loss: 0.0977\n",
            "Epoch 33/50\n",
            "32/32 [==============================] - 0s 12ms/step - loss: 0.0940 - val_loss: 0.0906\n",
            "Epoch 34/50\n",
            "32/32 [==============================] - 0s 12ms/step - loss: 0.0873 - val_loss: 0.0843\n",
            "Epoch 35/50\n",
            "32/32 [==============================] - 0s 12ms/step - loss: 0.0813 - val_loss: 0.0786\n",
            "Epoch 36/50\n",
            "32/32 [==============================] - 0s 13ms/step - loss: 0.0759 - val_loss: 0.0735\n",
            "Epoch 37/50\n",
            "32/32 [==============================] - 0s 13ms/step - loss: 0.0711 - val_loss: 0.0689\n",
            "Epoch 38/50\n",
            "32/32 [==============================] - 0s 13ms/step - loss: 0.0667 - val_loss: 0.0647\n",
            "Epoch 39/50\n",
            "32/32 [==============================] - 0s 13ms/step - loss: 0.0627 - val_loss: 0.0609\n",
            "Epoch 40/50\n",
            "32/32 [==============================] - 0s 12ms/step - loss: 0.0591 - val_loss: 0.0575\n",
            "Epoch 41/50\n",
            "32/32 [==============================] - 0s 12ms/step - loss: 0.0558 - val_loss: 0.0543\n",
            "Epoch 42/50\n",
            "32/32 [==============================] - 0s 12ms/step - loss: 0.0527 - val_loss: 0.0514\n",
            "Epoch 43/50\n",
            "32/32 [==============================] - 0s 12ms/step - loss: 0.0499 - val_loss: 0.0487\n",
            "Epoch 44/50\n",
            "32/32 [==============================] - 0s 12ms/step - loss: 0.0473 - val_loss: 0.0462\n",
            "Epoch 45/50\n",
            "32/32 [==============================] - 0s 13ms/step - loss: 0.0450 - val_loss: 0.0439\n",
            "Epoch 46/50\n",
            "32/32 [==============================] - 0s 13ms/step - loss: 0.0427 - val_loss: 0.0418\n",
            "Epoch 47/50\n",
            "32/32 [==============================] - 0s 12ms/step - loss: 0.0407 - val_loss: 0.0398\n",
            "Epoch 48/50\n",
            "32/32 [==============================] - 0s 12ms/step - loss: 0.0388 - val_loss: 0.0379\n",
            "Epoch 49/50\n",
            "32/32 [==============================] - 0s 13ms/step - loss: 0.0370 - val_loss: 0.0362\n",
            "Epoch 50/50\n",
            "32/32 [==============================] - 0s 12ms/step - loss: 0.0353 - val_loss: 0.0346\n"
          ],
          "name": "stdout"
        },
        {
          "output_type": "execute_result",
          "data": {
            "text/plain": [
              "<tensorflow.python.keras.callbacks.History at 0x7fc383051ba8>"
            ]
          },
          "metadata": {
            "tags": []
          },
          "execution_count": 146
        }
      ]
    },
    {
      "cell_type": "code",
      "metadata": {
        "id": "g0DXwLHMU4Dh"
      },
      "source": [
        ""
      ],
      "execution_count": null,
      "outputs": []
    }
  ]
}