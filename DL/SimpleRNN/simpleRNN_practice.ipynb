{
  "nbformat": 4,
  "nbformat_minor": 0,
  "metadata": {
    "colab": {
      "name": "simpleRNN_practice.ipynb",
      "provenance": [],
      "collapsed_sections": []
    },
    "kernelspec": {
      "name": "python3",
      "display_name": "Python 3"
    },
    "accelerator": "GPU"
  },
  "cells": [
    {
      "cell_type": "code",
      "metadata": {
        "id": "SeJmu60y1mY_"
      },
      "source": [
        "import tensorflow as tf"
      ],
      "execution_count": null,
      "outputs": []
    },
    {
      "cell_type": "code",
      "metadata": {
        "id": "SNFAeMon1x9n"
      },
      "source": [
        "from tensorflow.keras.layers import SimpleRNN, Dense\n",
        "from tensorflow.keras.models import Sequential \n",
        "import numpy as np"
      ],
      "execution_count": null,
      "outputs": []
    },
    {
      "cell_type": "code",
      "metadata": {
        "id": "73u2307I29HD"
      },
      "source": [
        "imdb = tf.keras.datasets.imdb\n",
        "(train_data, train_labels), (test_data, test_labels) = imdb.load_data(num_words=10000)"
      ],
      "execution_count": null,
      "outputs": []
    },
    {
      "cell_type": "code",
      "metadata": {
        "id": "oqnadlHM3H-T"
      },
      "source": [
        "word_index = imdb.get_word_index()"
      ],
      "execution_count": null,
      "outputs": []
    },
    {
      "cell_type": "code",
      "metadata": {
        "id": "VFEZWndI3n1T"
      },
      "source": [
        "# 1. \n",
        "id_to_word = dict([(value, key) for key, value in word_index.items()])\n",
        "\n",
        "# 2. \n",
        "id_to_word = {}\n",
        "for key, value in word_index.items():\n",
        "  id_to_word[value] = key"
      ],
      "execution_count": null,
      "outputs": []
    },
    {
      "cell_type": "code",
      "metadata": {
        "id": "bY7h9Thv3JmT",
        "outputId": "0119022f-ca28-4538-d8a8-36c2d69c788f",
        "colab": {
          "base_uri": "https://localhost:8080/"
        }
      },
      "source": [
        "vocab_size = len(word_index)\n",
        "print(vocab_size)"
      ],
      "execution_count": null,
      "outputs": [
        {
          "output_type": "stream",
          "text": [
            "88584\n"
          ],
          "name": "stdout"
        }
      ]
    },
    {
      "cell_type": "code",
      "metadata": {
        "id": "NT3Mxagu3ROz"
      },
      "source": [
        "word_index = {k:(v+3) for k,v in word_index.items()}\n",
        "word_index[\"<PAD>\"] = 0\n",
        "word_index[\"<START>\"] = 1\n",
        "word_index[\"<UNK>\"] = 2\n",
        "word_index[\"<UNUSED>\"] = 3\n",
        "\n",
        "def decode_review(text):\n",
        "  return ' '.join([id_to_word.get(i, '?') for i in text])"
      ],
      "execution_count": null,
      "outputs": []
    },
    {
      "cell_type": "code",
      "metadata": {
        "id": "M9oqQ90449yL",
        "outputId": "3295424e-125f-4da0-a881-e45b58b7446c",
        "colab": {
          "base_uri": "https://localhost:8080/",
          "height": 175
        }
      },
      "source": [
        "decode_review(train_data[0])"
      ],
      "execution_count": null,
      "outputs": [
        {
          "output_type": "execute_result",
          "data": {
            "application/vnd.google.colaboratory.intrinsic+json": {
              "type": "string"
            },
            "text/plain": [
              "\"the as you with out themselves powerful lets loves their becomes reaching had journalist of lot from anyone to have after out atmosphere never more room and it so heart shows to years of every never going and help moments or of every chest visual movie except her was several of enough more with is now current film as you of mine potentially unfortunately of you than him that with out themselves her get for was camp of you movie sometimes movie that with scary but and to story wonderful that in seeing in character to of 70s musicians with heart had shadows they of here that with her serious to have does when from why what have critics they is you that isn't one will very to as itself with other and in of seen over landed for anyone of and br show's to whether from than out themselves history he name half some br of and odd was two most of mean for 1 any an boat she he should is thought frog but of script you not while history he heart to real at barrel but when from one bit then have two of script their with her nobody most that with wasn't to with armed acting watch an for with heartfelt film want an\""
            ]
          },
          "metadata": {
            "tags": []
          },
          "execution_count": 68
        }
      ]
    },
    {
      "cell_type": "code",
      "metadata": {
        "id": "il9mePz95KG0",
        "outputId": "8a8b8167-0da5-467e-b137-55bbee3c282e",
        "colab": {
          "base_uri": "https://localhost:8080/"
        }
      },
      "source": [
        "len(train_data[0]), len(train_data[1]), len(train_data[2]), "
      ],
      "execution_count": null,
      "outputs": [
        {
          "output_type": "execute_result",
          "data": {
            "text/plain": [
              "(218, 189, 141)"
            ]
          },
          "metadata": {
            "tags": []
          },
          "execution_count": 69
        }
      ]
    },
    {
      "cell_type": "code",
      "metadata": {
        "id": "hkgowZKY5zG8"
      },
      "source": [
        "maxlen = 0\n",
        "for data in train_data:\n",
        "  if len(data) > maxlen:\n",
        "    maxlen = len(data)"
      ],
      "execution_count": null,
      "outputs": []
    },
    {
      "cell_type": "code",
      "metadata": {
        "id": "QY9D3Wjq6MkM"
      },
      "source": [
        "for data in test_data:\n",
        "  if len(data) > maxlen:\n",
        "    maxlen = len(data)"
      ],
      "execution_count": null,
      "outputs": []
    },
    {
      "cell_type": "code",
      "metadata": {
        "id": "4afbYuhU5kQX"
      },
      "source": [
        "train_data = tf.keras.preprocessing.sequence.pad_sequences(\n",
        "    train_data, value=0, padding='pre', maxlen=maxlen\n",
        ")"
      ],
      "execution_count": null,
      "outputs": []
    },
    {
      "cell_type": "code",
      "metadata": {
        "id": "4Slaz8DX6KVL"
      },
      "source": [
        "test_data = tf.keras.preprocessing.sequence.pad_sequences(\n",
        "    test_data, value=0, padding='pre', maxlen=maxlen\n",
        ")"
      ],
      "execution_count": null,
      "outputs": []
    },
    {
      "cell_type": "code",
      "metadata": {
        "id": "3xAK3VEP64qc"
      },
      "source": [
        "model = Sequential(\n",
        "    [\n",
        "    #  tf.keras.layers.Embedding(vocab_size, )\n",
        "      SimpleRNN(units=128, input_shape=(None,maxlen)),\n",
        "      Dense(16, activation='relu'),\n",
        "      Dense(1, activation='sigmoid')\n",
        "    ]\n",
        ")"
      ],
      "execution_count": null,
      "outputs": []
    },
    {
      "cell_type": "code",
      "metadata": {
        "id": "kRBPweTY2bCH",
        "outputId": "99ac28bd-0827-4767-b886-26a4d72cdee2",
        "colab": {
          "base_uri": "https://localhost:8080/"
        }
      },
      "source": [
        "model.summary()"
      ],
      "execution_count": null,
      "outputs": [
        {
          "output_type": "stream",
          "text": [
            "Model: \"sequential_4\"\n",
            "_________________________________________________________________\n",
            "Layer (type)                 Output Shape              Param #   \n",
            "=================================================================\n",
            "simple_rnn_4 (SimpleRNN)     (None, 128)               335744    \n",
            "_________________________________________________________________\n",
            "dense_8 (Dense)              (None, 16)                2064      \n",
            "_________________________________________________________________\n",
            "dense_9 (Dense)              (None, 1)                 17        \n",
            "=================================================================\n",
            "Total params: 337,825\n",
            "Trainable params: 337,825\n",
            "Non-trainable params: 0\n",
            "_________________________________________________________________\n"
          ],
          "name": "stdout"
        }
      ]
    },
    {
      "cell_type": "code",
      "metadata": {
        "id": "9hSvsY2-7yAW"
      },
      "source": [
        "model.compile(optimizer='adam', loss='binary_crossentropy', metrics=['accuracy'])"
      ],
      "execution_count": null,
      "outputs": []
    },
    {
      "cell_type": "code",
      "metadata": {
        "id": "BAION7K48Guz",
        "outputId": "b5182c95-0b22-451e-e45e-3851964ddc05",
        "colab": {
          "base_uri": "https://localhost:8080/"
        }
      },
      "source": [
        "train_data.shape, test_data.shape"
      ],
      "execution_count": null,
      "outputs": [
        {
          "output_type": "execute_result",
          "data": {
            "text/plain": [
              "((25000, 2494), (25000, 2494))"
            ]
          },
          "metadata": {
            "tags": []
          },
          "execution_count": 77
        }
      ]
    },
    {
      "cell_type": "code",
      "metadata": {
        "id": "DvHBcwJd8JWs"
      },
      "source": [
        "train_data = train_data[:,tf.newaxis,:]\n",
        "test_data = test_data[:,tf.newaxis,:] "
      ],
      "execution_count": null,
      "outputs": []
    },
    {
      "cell_type": "code",
      "metadata": {
        "id": "4Yiz7UoL8dq_",
        "outputId": "fa9ef6ab-2c7d-4771-ee1a-224881e88fb3",
        "colab": {
          "base_uri": "https://localhost:8080/"
        }
      },
      "source": [
        "train_data.shape, test_data.shape"
      ],
      "execution_count": null,
      "outputs": [
        {
          "output_type": "execute_result",
          "data": {
            "text/plain": [
              "((25000, 1, 2494), (25000, 1, 2494))"
            ]
          },
          "metadata": {
            "tags": []
          },
          "execution_count": 80
        }
      ]
    },
    {
      "cell_type": "code",
      "metadata": {
        "id": "DIFksaTL75Y0",
        "outputId": "2d64663e-6c1f-4020-a21b-8a006fc8b6c5",
        "colab": {
          "base_uri": "https://localhost:8080/"
        }
      },
      "source": [
        "history = model.fit(train_data, train_labels, \n",
        "                    epochs=20,\n",
        "                    batch_size=128,\n",
        "                    validation_split=0.2)"
      ],
      "execution_count": null,
      "outputs": [
        {
          "output_type": "stream",
          "text": [
            "Epoch 1/20\n",
            "157/157 [==============================] - 1s 4ms/step - loss: 0.6916 - accuracy: 0.5196 - val_loss: 0.6948 - val_accuracy: 0.5030\n",
            "Epoch 2/20\n",
            "157/157 [==============================] - 1s 4ms/step - loss: 0.6909 - accuracy: 0.5202 - val_loss: 0.6943 - val_accuracy: 0.5184\n",
            "Epoch 3/20\n",
            "157/157 [==============================] - 1s 4ms/step - loss: 0.6903 - accuracy: 0.5202 - val_loss: 0.6950 - val_accuracy: 0.5168\n",
            "Epoch 4/20\n",
            "157/157 [==============================] - 1s 4ms/step - loss: 0.6898 - accuracy: 0.5227 - val_loss: 0.6950 - val_accuracy: 0.5046\n",
            "Epoch 5/20\n",
            "157/157 [==============================] - 1s 4ms/step - loss: 0.6899 - accuracy: 0.5268 - val_loss: 0.6944 - val_accuracy: 0.5102\n",
            "Epoch 6/20\n",
            "157/157 [==============================] - 1s 4ms/step - loss: 0.6897 - accuracy: 0.5270 - val_loss: 0.6970 - val_accuracy: 0.5002\n",
            "Epoch 7/20\n",
            "157/157 [==============================] - 1s 4ms/step - loss: 0.6894 - accuracy: 0.5268 - val_loss: 0.6956 - val_accuracy: 0.5046\n",
            "Epoch 8/20\n",
            "157/157 [==============================] - 1s 4ms/step - loss: 0.6878 - accuracy: 0.5307 - val_loss: 0.6963 - val_accuracy: 0.5112\n",
            "Epoch 9/20\n",
            "157/157 [==============================] - 1s 4ms/step - loss: 0.6886 - accuracy: 0.5282 - val_loss: 0.6959 - val_accuracy: 0.4998\n",
            "Epoch 10/20\n",
            "157/157 [==============================] - 1s 4ms/step - loss: 0.6884 - accuracy: 0.5344 - val_loss: 0.6969 - val_accuracy: 0.5010\n",
            "Epoch 11/20\n",
            "157/157 [==============================] - 1s 4ms/step - loss: 0.6881 - accuracy: 0.5314 - val_loss: 0.6949 - val_accuracy: 0.5188\n",
            "Epoch 12/20\n",
            "157/157 [==============================] - 1s 4ms/step - loss: 0.6881 - accuracy: 0.5292 - val_loss: 0.6951 - val_accuracy: 0.5182\n",
            "Epoch 13/20\n",
            "157/157 [==============================] - 1s 4ms/step - loss: 0.6876 - accuracy: 0.5310 - val_loss: 0.6954 - val_accuracy: 0.5088\n",
            "Epoch 14/20\n",
            "157/157 [==============================] - 1s 5ms/step - loss: 0.6872 - accuracy: 0.5345 - val_loss: 0.6957 - val_accuracy: 0.5022\n",
            "Epoch 15/20\n",
            "157/157 [==============================] - 1s 4ms/step - loss: 0.6882 - accuracy: 0.5332 - val_loss: 0.6984 - val_accuracy: 0.5084\n",
            "Epoch 16/20\n",
            "157/157 [==============================] - 1s 4ms/step - loss: 0.6877 - accuracy: 0.5331 - val_loss: 0.6973 - val_accuracy: 0.5034\n",
            "Epoch 17/20\n",
            "157/157 [==============================] - 1s 4ms/step - loss: 0.6871 - accuracy: 0.5357 - val_loss: 0.6994 - val_accuracy: 0.4998\n",
            "Epoch 18/20\n",
            "157/157 [==============================] - 1s 4ms/step - loss: 0.6866 - accuracy: 0.5391 - val_loss: 0.7003 - val_accuracy: 0.5010\n",
            "Epoch 19/20\n",
            "157/157 [==============================] - 1s 4ms/step - loss: 0.6874 - accuracy: 0.5337 - val_loss: 0.6965 - val_accuracy: 0.4972\n",
            "Epoch 20/20\n",
            "157/157 [==============================] - 1s 4ms/step - loss: 0.6879 - accuracy: 0.5365 - val_loss: 0.6976 - val_accuracy: 0.5038\n"
          ],
          "name": "stdout"
        }
      ]
    },
    {
      "cell_type": "code",
      "metadata": {
        "id": "jQ9V0R2W8bF2"
      },
      "source": [
        ""
      ],
      "execution_count": null,
      "outputs": []
    }
  ]
}