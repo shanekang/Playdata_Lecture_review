{
  "nbformat": 4,
  "nbformat_minor": 0,
  "metadata": {
    "colab": {
      "name": "LSTM_text_generation.ipynb",
      "provenance": [],
      "collapsed_sections": []
    },
    "kernelspec": {
      "name": "python3",
      "display_name": "Python 3"
    },
    "accelerator": "GPU"
  },
  "cells": [
    {
      "cell_type": "markdown",
      "metadata": {
        "id": "zOODf51-MaqP"
      },
      "source": [
        "* 데이터 로드 및 전처리\n",
        "* 모델 정의\n",
        "* 학습\n",
        "* 문장 생성"
      ]
    },
    {
      "cell_type": "markdown",
      "metadata": {
        "id": "XnAPyX3fRaYn"
      },
      "source": [
        "## 데이터 로드 및 전처리"
      ]
    },
    {
      "cell_type": "code",
      "metadata": {
        "id": "VD1EQM1EMSLa"
      },
      "source": [
        "text = '''\n",
        "동해 물과 백두산이 마르고 닳도록\n",
        "하느님이 보우하사 우리나라 만세.\n",
        "무궁화 삼천리 화려 강산\n",
        "대한 사람, 대한으로 길이 보전하세.\n",
        "남산 위에 저 소나무, 철갑을 두른 듯\n",
        "바람 서리 불변함은 우리 기상일세.\n",
        "무궁화 삼천리 화려 강산\n",
        "대한 사람, 대한으로 길이 보전하세.\n",
        "가을 하늘 공활한데 높고 구름 없이\n",
        "밝은 달은 우리 가슴 일편단심일세.\n",
        "무궁화 삼천리 화려 강산\n",
        "대한 사람, 대한으로 길이 보전하세.\n",
        "이 기상과 이 맘으로 충성을 다하여\n",
        "괴로우나 즐거우나 나라 사랑하세.\n",
        "무궁화 삼천리 화려 강산\n",
        "대한 사람, 대한으로 길이 보전하세.\n",
        "'''"
      ],
      "execution_count": null,
      "outputs": []
    },
    {
      "cell_type": "code",
      "metadata": {
        "id": "BG9rvJ8KNFXo"
      },
      "source": [
        "import tensorflow as tf"
      ],
      "execution_count": null,
      "outputs": []
    },
    {
      "cell_type": "code",
      "metadata": {
        "id": "FVMClUIyNIHv"
      },
      "source": [
        "t = tf.keras.preprocessing.text.Tokenizer()"
      ],
      "execution_count": null,
      "outputs": []
    },
    {
      "cell_type": "code",
      "metadata": {
        "id": "9l_X5edUNdkf"
      },
      "source": [
        "t.fit_on_texts([text])"
      ],
      "execution_count": null,
      "outputs": []
    },
    {
      "cell_type": "code",
      "metadata": {
        "id": "7xIWKMJhNgY2",
        "outputId": "9f7ed488-a19f-4d33-f28b-4f525aac9e88",
        "colab": {
          "base_uri": "https://localhost:8080/"
        }
      },
      "source": [
        "vocab_size = len(t.word_index) + 1\n",
        "print(vocab_size)"
      ],
      "execution_count": null,
      "outputs": [
        {
          "output_type": "stream",
          "text": [
            "50\n"
          ],
          "name": "stdout"
        }
      ]
    },
    {
      "cell_type": "code",
      "metadata": {
        "id": "Rg0jGF01Nj2P"
      },
      "source": [
        "t.word_index"
      ],
      "execution_count": null,
      "outputs": []
    },
    {
      "cell_type": "code",
      "metadata": {
        "id": "G9Tplnz2p5qj"
      },
      "source": [
        "# 1. \n",
        "id_to_word = dict([ (value, key) for key,value in t.word_index.items()])\n",
        "# 2. \n",
        "id_to_word = {}\n",
        "for key,value in t.word_index.items():\n",
        "  id_to_word[value] = key"
      ],
      "execution_count": null,
      "outputs": []
    },
    {
      "cell_type": "code",
      "metadata": {
        "id": "kjKSL6sRN8mH",
        "outputId": "2d68666f-f10d-42c6-9796-d87b1b472935",
        "colab": {
          "base_uri": "https://localhost:8080/"
        }
      },
      "source": [
        "for line in text.split('\\n'):\n",
        "  print(line)"
      ],
      "execution_count": null,
      "outputs": [
        {
          "output_type": "stream",
          "text": [
            "\n",
            "동해 물과 백두산이 마르고 닳도록\n",
            "하느님이 보우하사 우리나라 만세.\n",
            "무궁화 삼천리 화려 강산\n",
            "대한 사람, 대한으로 길이 보전하세.\n",
            "남산 위에 저 소나무, 철갑을 두른 듯\n",
            "바람 서리 불변함은 우리 기상일세.\n",
            "무궁화 삼천리 화려 강산\n",
            "대한 사람, 대한으로 길이 보전하세.\n",
            "가을 하늘 공활한데 높고 구름 없이\n",
            "밝은 달은 우리 가슴 일편단심일세.\n",
            "무궁화 삼천리 화려 강산\n",
            "대한 사람, 대한으로 길이 보전하세.\n",
            "이 기상과 이 맘으로 충성을 다하여\n",
            "괴로우나 즐거우나 나라 사랑하세.\n",
            "무궁화 삼천리 화려 강산\n",
            "대한 사람, 대한으로 길이 보전하세.\n",
            "\n"
          ],
          "name": "stdout"
        }
      ]
    },
    {
      "cell_type": "code",
      "metadata": {
        "id": "8cKxKTfhNrjP"
      },
      "source": [
        "sequences = list()\n",
        "for line in text.split('\\n'):\n",
        "  encoded = t.texts_to_sequences([line])[0]\n",
        "  for i in range(1, len(encoded)):\n",
        "    sequence = encoded[:i+1]\n",
        "    sequences.append(sequence)"
      ],
      "execution_count": null,
      "outputs": []
    },
    {
      "cell_type": "code",
      "metadata": {
        "id": "qFfIO4-HPChh"
      },
      "source": [
        "maxlen = 0 \n",
        "for seq in sequences:\n",
        "  if len(seq) > maxlen :\n",
        "    maxlen = len(seq)"
      ],
      "execution_count": null,
      "outputs": []
    },
    {
      "cell_type": "code",
      "metadata": {
        "id": "49YkUlbiPY-C"
      },
      "source": [
        "sequences = tf.keras.preprocessing.sequence.pad_sequences(sequences, value=0, maxlen=maxlen)"
      ],
      "execution_count": null,
      "outputs": []
    },
    {
      "cell_type": "code",
      "metadata": {
        "id": "qWajQqSfQPoX",
        "outputId": "a9f55a70-c89b-487c-9d4f-04bf8de3f177",
        "colab": {
          "base_uri": "https://localhost:8080/"
        }
      },
      "source": [
        "sequences[:3]"
      ],
      "execution_count": null,
      "outputs": [
        {
          "output_type": "execute_result",
          "data": {
            "text/plain": [
              "array([[ 0,  0,  0,  0,  0, 12, 13],\n",
              "       [ 0,  0,  0,  0, 12, 13, 14],\n",
              "       [ 0,  0,  0, 12, 13, 14, 15]], dtype=int32)"
            ]
          },
          "metadata": {
            "tags": []
          },
          "execution_count": 11
        }
      ]
    },
    {
      "cell_type": "code",
      "metadata": {
        "id": "0hhoiGihQV8_"
      },
      "source": [
        "X = sequences[:,:-1]\n",
        "y = sequences[:,-1]"
      ],
      "execution_count": null,
      "outputs": []
    },
    {
      "cell_type": "code",
      "metadata": {
        "id": "xyZeVw3uQsdQ",
        "outputId": "d2673f5b-5360-4dbe-db69-c49a2d4a4833",
        "colab": {
          "base_uri": "https://localhost:8080/"
        }
      },
      "source": [
        "X.shape, y.shape"
      ],
      "execution_count": null,
      "outputs": [
        {
          "output_type": "execute_result",
          "data": {
            "text/plain": [
              "((62, 6), (62,))"
            ]
          },
          "metadata": {
            "tags": []
          },
          "execution_count": 13
        }
      ]
    },
    {
      "cell_type": "code",
      "metadata": {
        "id": "vaZbZR_zQ32f",
        "outputId": "c69ea529-a78a-417d-8b95-56704ede4f23",
        "colab": {
          "base_uri": "https://localhost:8080/"
        }
      },
      "source": [
        "y[:5]"
      ],
      "execution_count": null,
      "outputs": [
        {
          "output_type": "execute_result",
          "data": {
            "text/plain": [
              "array([13, 14, 15, 16, 18], dtype=int32)"
            ]
          },
          "metadata": {
            "tags": []
          },
          "execution_count": 14
        }
      ]
    },
    {
      "cell_type": "code",
      "metadata": {
        "id": "WlxsTnKuQ2Ne",
        "outputId": "1e52e09a-7913-4425-f39a-69609f7c6ff7",
        "colab": {
          "base_uri": "https://localhost:8080/"
        }
      },
      "source": [
        "X[:5]"
      ],
      "execution_count": null,
      "outputs": [
        {
          "output_type": "execute_result",
          "data": {
            "text/plain": [
              "array([[ 0,  0,  0,  0,  0, 12],\n",
              "       [ 0,  0,  0,  0, 12, 13],\n",
              "       [ 0,  0,  0, 12, 13, 14],\n",
              "       [ 0,  0, 12, 13, 14, 15],\n",
              "       [ 0,  0,  0,  0,  0, 17]], dtype=int32)"
            ]
          },
          "metadata": {
            "tags": []
          },
          "execution_count": 15
        }
      ]
    },
    {
      "cell_type": "code",
      "metadata": {
        "id": "w-rAcBG-Q9HH"
      },
      "source": [
        "y = tf.keras.utils.to_categorical(y, num_classes=vocab_size)"
      ],
      "execution_count": null,
      "outputs": []
    },
    {
      "cell_type": "code",
      "metadata": {
        "id": "yTmtziqARWUH",
        "outputId": "5c9e7ab9-bcbd-4177-8dbe-e5f70efacec5",
        "colab": {
          "base_uri": "https://localhost:8080/"
        }
      },
      "source": [
        "y[:3]"
      ],
      "execution_count": null,
      "outputs": [
        {
          "output_type": "execute_result",
          "data": {
            "text/plain": [
              "array([[0., 0., 0., 0., 0., 0., 0., 0., 0., 0., 0., 0., 0., 1., 0., 0.,\n",
              "        0., 0., 0., 0., 0., 0., 0., 0., 0., 0., 0., 0., 0., 0., 0., 0.,\n",
              "        0., 0., 0., 0., 0., 0., 0., 0., 0., 0., 0., 0., 0., 0., 0., 0.,\n",
              "        0., 0.],\n",
              "       [0., 0., 0., 0., 0., 0., 0., 0., 0., 0., 0., 0., 0., 0., 1., 0.,\n",
              "        0., 0., 0., 0., 0., 0., 0., 0., 0., 0., 0., 0., 0., 0., 0., 0.,\n",
              "        0., 0., 0., 0., 0., 0., 0., 0., 0., 0., 0., 0., 0., 0., 0., 0.,\n",
              "        0., 0.],\n",
              "       [0., 0., 0., 0., 0., 0., 0., 0., 0., 0., 0., 0., 0., 0., 0., 1.,\n",
              "        0., 0., 0., 0., 0., 0., 0., 0., 0., 0., 0., 0., 0., 0., 0., 0.,\n",
              "        0., 0., 0., 0., 0., 0., 0., 0., 0., 0., 0., 0., 0., 0., 0., 0.,\n",
              "        0., 0.]], dtype=float32)"
            ]
          },
          "metadata": {
            "tags": []
          },
          "execution_count": 17
        }
      ]
    },
    {
      "cell_type": "markdown",
      "metadata": {
        "id": "ieo9ZkvyRcq_"
      },
      "source": [
        "## 모델 정의"
      ]
    },
    {
      "cell_type": "code",
      "metadata": {
        "id": "3hEOe8yJRZQn"
      },
      "source": [
        "# input -> embedding\n",
        "# LSTM -> \n",
        "# Dense -> softmax"
      ],
      "execution_count": null,
      "outputs": []
    },
    {
      "cell_type": "code",
      "metadata": {
        "id": "bjkNmk5em9ZM"
      },
      "source": [
        "model = tf.keras.models.Sequential(\n",
        "    [\n",
        "     tf.keras.layers.Embedding(vocab_size, 10),\n",
        "     tf.keras.layers.LSTM(128),\n",
        "     tf.keras.layers.Dense(vocab_size, activation='softmax'),\n",
        "    ]\n",
        ")"
      ],
      "execution_count": null,
      "outputs": []
    },
    {
      "cell_type": "code",
      "metadata": {
        "id": "McOEFu7mnELS"
      },
      "source": [
        "model.compile(optimizer='adam', loss='categorical_crossentropy', metrics=['accuracy'])"
      ],
      "execution_count": null,
      "outputs": []
    },
    {
      "cell_type": "code",
      "metadata": {
        "id": "5C8sYZiHn0Ys",
        "outputId": "dbe57a45-5945-48ba-9707-3d4a97589616",
        "colab": {
          "base_uri": "https://localhost:8080/"
        }
      },
      "source": [
        "model.fit(X,y, epochs=200)"
      ],
      "execution_count": null,
      "outputs": [
        {
          "output_type": "stream",
          "text": [
            "Epoch 1/200\n",
            "2/2 [==============================] - 0s 5ms/step - loss: 0.4347 - accuracy: 0.9677\n",
            "Epoch 2/200\n",
            "2/2 [==============================] - 0s 5ms/step - loss: 0.4289 - accuracy: 0.9516\n",
            "Epoch 3/200\n",
            "2/2 [==============================] - 0s 4ms/step - loss: 0.4246 - accuracy: 0.9516\n",
            "Epoch 4/200\n",
            "2/2 [==============================] - 0s 4ms/step - loss: 0.4198 - accuracy: 0.9516\n",
            "Epoch 5/200\n",
            "2/2 [==============================] - 0s 4ms/step - loss: 0.4202 - accuracy: 0.9677\n",
            "Epoch 6/200\n",
            "2/2 [==============================] - 0s 4ms/step - loss: 0.4098 - accuracy: 0.9839\n",
            "Epoch 7/200\n",
            "2/2 [==============================] - 0s 6ms/step - loss: 0.4054 - accuracy: 0.9839\n",
            "Epoch 8/200\n",
            "2/2 [==============================] - 0s 8ms/step - loss: 0.4020 - accuracy: 1.0000\n",
            "Epoch 9/200\n",
            "2/2 [==============================] - 0s 6ms/step - loss: 0.3927 - accuracy: 0.9677\n",
            "Epoch 10/200\n",
            "2/2 [==============================] - 0s 5ms/step - loss: 0.3961 - accuracy: 0.9677\n",
            "Epoch 11/200\n",
            "2/2 [==============================] - 0s 5ms/step - loss: 0.3860 - accuracy: 0.9516\n",
            "Epoch 12/200\n",
            "2/2 [==============================] - 0s 5ms/step - loss: 0.3862 - accuracy: 0.9516\n",
            "Epoch 13/200\n",
            "2/2 [==============================] - 0s 4ms/step - loss: 0.3777 - accuracy: 0.9677\n",
            "Epoch 14/200\n",
            "2/2 [==============================] - 0s 5ms/step - loss: 0.3723 - accuracy: 0.9677\n",
            "Epoch 15/200\n",
            "2/2 [==============================] - 0s 5ms/step - loss: 0.3679 - accuracy: 0.9516\n",
            "Epoch 16/200\n",
            "2/2 [==============================] - 0s 6ms/step - loss: 0.3657 - accuracy: 0.9516\n",
            "Epoch 17/200\n",
            "2/2 [==============================] - 0s 5ms/step - loss: 0.3602 - accuracy: 0.9516\n",
            "Epoch 18/200\n",
            "2/2 [==============================] - 0s 5ms/step - loss: 0.3579 - accuracy: 0.9516\n",
            "Epoch 19/200\n",
            "2/2 [==============================] - 0s 5ms/step - loss: 0.3536 - accuracy: 0.9516\n",
            "Epoch 20/200\n",
            "2/2 [==============================] - 0s 5ms/step - loss: 0.3509 - accuracy: 0.9516\n",
            "Epoch 21/200\n",
            "2/2 [==============================] - 0s 5ms/step - loss: 0.3456 - accuracy: 0.9839\n",
            "Epoch 22/200\n",
            "2/2 [==============================] - 0s 5ms/step - loss: 0.3405 - accuracy: 1.0000\n",
            "Epoch 23/200\n",
            "2/2 [==============================] - 0s 5ms/step - loss: 0.3386 - accuracy: 0.9677\n",
            "Epoch 24/200\n",
            "2/2 [==============================] - 0s 5ms/step - loss: 0.3328 - accuracy: 0.9839\n",
            "Epoch 25/200\n",
            "2/2 [==============================] - 0s 5ms/step - loss: 0.3325 - accuracy: 0.9677\n",
            "Epoch 26/200\n",
            "2/2 [==============================] - 0s 5ms/step - loss: 0.3262 - accuracy: 0.9677\n",
            "Epoch 27/200\n",
            "2/2 [==============================] - 0s 5ms/step - loss: 0.3242 - accuracy: 1.0000\n",
            "Epoch 28/200\n",
            "2/2 [==============================] - 0s 5ms/step - loss: 0.3220 - accuracy: 1.0000\n",
            "Epoch 29/200\n",
            "2/2 [==============================] - 0s 5ms/step - loss: 0.3148 - accuracy: 1.0000\n",
            "Epoch 30/200\n",
            "2/2 [==============================] - 0s 4ms/step - loss: 0.3153 - accuracy: 0.9839\n",
            "Epoch 31/200\n",
            "2/2 [==============================] - 0s 4ms/step - loss: 0.3112 - accuracy: 0.9839\n",
            "Epoch 32/200\n",
            "2/2 [==============================] - 0s 5ms/step - loss: 0.3081 - accuracy: 0.9839\n",
            "Epoch 33/200\n",
            "2/2 [==============================] - 0s 5ms/step - loss: 0.3042 - accuracy: 1.0000\n",
            "Epoch 34/200\n",
            "2/2 [==============================] - 0s 5ms/step - loss: 0.3001 - accuracy: 1.0000\n",
            "Epoch 35/200\n",
            "2/2 [==============================] - 0s 5ms/step - loss: 0.2963 - accuracy: 1.0000\n",
            "Epoch 36/200\n",
            "2/2 [==============================] - 0s 5ms/step - loss: 0.2952 - accuracy: 1.0000\n",
            "Epoch 37/200\n",
            "2/2 [==============================] - 0s 5ms/step - loss: 0.2908 - accuracy: 0.9839\n",
            "Epoch 38/200\n",
            "2/2 [==============================] - 0s 6ms/step - loss: 0.2895 - accuracy: 0.9677\n",
            "Epoch 39/200\n",
            "2/2 [==============================] - 0s 4ms/step - loss: 0.2855 - accuracy: 0.9839\n",
            "Epoch 40/200\n",
            "2/2 [==============================] - 0s 5ms/step - loss: 0.2819 - accuracy: 0.9839\n",
            "Epoch 41/200\n",
            "2/2 [==============================] - 0s 8ms/step - loss: 0.2808 - accuracy: 1.0000\n",
            "Epoch 42/200\n",
            "2/2 [==============================] - 0s 6ms/step - loss: 0.2773 - accuracy: 1.0000\n",
            "Epoch 43/200\n",
            "2/2 [==============================] - 0s 6ms/step - loss: 0.2749 - accuracy: 1.0000\n",
            "Epoch 44/200\n",
            "2/2 [==============================] - 0s 6ms/step - loss: 0.2711 - accuracy: 0.9839\n",
            "Epoch 45/200\n",
            "2/2 [==============================] - 0s 6ms/step - loss: 0.2682 - accuracy: 1.0000\n",
            "Epoch 46/200\n",
            "2/2 [==============================] - 0s 6ms/step - loss: 0.2662 - accuracy: 1.0000\n",
            "Epoch 47/200\n",
            "2/2 [==============================] - 0s 6ms/step - loss: 0.2639 - accuracy: 1.0000\n",
            "Epoch 48/200\n",
            "2/2 [==============================] - 0s 5ms/step - loss: 0.2619 - accuracy: 1.0000\n",
            "Epoch 49/200\n",
            "2/2 [==============================] - 0s 5ms/step - loss: 0.2589 - accuracy: 1.0000\n",
            "Epoch 50/200\n",
            "2/2 [==============================] - 0s 4ms/step - loss: 0.2596 - accuracy: 1.0000\n",
            "Epoch 51/200\n",
            "2/2 [==============================] - 0s 7ms/step - loss: 0.2538 - accuracy: 1.0000\n",
            "Epoch 52/200\n",
            "2/2 [==============================] - 0s 4ms/step - loss: 0.2515 - accuracy: 1.0000\n",
            "Epoch 53/200\n",
            "2/2 [==============================] - 0s 9ms/step - loss: 0.2495 - accuracy: 1.0000\n",
            "Epoch 54/200\n",
            "2/2 [==============================] - 0s 5ms/step - loss: 0.2479 - accuracy: 1.0000\n",
            "Epoch 55/200\n",
            "2/2 [==============================] - 0s 4ms/step - loss: 0.2506 - accuracy: 0.9839\n",
            "Epoch 56/200\n",
            "2/2 [==============================] - 0s 5ms/step - loss: 0.2475 - accuracy: 1.0000\n",
            "Epoch 57/200\n",
            "2/2 [==============================] - 0s 6ms/step - loss: 0.2431 - accuracy: 1.0000\n",
            "Epoch 58/200\n",
            "2/2 [==============================] - 0s 5ms/step - loss: 0.2443 - accuracy: 0.9839\n",
            "Epoch 59/200\n",
            "2/2 [==============================] - 0s 5ms/step - loss: 0.2397 - accuracy: 1.0000\n",
            "Epoch 60/200\n",
            "2/2 [==============================] - 0s 5ms/step - loss: 0.2422 - accuracy: 1.0000\n",
            "Epoch 61/200\n",
            "2/2 [==============================] - 0s 6ms/step - loss: 0.2361 - accuracy: 0.9839\n",
            "Epoch 62/200\n",
            "2/2 [==============================] - 0s 5ms/step - loss: 0.2323 - accuracy: 0.9839\n",
            "Epoch 63/200\n",
            "2/2 [==============================] - 0s 5ms/step - loss: 0.2324 - accuracy: 1.0000\n",
            "Epoch 64/200\n",
            "2/2 [==============================] - 0s 4ms/step - loss: 0.2281 - accuracy: 1.0000\n",
            "Epoch 65/200\n",
            "2/2 [==============================] - 0s 5ms/step - loss: 0.2303 - accuracy: 0.9839\n",
            "Epoch 66/200\n",
            "2/2 [==============================] - 0s 5ms/step - loss: 0.2245 - accuracy: 1.0000\n",
            "Epoch 67/200\n",
            "2/2 [==============================] - 0s 5ms/step - loss: 0.2233 - accuracy: 1.0000\n",
            "Epoch 68/200\n",
            "2/2 [==============================] - 0s 5ms/step - loss: 0.2201 - accuracy: 1.0000\n",
            "Epoch 69/200\n",
            "2/2 [==============================] - 0s 5ms/step - loss: 0.2174 - accuracy: 1.0000\n",
            "Epoch 70/200\n",
            "2/2 [==============================] - 0s 5ms/step - loss: 0.2178 - accuracy: 1.0000\n",
            "Epoch 71/200\n",
            "2/2 [==============================] - 0s 5ms/step - loss: 0.2145 - accuracy: 1.0000\n",
            "Epoch 72/200\n",
            "2/2 [==============================] - 0s 5ms/step - loss: 0.2138 - accuracy: 1.0000\n",
            "Epoch 73/200\n",
            "2/2 [==============================] - 0s 5ms/step - loss: 0.2091 - accuracy: 1.0000\n",
            "Epoch 74/200\n",
            "2/2 [==============================] - 0s 6ms/step - loss: 0.2082 - accuracy: 1.0000\n",
            "Epoch 75/200\n",
            "2/2 [==============================] - 0s 5ms/step - loss: 0.2061 - accuracy: 1.0000\n",
            "Epoch 76/200\n",
            "2/2 [==============================] - 0s 6ms/step - loss: 0.2075 - accuracy: 1.0000\n",
            "Epoch 77/200\n",
            "2/2 [==============================] - 0s 6ms/step - loss: 0.2025 - accuracy: 1.0000\n",
            "Epoch 78/200\n",
            "2/2 [==============================] - 0s 6ms/step - loss: 0.2007 - accuracy: 0.9839\n",
            "Epoch 79/200\n",
            "2/2 [==============================] - 0s 5ms/step - loss: 0.1995 - accuracy: 0.9839\n",
            "Epoch 80/200\n",
            "2/2 [==============================] - 0s 4ms/step - loss: 0.1981 - accuracy: 1.0000\n",
            "Epoch 81/200\n",
            "2/2 [==============================] - 0s 5ms/step - loss: 0.1950 - accuracy: 1.0000\n",
            "Epoch 82/200\n",
            "2/2 [==============================] - 0s 5ms/step - loss: 0.1946 - accuracy: 1.0000\n",
            "Epoch 83/200\n",
            "2/2 [==============================] - 0s 5ms/step - loss: 0.1928 - accuracy: 1.0000\n",
            "Epoch 84/200\n",
            "2/2 [==============================] - 0s 5ms/step - loss: 0.1923 - accuracy: 1.0000\n",
            "Epoch 85/200\n",
            "2/2 [==============================] - 0s 5ms/step - loss: 0.1898 - accuracy: 1.0000\n",
            "Epoch 86/200\n",
            "2/2 [==============================] - 0s 7ms/step - loss: 0.1902 - accuracy: 1.0000\n",
            "Epoch 87/200\n",
            "2/2 [==============================] - 0s 6ms/step - loss: 0.1866 - accuracy: 1.0000\n",
            "Epoch 88/200\n",
            "2/2 [==============================] - 0s 5ms/step - loss: 0.1839 - accuracy: 1.0000\n",
            "Epoch 89/200\n",
            "2/2 [==============================] - 0s 6ms/step - loss: 0.1840 - accuracy: 1.0000\n",
            "Epoch 90/200\n",
            "2/2 [==============================] - 0s 5ms/step - loss: 0.1816 - accuracy: 1.0000\n",
            "Epoch 91/200\n",
            "2/2 [==============================] - 0s 5ms/step - loss: 0.1799 - accuracy: 1.0000\n",
            "Epoch 92/200\n",
            "2/2 [==============================] - 0s 5ms/step - loss: 0.1787 - accuracy: 1.0000\n",
            "Epoch 93/200\n",
            "2/2 [==============================] - 0s 5ms/step - loss: 0.1764 - accuracy: 1.0000\n",
            "Epoch 94/200\n",
            "2/2 [==============================] - 0s 9ms/step - loss: 0.1758 - accuracy: 1.0000\n",
            "Epoch 95/200\n",
            "2/2 [==============================] - 0s 6ms/step - loss: 0.1756 - accuracy: 1.0000\n",
            "Epoch 96/200\n",
            "2/2 [==============================] - 0s 6ms/step - loss: 0.1730 - accuracy: 1.0000\n",
            "Epoch 97/200\n",
            "2/2 [==============================] - 0s 7ms/step - loss: 0.1722 - accuracy: 1.0000\n",
            "Epoch 98/200\n",
            "2/2 [==============================] - 0s 5ms/step - loss: 0.1703 - accuracy: 1.0000\n",
            "Epoch 99/200\n",
            "2/2 [==============================] - 0s 4ms/step - loss: 0.1701 - accuracy: 1.0000\n",
            "Epoch 100/200\n",
            "2/2 [==============================] - 0s 5ms/step - loss: 0.1669 - accuracy: 1.0000\n",
            "Epoch 101/200\n",
            "2/2 [==============================] - 0s 7ms/step - loss: 0.1657 - accuracy: 1.0000\n",
            "Epoch 102/200\n",
            "2/2 [==============================] - 0s 6ms/step - loss: 0.1643 - accuracy: 1.0000\n",
            "Epoch 103/200\n",
            "2/2 [==============================] - 0s 5ms/step - loss: 0.1638 - accuracy: 1.0000\n",
            "Epoch 104/200\n",
            "2/2 [==============================] - 0s 5ms/step - loss: 0.1621 - accuracy: 1.0000\n",
            "Epoch 105/200\n",
            "2/2 [==============================] - 0s 5ms/step - loss: 0.1602 - accuracy: 1.0000\n",
            "Epoch 106/200\n",
            "2/2 [==============================] - 0s 6ms/step - loss: 0.1599 - accuracy: 1.0000\n",
            "Epoch 107/200\n",
            "2/2 [==============================] - 0s 5ms/step - loss: 0.1575 - accuracy: 1.0000\n",
            "Epoch 108/200\n",
            "2/2 [==============================] - 0s 6ms/step - loss: 0.1565 - accuracy: 1.0000\n",
            "Epoch 109/200\n",
            "2/2 [==============================] - 0s 5ms/step - loss: 0.1555 - accuracy: 1.0000\n",
            "Epoch 110/200\n",
            "2/2 [==============================] - 0s 6ms/step - loss: 0.1540 - accuracy: 1.0000\n",
            "Epoch 111/200\n",
            "2/2 [==============================] - 0s 5ms/step - loss: 0.1532 - accuracy: 1.0000\n",
            "Epoch 112/200\n",
            "2/2 [==============================] - 0s 4ms/step - loss: 0.1520 - accuracy: 1.0000\n",
            "Epoch 113/200\n",
            "2/2 [==============================] - 0s 5ms/step - loss: 0.1513 - accuracy: 1.0000\n",
            "Epoch 114/200\n",
            "2/2 [==============================] - 0s 6ms/step - loss: 0.1498 - accuracy: 1.0000\n",
            "Epoch 115/200\n",
            "2/2 [==============================] - 0s 7ms/step - loss: 0.1486 - accuracy: 1.0000\n",
            "Epoch 116/200\n",
            "2/2 [==============================] - 0s 5ms/step - loss: 0.1468 - accuracy: 1.0000\n",
            "Epoch 117/200\n",
            "2/2 [==============================] - 0s 6ms/step - loss: 0.1452 - accuracy: 1.0000\n",
            "Epoch 118/200\n",
            "2/2 [==============================] - 0s 5ms/step - loss: 0.1448 - accuracy: 1.0000\n",
            "Epoch 119/200\n",
            "2/2 [==============================] - 0s 7ms/step - loss: 0.1427 - accuracy: 1.0000\n",
            "Epoch 120/200\n",
            "2/2 [==============================] - 0s 6ms/step - loss: 0.1420 - accuracy: 1.0000\n",
            "Epoch 121/200\n",
            "2/2 [==============================] - 0s 5ms/step - loss: 0.1407 - accuracy: 1.0000\n",
            "Epoch 122/200\n",
            "2/2 [==============================] - 0s 6ms/step - loss: 0.1387 - accuracy: 1.0000\n",
            "Epoch 123/200\n",
            "2/2 [==============================] - 0s 5ms/step - loss: 0.1380 - accuracy: 1.0000\n",
            "Epoch 124/200\n",
            "2/2 [==============================] - 0s 6ms/step - loss: 0.1371 - accuracy: 1.0000\n",
            "Epoch 125/200\n",
            "2/2 [==============================] - 0s 6ms/step - loss: 0.1374 - accuracy: 1.0000\n",
            "Epoch 126/200\n",
            "2/2 [==============================] - 0s 5ms/step - loss: 0.1339 - accuracy: 1.0000\n",
            "Epoch 127/200\n",
            "2/2 [==============================] - 0s 6ms/step - loss: 0.1339 - accuracy: 1.0000\n",
            "Epoch 128/200\n",
            "2/2 [==============================] - 0s 5ms/step - loss: 0.1327 - accuracy: 1.0000\n",
            "Epoch 129/200\n",
            "2/2 [==============================] - 0s 5ms/step - loss: 0.1298 - accuracy: 1.0000\n",
            "Epoch 130/200\n",
            "2/2 [==============================] - 0s 5ms/step - loss: 0.1301 - accuracy: 1.0000\n",
            "Epoch 131/200\n",
            "2/2 [==============================] - 0s 8ms/step - loss: 0.1288 - accuracy: 1.0000\n",
            "Epoch 132/200\n",
            "2/2 [==============================] - 0s 5ms/step - loss: 0.1280 - accuracy: 1.0000\n",
            "Epoch 133/200\n",
            "2/2 [==============================] - 0s 5ms/step - loss: 0.1261 - accuracy: 1.0000\n",
            "Epoch 134/200\n",
            "2/2 [==============================] - 0s 6ms/step - loss: 0.1251 - accuracy: 1.0000\n",
            "Epoch 135/200\n",
            "2/2 [==============================] - 0s 9ms/step - loss: 0.1251 - accuracy: 1.0000\n",
            "Epoch 136/200\n",
            "2/2 [==============================] - 0s 6ms/step - loss: 0.1239 - accuracy: 1.0000\n",
            "Epoch 137/200\n",
            "2/2 [==============================] - 0s 6ms/step - loss: 0.1213 - accuracy: 1.0000\n",
            "Epoch 138/200\n",
            "2/2 [==============================] - 0s 8ms/step - loss: 0.1209 - accuracy: 1.0000\n",
            "Epoch 139/200\n",
            "2/2 [==============================] - 0s 7ms/step - loss: 0.1198 - accuracy: 1.0000\n",
            "Epoch 140/200\n",
            "2/2 [==============================] - 0s 6ms/step - loss: 0.1182 - accuracy: 1.0000\n",
            "Epoch 141/200\n",
            "2/2 [==============================] - 0s 5ms/step - loss: 0.1164 - accuracy: 1.0000\n",
            "Epoch 142/200\n",
            "2/2 [==============================] - 0s 5ms/step - loss: 0.1162 - accuracy: 1.0000\n",
            "Epoch 143/200\n",
            "2/2 [==============================] - 0s 5ms/step - loss: 0.1147 - accuracy: 1.0000\n",
            "Epoch 144/200\n",
            "2/2 [==============================] - 0s 5ms/step - loss: 0.1144 - accuracy: 1.0000\n",
            "Epoch 145/200\n",
            "2/2 [==============================] - 0s 5ms/step - loss: 0.1131 - accuracy: 1.0000\n",
            "Epoch 146/200\n",
            "2/2 [==============================] - 0s 5ms/step - loss: 0.1128 - accuracy: 1.0000\n",
            "Epoch 147/200\n",
            "2/2 [==============================] - 0s 5ms/step - loss: 0.1099 - accuracy: 1.0000\n",
            "Epoch 148/200\n",
            "2/2 [==============================] - 0s 5ms/step - loss: 0.1099 - accuracy: 1.0000\n",
            "Epoch 149/200\n",
            "2/2 [==============================] - 0s 5ms/step - loss: 0.1086 - accuracy: 1.0000\n",
            "Epoch 150/200\n",
            "2/2 [==============================] - 0s 5ms/step - loss: 0.1107 - accuracy: 1.0000\n",
            "Epoch 151/200\n",
            "2/2 [==============================] - 0s 6ms/step - loss: 0.1057 - accuracy: 1.0000\n",
            "Epoch 152/200\n",
            "2/2 [==============================] - 0s 5ms/step - loss: 0.1067 - accuracy: 1.0000\n",
            "Epoch 153/200\n",
            "2/2 [==============================] - 0s 5ms/step - loss: 0.1052 - accuracy: 1.0000\n",
            "Epoch 154/200\n",
            "2/2 [==============================] - 0s 6ms/step - loss: 0.1037 - accuracy: 1.0000\n",
            "Epoch 155/200\n",
            "2/2 [==============================] - 0s 5ms/step - loss: 0.1025 - accuracy: 1.0000\n",
            "Epoch 156/200\n",
            "2/2 [==============================] - 0s 6ms/step - loss: 0.1015 - accuracy: 1.0000\n",
            "Epoch 157/200\n",
            "2/2 [==============================] - 0s 8ms/step - loss: 0.1006 - accuracy: 1.0000\n",
            "Epoch 158/200\n",
            "2/2 [==============================] - 0s 6ms/step - loss: 0.0990 - accuracy: 1.0000\n",
            "Epoch 159/200\n",
            "2/2 [==============================] - 0s 6ms/step - loss: 0.0987 - accuracy: 1.0000\n",
            "Epoch 160/200\n",
            "2/2 [==============================] - 0s 5ms/step - loss: 0.0970 - accuracy: 1.0000\n",
            "Epoch 161/200\n",
            "2/2 [==============================] - 0s 6ms/step - loss: 0.0976 - accuracy: 1.0000\n",
            "Epoch 162/200\n",
            "2/2 [==============================] - 0s 5ms/step - loss: 0.0959 - accuracy: 1.0000\n",
            "Epoch 163/200\n",
            "2/2 [==============================] - 0s 5ms/step - loss: 0.0961 - accuracy: 1.0000\n",
            "Epoch 164/200\n",
            "2/2 [==============================] - 0s 6ms/step - loss: 0.0968 - accuracy: 1.0000\n",
            "Epoch 165/200\n",
            "2/2 [==============================] - 0s 4ms/step - loss: 0.0953 - accuracy: 1.0000\n",
            "Epoch 166/200\n",
            "2/2 [==============================] - 0s 5ms/step - loss: 0.0933 - accuracy: 1.0000\n",
            "Epoch 167/200\n",
            "2/2 [==============================] - 0s 5ms/step - loss: 0.0911 - accuracy: 1.0000\n",
            "Epoch 168/200\n",
            "2/2 [==============================] - 0s 6ms/step - loss: 0.0920 - accuracy: 1.0000\n",
            "Epoch 169/200\n",
            "2/2 [==============================] - 0s 5ms/step - loss: 0.0912 - accuracy: 1.0000\n",
            "Epoch 170/200\n",
            "2/2 [==============================] - 0s 5ms/step - loss: 0.0901 - accuracy: 1.0000\n",
            "Epoch 171/200\n",
            "2/2 [==============================] - 0s 5ms/step - loss: 0.0880 - accuracy: 1.0000\n",
            "Epoch 172/200\n",
            "2/2 [==============================] - 0s 5ms/step - loss: 0.0890 - accuracy: 1.0000\n",
            "Epoch 173/200\n",
            "2/2 [==============================] - 0s 4ms/step - loss: 0.0844 - accuracy: 1.0000\n",
            "Epoch 174/200\n",
            "2/2 [==============================] - 0s 6ms/step - loss: 0.0875 - accuracy: 1.0000\n",
            "Epoch 175/200\n",
            "2/2 [==============================] - 0s 6ms/step - loss: 0.0833 - accuracy: 1.0000\n",
            "Epoch 176/200\n",
            "2/2 [==============================] - 0s 4ms/step - loss: 0.0841 - accuracy: 1.0000\n",
            "Epoch 177/200\n",
            "2/2 [==============================] - 0s 5ms/step - loss: 0.0818 - accuracy: 1.0000\n",
            "Epoch 178/200\n",
            "2/2 [==============================] - 0s 10ms/step - loss: 0.0819 - accuracy: 1.0000\n",
            "Epoch 179/200\n",
            "2/2 [==============================] - 0s 7ms/step - loss: 0.0800 - accuracy: 1.0000\n",
            "Epoch 180/200\n",
            "2/2 [==============================] - 0s 6ms/step - loss: 0.0798 - accuracy: 1.0000\n",
            "Epoch 181/200\n",
            "2/2 [==============================] - 0s 6ms/step - loss: 0.0789 - accuracy: 1.0000\n",
            "Epoch 182/200\n",
            "2/2 [==============================] - 0s 4ms/step - loss: 0.0785 - accuracy: 1.0000\n",
            "Epoch 183/200\n",
            "2/2 [==============================] - 0s 5ms/step - loss: 0.0775 - accuracy: 1.0000\n",
            "Epoch 184/200\n",
            "2/2 [==============================] - 0s 6ms/step - loss: 0.0762 - accuracy: 1.0000\n",
            "Epoch 185/200\n",
            "2/2 [==============================] - 0s 5ms/step - loss: 0.0756 - accuracy: 1.0000\n",
            "Epoch 186/200\n",
            "2/2 [==============================] - 0s 6ms/step - loss: 0.0747 - accuracy: 1.0000\n",
            "Epoch 187/200\n",
            "2/2 [==============================] - 0s 5ms/step - loss: 0.0734 - accuracy: 1.0000\n",
            "Epoch 188/200\n",
            "2/2 [==============================] - 0s 6ms/step - loss: 0.0725 - accuracy: 1.0000\n",
            "Epoch 189/200\n",
            "2/2 [==============================] - 0s 6ms/step - loss: 0.0719 - accuracy: 1.0000\n",
            "Epoch 190/200\n",
            "2/2 [==============================] - 0s 5ms/step - loss: 0.0709 - accuracy: 1.0000\n",
            "Epoch 191/200\n",
            "2/2 [==============================] - 0s 7ms/step - loss: 0.0709 - accuracy: 1.0000\n",
            "Epoch 192/200\n",
            "2/2 [==============================] - 0s 6ms/step - loss: 0.0700 - accuracy: 1.0000\n",
            "Epoch 193/200\n",
            "2/2 [==============================] - 0s 5ms/step - loss: 0.0691 - accuracy: 1.0000\n",
            "Epoch 194/200\n",
            "2/2 [==============================] - 0s 7ms/step - loss: 0.0682 - accuracy: 1.0000\n",
            "Epoch 195/200\n",
            "2/2 [==============================] - 0s 6ms/step - loss: 0.0683 - accuracy: 1.0000\n",
            "Epoch 196/200\n",
            "2/2 [==============================] - 0s 6ms/step - loss: 0.0668 - accuracy: 1.0000\n",
            "Epoch 197/200\n",
            "2/2 [==============================] - 0s 7ms/step - loss: 0.0669 - accuracy: 1.0000\n",
            "Epoch 198/200\n",
            "2/2 [==============================] - 0s 6ms/step - loss: 0.0653 - accuracy: 1.0000\n",
            "Epoch 199/200\n",
            "2/2 [==============================] - 0s 6ms/step - loss: 0.0650 - accuracy: 1.0000\n",
            "Epoch 200/200\n",
            "2/2 [==============================] - 0s 6ms/step - loss: 0.0647 - accuracy: 1.0000\n"
          ],
          "name": "stdout"
        },
        {
          "output_type": "execute_result",
          "data": {
            "text/plain": [
              "<tensorflow.python.keras.callbacks.History at 0x7f42c236c4e0>"
            ]
          },
          "metadata": {
            "tags": []
          },
          "execution_count": 126
        }
      ]
    },
    {
      "cell_type": "markdown",
      "metadata": {
        "id": "ZfesHw-1oNWU"
      },
      "source": [
        "* 학습된 모델\n",
        "* 현재 인풋 (단어 하나 or 시작점 표시)\n",
        "* 생성하려는 문장의 길이 \n",
        "* 결과를 단어로 변환해주기 위한 TOKENIZER"
      ]
    },
    {
      "cell_type": "code",
      "metadata": {
        "id": "-KYfcq3Xn3_b",
        "outputId": "ad8c14b8-92c1-41c5-f554-49fd3c3b6596",
        "colab": {
          "base_uri": "https://localhost:8080/"
        }
      },
      "source": [
        "X[:2]"
      ],
      "execution_count": null,
      "outputs": [
        {
          "output_type": "execute_result",
          "data": {
            "text/plain": [
              "array([[ 0,  0,  0,  0,  0, 12],\n",
              "       [ 0,  0,  0,  0, 12, 13]], dtype=int32)"
            ]
          },
          "metadata": {
            "tags": []
          },
          "execution_count": 77
        }
      ]
    },
    {
      "cell_type": "code",
      "metadata": {
        "id": "4FpBHiDpopub"
      },
      "source": [
        "import numpy as np"
      ],
      "execution_count": null,
      "outputs": []
    },
    {
      "cell_type": "code",
      "metadata": {
        "id": "meFGxJxYoj78",
        "outputId": "ebbd236e-52fa-4001-9e6f-1ddee2e73458",
        "colab": {
          "base_uri": "https://localhost:8080/"
        }
      },
      "source": [
        "np.argmax(model.predict(X[:2]), axis=1)"
      ],
      "execution_count": null,
      "outputs": [
        {
          "output_type": "execute_result",
          "data": {
            "text/plain": [
              "array([13, 14])"
            ]
          },
          "metadata": {
            "tags": []
          },
          "execution_count": 79
        }
      ]
    },
    {
      "cell_type": "code",
      "metadata": {
        "id": "R-kQ5aPDo8VC"
      },
      "source": [
        "# '대한' 다음 단어를 생성하려하면\n",
        "# '대한' => input 모양에 맞게 변형\n",
        "encoded = t.texts_to_sequences(['대한'])\n",
        "encoded = tf.keras.preprocessing.sequence.pad_sequences(encoded, maxlen=maxlen)"
      ],
      "execution_count": null,
      "outputs": []
    },
    {
      "cell_type": "code",
      "metadata": {
        "id": "kCXGNsAfpfQr"
      },
      "source": [
        "result = model.predict(encoded)"
      ],
      "execution_count": null,
      "outputs": []
    },
    {
      "cell_type": "code",
      "metadata": {
        "id": "aC4gdu1Ypjgs",
        "outputId": "3e0302e1-35c6-4146-8858-d0706ac24f8c",
        "colab": {
          "base_uri": "https://localhost:8080/"
        }
      },
      "source": [
        "np.argmax(result, axis=1)"
      ],
      "execution_count": null,
      "outputs": [
        {
          "output_type": "execute_result",
          "data": {
            "text/plain": [
              "array([6])"
            ]
          },
          "metadata": {
            "tags": []
          },
          "execution_count": 82
        }
      ]
    },
    {
      "cell_type": "code",
      "metadata": {
        "id": "y52y11dDpx7i",
        "outputId": "02a6825c-93bd-49f8-aaef-7e7819107011",
        "colab": {
          "base_uri": "https://localhost:8080/",
          "height": 34
        }
      },
      "source": [
        "id_to_word[np.argmax(result, axis=1)[0]]"
      ],
      "execution_count": null,
      "outputs": [
        {
          "output_type": "execute_result",
          "data": {
            "application/vnd.google.colaboratory.intrinsic+json": {
              "type": "string"
            },
            "text/plain": [
              "'사람'"
            ]
          },
          "metadata": {
            "tags": []
          },
          "execution_count": 83
        }
      ]
    },
    {
      "cell_type": "code",
      "metadata": {
        "id": "kwVZ_HypsRvV",
        "outputId": "1b65725e-4a41-47a3-972e-bbad74984fb0",
        "colab": {
          "base_uri": "https://localhost:8080/"
        }
      },
      "source": [
        "maxlen"
      ],
      "execution_count": null,
      "outputs": [
        {
          "output_type": "execute_result",
          "data": {
            "text/plain": [
              "7"
            ]
          },
          "metadata": {
            "tags": []
          },
          "execution_count": 84
        }
      ]
    },
    {
      "cell_type": "code",
      "metadata": {
        "id": "tAImQX-lsTnE",
        "outputId": "90642426-77d6-43c1-d50f-16d4165bc02d",
        "colab": {
          "base_uri": "https://localhost:8080/"
        }
      },
      "source": [
        "t.texts_to_sequences([current_input])"
      ],
      "execution_count": null,
      "outputs": [
        {
          "output_type": "execute_result",
          "data": {
            "text/plain": [
              "[[5, 6, 7, 8, 9, 9]]"
            ]
          },
          "metadata": {
            "tags": []
          },
          "execution_count": 85
        }
      ]
    },
    {
      "cell_type": "code",
      "metadata": {
        "id": "2oeTQFfzqbGz",
        "outputId": "ba6be09a-6e89-49cf-f8cd-118376b81074",
        "colab": {
          "base_uri": "https://localhost:8080/"
        }
      },
      "source": [
        "n = 10\n",
        "current_input = '대한'\n",
        "\n",
        "result_str = current_input\n",
        "for i in range(n):\n",
        "  # print(current_input)\n",
        "  encoded = t.texts_to_sequences([current_input])\n",
        "  print(encoded)\n",
        "  encoded = tf.keras.preprocessing.sequence.pad_sequences(encoded, maxlen=maxlen-1)\n",
        "  print(encoded)\n",
        "\n",
        "  result = model.predict(encoded)\n",
        "  result_word = id_to_word[np.argmax(result, axis=1)[0]]\n",
        "  result_str += ' ' + result_word\n",
        "  current_input += ' ' + result_word\n"
      ],
      "execution_count": null,
      "outputs": [
        {
          "output_type": "stream",
          "text": [
            "[[5]]\n",
            "[[0 0 0 0 0 5]]\n",
            "[[5, 6]]\n",
            "[[0 0 0 0 5 6]]\n",
            "[[5, 6, 7]]\n",
            "[[0 0 0 5 6 7]]\n",
            "[[5, 6, 7, 8]]\n",
            "[[0 0 5 6 7 8]]\n",
            "[[5, 6, 7, 8, 9]]\n",
            "[[0 5 6 7 8 9]]\n",
            "[[5, 6, 7, 8, 9, 9]]\n",
            "[[5 6 7 8 9 9]]\n",
            "[[5, 6, 7, 8, 9, 9, 10]]\n",
            "[[ 6  7  8  9  9 10]]\n",
            "[[5, 6, 7, 8, 9, 9, 10, 41]]\n",
            "[[ 7  8  9  9 10 41]]\n",
            "[[5, 6, 7, 8, 9, 9, 10, 41, 27]]\n",
            "[[ 8  9  9 10 41 27]]\n",
            "[[5, 6, 7, 8, 9, 9, 10, 41, 27, 26]]\n",
            "[[ 9  9 10 41 27 26]]\n"
          ],
          "name": "stdout"
        }
      ]
    },
    {
      "cell_type": "code",
      "metadata": {
        "id": "LHzZr4GIrIRm",
        "outputId": "b9aa2804-7efe-42e2-9046-29a5fb58f69a",
        "colab": {
          "base_uri": "https://localhost:8080/",
          "height": 34
        }
      },
      "source": [
        "result_str"
      ],
      "execution_count": null,
      "outputs": [
        {
          "output_type": "execute_result",
          "data": {
            "application/vnd.google.colaboratory.intrinsic+json": {
              "type": "string"
            },
            "text/plain": [
              "'대한 사람 대한으로 길이 보전하세 보전하세 우리 일편단심일세 듯 두른 두른'"
            ]
          },
          "metadata": {
            "tags": []
          },
          "execution_count": 113
        }
      ]
    },
    {
      "cell_type": "code",
      "metadata": {
        "id": "DCXMvySru3WN"
      },
      "source": [
        "def sentence_generation(model, t, current_input, n):\n",
        "  result_str = current_input\n",
        "  for i in range(n):\n",
        "    encoded = t.texts_to_sequences([current_input])\n",
        "    encoded = tf.keras.preprocessing.sequence.pad_sequences(encoded, maxlen=maxlen-1)\n",
        "\n",
        "    result = model.predict(encoded)\n",
        "    result_word = id_to_word[np.argmax(result, axis=1)[0]]\n",
        "    result_str += ' ' + result_word\n",
        "    current_input += ' ' + result_word\n",
        "\n",
        "  return result_str"
      ],
      "execution_count": null,
      "outputs": []
    },
    {
      "cell_type": "code",
      "metadata": {
        "id": "pKv7EumVvIl7",
        "outputId": "4af930dd-b894-4aff-e46d-7f0a4127ea15",
        "colab": {
          "base_uri": "https://localhost:8080/"
        }
      },
      "source": [
        "print(sentence_generation(model, t, '마르고',n=9))"
      ],
      "execution_count": null,
      "outputs": [
        {
          "output_type": "stream",
          "text": [
            "마르고 삼천리 화려 강산 길이 길이 보전하세 보전하세 우리 일편단심일세\n"
          ],
          "name": "stdout"
        }
      ]
    }
  ]
}