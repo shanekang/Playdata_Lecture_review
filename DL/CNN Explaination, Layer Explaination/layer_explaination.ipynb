{
  "nbformat": 4,
  "nbformat_minor": 0,
  "metadata": {
    "colab": {
      "name": "layer_explaination.ipynb",
      "provenance": [],
      "collapsed_sections": []
    },
    "kernelspec": {
      "name": "python3",
      "display_name": "Python 3"
    },
    "accelerator": "GPU"
  },
  "cells": [
    {
      "cell_type": "code",
      "metadata": {
        "id": "ZLUpwJQ1_6xe",
        "colab_type": "code",
        "colab": {}
      },
      "source": [
        "import tensorflow as tf"
      ],
      "execution_count": 1,
      "outputs": []
    },
    {
      "cell_type": "code",
      "metadata": {
        "id": "Lv1502gt_8NE",
        "colab_type": "code",
        "colab": {
          "base_uri": "https://localhost:8080/",
          "height": 53
        },
        "outputId": "5e4ec6c5-557c-4e93-ceba-301c775aa185"
      },
      "source": [
        "(x_train, y_train), (x_test, y_test) = tf.keras.datasets.mnist.load_data()"
      ],
      "execution_count": 2,
      "outputs": [
        {
          "output_type": "stream",
          "text": [
            "Downloading data from https://storage.googleapis.com/tensorflow/tf-keras-datasets/mnist.npz\n",
            "11493376/11490434 [==============================] - 0s 0us/step\n"
          ],
          "name": "stdout"
        }
      ]
    },
    {
      "cell_type": "code",
      "metadata": {
        "id": "thWN9aJcEoWd",
        "colab_type": "code",
        "colab": {}
      },
      "source": [
        "x_train = x_train / 255.0\n",
        "x_test = x_test / 255.0"
      ],
      "execution_count": 9,
      "outputs": []
    },
    {
      "cell_type": "code",
      "metadata": {
        "id": "Nv1um5oqAWnR",
        "colab_type": "code",
        "colab": {
          "base_uri": "https://localhost:8080/",
          "height": 35
        },
        "outputId": "992f5871-bfc4-4b4c-847b-7d65a90bc090"
      },
      "source": [
        "x_train.shape"
      ],
      "execution_count": 10,
      "outputs": [
        {
          "output_type": "execute_result",
          "data": {
            "text/plain": [
              "(60000, 28, 28)"
            ]
          },
          "metadata": {
            "tags": []
          },
          "execution_count": 10
        }
      ]
    },
    {
      "cell_type": "code",
      "metadata": {
        "id": "JOMCTBGlDwe3",
        "colab_type": "code",
        "colab": {}
      },
      "source": [
        "# x_train shape -> (60000, 28, 28)\n",
        "# 우리는 실험에 사용할 첫번째 train image를 가져와서, shape 조절해줘야함\n",
        "image = x_train[0]\n",
        "image = image[tf.newaxis, ..., tf.newaxis]"
      ],
      "execution_count": 12,
      "outputs": []
    },
    {
      "cell_type": "code",
      "metadata": {
        "id": "aPcuDgyjDWYr",
        "colab_type": "code",
        "colab": {}
      },
      "source": [
        "conv_layer1 = tf.keras.layers.Conv2D(6, (5,5), activation='sigmoid', input_shape=(28,28,1))"
      ],
      "execution_count": 14,
      "outputs": []
    },
    {
      "cell_type": "code",
      "metadata": {
        "id": "eu3txn5_A4y2",
        "colab_type": "code",
        "colab": {}
      },
      "source": [
        "image = tf.cast(image, dtype=tf.float32)"
      ],
      "execution_count": 15,
      "outputs": []
    },
    {
      "cell_type": "code",
      "metadata": {
        "id": "TkForTZxFAel",
        "colab_type": "code",
        "colab": {}
      },
      "source": [
        "out1 = conv_layer1(image)"
      ],
      "execution_count": 17,
      "outputs": []
    },
    {
      "cell_type": "code",
      "metadata": {
        "id": "xq6ytS9zAk-s",
        "colab_type": "code",
        "colab": {}
      },
      "source": [
        "conv_layer1 = tf.keras.layers.Conv2D(6, (5,5), input_shape = (28, 28, 1))"
      ],
      "execution_count": 5,
      "outputs": []
    },
    {
      "cell_type": "code",
      "metadata": {
        "id": "7s-gNTdqFz0r",
        "colab_type": "code",
        "colab": {
          "base_uri": "https://localhost:8080/",
          "height": 1000
        },
        "outputId": "af07f15d-7311-45f0-dbed-954f49dc4555"
      },
      "source": [
        "conv_layer1.get_weights()"
      ],
      "execution_count": 19,
      "outputs": [
        {
          "output_type": "execute_result",
          "data": {
            "text/plain": [
              "[array([[[[ 0.14940052, -0.18466075,  0.10663898, -0.1532737 ,\n",
              "           -0.02811684,  0.04011168]],\n",
              " \n",
              "         [[ 0.06299844,  0.13777624, -0.11960866, -0.01576968,\n",
              "           -0.16328359,  0.12748025]],\n",
              " \n",
              "         [[-0.08942244,  0.02827512, -0.11610894,  0.17410262,\n",
              "           -0.05193147, -0.16387686]],\n",
              " \n",
              "         [[ 0.04607809, -0.07298907, -0.02269398, -0.08175331,\n",
              "           -0.059884  ,  0.03727672]],\n",
              " \n",
              "         [[-0.0589623 ,  0.06088969,  0.07735817, -0.05073969,\n",
              "           -0.13233791, -0.00981091]]],\n",
              " \n",
              " \n",
              "        [[[ 0.15676297, -0.13060759,  0.07169579,  0.06366293,\n",
              "           -0.14098565,  0.08282773]],\n",
              " \n",
              "         [[ 0.1143177 , -0.13762349, -0.03805335, -0.05830628,\n",
              "           -0.04136743,  0.09237765]],\n",
              " \n",
              "         [[ 0.15085407, -0.13455778,  0.16403766, -0.0676623 ,\n",
              "            0.12937964,  0.17830701]],\n",
              " \n",
              "         [[-0.02105838, -0.01666422,  0.15851177,  0.14437707,\n",
              "            0.02571841,  0.04123035]],\n",
              " \n",
              "         [[ 0.03135137,  0.12445767,  0.18152983,  0.16059749,\n",
              "            0.1243033 ,  0.01366697]]],\n",
              " \n",
              " \n",
              "        [[[-0.1060894 ,  0.0315695 ,  0.15797488, -0.03798528,\n",
              "            0.10150443,  0.15172063]],\n",
              " \n",
              "         [[ 0.11347701,  0.18255024, -0.06257234, -0.17526959,\n",
              "           -0.13571522,  0.1263247 ]],\n",
              " \n",
              "         [[-0.07689944, -0.09306087,  0.01331724, -0.06920527,\n",
              "            0.07832615, -0.031795  ]],\n",
              " \n",
              "         [[ 0.09456758, -0.18008615, -0.11494555, -0.17691705,\n",
              "           -0.13651815,  0.1339802 ]],\n",
              " \n",
              "         [[-0.07067036,  0.09764867, -0.0041741 , -0.08383525,\n",
              "            0.15143265,  0.1692668 ]]],\n",
              " \n",
              " \n",
              "        [[[ 0.18439873,  0.11501615,  0.17775287,  0.08166672,\n",
              "            0.12676705,  0.10946228]],\n",
              " \n",
              "         [[-0.03291915,  0.13997506, -0.00746527, -0.12496711,\n",
              "            0.03889284, -0.13436155]],\n",
              " \n",
              "         [[ 0.16155256,  0.0128998 ,  0.10590319, -0.14537036,\n",
              "           -0.18170722,  0.17875154]],\n",
              " \n",
              "         [[ 0.04711187,  0.06558613,  0.10156296,  0.02797769,\n",
              "           -0.01287697, -0.14846483]],\n",
              " \n",
              "         [[ 0.00170904,  0.02266818, -0.05233754, -0.0233171 ,\n",
              "            0.12400387,  0.14870484]]],\n",
              " \n",
              " \n",
              "        [[[-0.13636765,  0.14783163,  0.09425582,  0.17252411,\n",
              "           -0.14498824, -0.0862502 ]],\n",
              " \n",
              "         [[-0.14405163,  0.11966027,  0.14325474, -0.10615438,\n",
              "            0.11391406,  0.04293807]],\n",
              " \n",
              "         [[ 0.13627626, -0.1346504 , -0.07872821, -0.1586248 ,\n",
              "           -0.00886481, -0.13193235]],\n",
              " \n",
              "         [[ 0.02233811, -0.14126836, -0.13985205,  0.02086127,\n",
              "           -0.00708601,  0.09227236]],\n",
              " \n",
              "         [[ 0.07251881,  0.00739759, -0.12382805,  0.05364856,\n",
              "            0.05512048, -0.00755943]]]], dtype=float32),\n",
              " array([0., 0., 0., 0., 0., 0.], dtype=float32)]"
            ]
          },
          "metadata": {
            "tags": []
          },
          "execution_count": 19
        }
      ]
    },
    {
      "cell_type": "code",
      "metadata": {
        "id": "nTvZIiqpGu8L",
        "colab_type": "code",
        "colab": {}
      },
      "source": [
        "weights1 = conv_layer1.get_weights()[0]"
      ],
      "execution_count": 31,
      "outputs": []
    },
    {
      "cell_type": "code",
      "metadata": {
        "id": "zSDb-cNpJZfv",
        "colab_type": "code",
        "colab": {
          "base_uri": "https://localhost:8080/",
          "height": 35
        },
        "outputId": "e44d2e87-c5a3-407a-8393-2a9e7ad1f45d"
      },
      "source": [
        "weights1.shape"
      ],
      "execution_count": 33,
      "outputs": [
        {
          "output_type": "execute_result",
          "data": {
            "text/plain": [
              "(5, 5, 1, 6)"
            ]
          },
          "metadata": {
            "tags": []
          },
          "execution_count": 33
        }
      ]
    },
    {
      "cell_type": "code",
      "metadata": {
        "id": "sxbojSPyGj7w",
        "colab_type": "code",
        "colab": {}
      },
      "source": [
        "import matplotlib.pyplot as plt"
      ],
      "execution_count": 21,
      "outputs": []
    },
    {
      "cell_type": "code",
      "metadata": {
        "id": "xFiabwtdGZNi",
        "colab_type": "code",
        "colab": {
          "base_uri": "https://localhost:8080/",
          "height": 297
        },
        "outputId": "703c73f9-a867-4992-a2f3-cb5b97731604"
      },
      "source": [
        "#subplot\n",
        "fig, axs = plt.subplots(2,3)\n",
        "\n",
        "for i in range(2):\n",
        "  for j in range(3):\n",
        "    axs[i][j].imshow(weights1[:,:,0,(i*3) + j], cmap='gray')\n",
        "    axs[i][j].axis('off')\n",
        "plt.tight_layout()"
      ],
      "execution_count": 41,
      "outputs": [
        {
          "output_type": "display_data",
          "data": {
            "image/png": "[encoded data removed]",
            "text/plain": [
              "<Figure size 432x288 with 6 Axes>"
            ]
          },
          "metadata": {
            "tags": [],
            "needs_background": "light"
          }
        }
      ]
    },
    {
      "cell_type": "code",
      "metadata": {
        "id": "MPhwYPbKHJ9_",
        "colab_type": "code",
        "colab": {
          "base_uri": "https://localhost:8080/",
          "height": 283
        },
        "outputId": "86621db2-8b7a-4db8-c2c5-214a86c61720"
      },
      "source": [
        "plt.imshow(x_train[0], cmap='gray')"
      ],
      "execution_count": 36,
      "outputs": [
        {
          "output_type": "execute_result",
          "data": {
            "text/plain": [
              "<matplotlib.image.AxesImage at 0x7f9d2ad1f278>"
            ]
          },
          "metadata": {
            "tags": []
          },
          "execution_count": 36
        },
        {
          "output_type": "display_data",
          "data": {
            "image/png": "[encoded data removed]",
            "text/plain": [
              "<Figure size 432x288 with 1 Axes>"
            ]
          },
          "metadata": {
            "tags": [],
            "needs_background": "light"
          }
        }
      ]
    },
    {
      "cell_type": "code",
      "metadata": {
        "id": "iS_ZhL_IJ3ZK",
        "colab_type": "code",
        "colab": {
          "base_uri": "https://localhost:8080/",
          "height": 283
        },
        "outputId": "fa90e188-ef63-4044-a0b6-91802b19501c"
      },
      "source": [
        "plt.imshow(out1[0,:,:,0], cmap='gray')"
      ],
      "execution_count": 37,
      "outputs": [
        {
          "output_type": "execute_result",
          "data": {
            "text/plain": [
              "<matplotlib.image.AxesImage at 0x7f9d2ac76cf8>"
            ]
          },
          "metadata": {
            "tags": []
          },
          "execution_count": 37
        },
        {
          "output_type": "display_data",
          "data": {
            "image/png": "[encoded data removed]",
            "text/plain": [
              "<Figure size 432x288 with 1 Axes>"
            ]
          },
          "metadata": {
            "tags": [],
            "needs_background": "light"
          }
        }
      ]
    },
    {
      "cell_type": "code",
      "metadata": {
        "id": "4otsgqOfKJ5a",
        "colab_type": "code",
        "colab": {
          "base_uri": "https://localhost:8080/",
          "height": 297
        },
        "outputId": "43053c7e-385c-449c-eaba-06226fe95a9b"
      },
      "source": [
        "#subplot\n",
        "fig, axs = plt.subplots(2,3)\n",
        "\n",
        "for i in range(2):\n",
        "  for j in range(3):\n",
        "    axs[i][j].imshow(out1[0,:,:,(i*3) + j], cmap='gray')\n",
        "    axs[i][j].axis('off')\n",
        "plt.tight_layout()"
      ],
      "execution_count": 42,
      "outputs": [
        {
          "output_type": "display_data",
          "data": {
            "image/png": "[encoded data removed]",
            "text/plain": [
              "<Figure size 432x288 with 6 Axes>"
            ]
          },
          "metadata": {
            "tags": [],
            "needs_background": "light"
          }
        }
      ]
    }
  ]
}