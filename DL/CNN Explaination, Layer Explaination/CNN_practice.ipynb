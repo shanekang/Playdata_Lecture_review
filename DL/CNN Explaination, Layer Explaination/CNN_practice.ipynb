{
  "nbformat": 4,
  "nbformat_minor": 0,
  "metadata": {
    "colab": {
      "name": "CNN_practice.ipynb",
      "provenance": [],
      "collapsed_sections": []
    },
    "kernelspec": {
      "name": "python3",
      "display_name": "Python 3"
    },
    "accelerator": "GPU"
  },
  "cells": [
    {
      "cell_type": "code",
      "metadata": {
        "id": "v52hfpk02e7k",
        "colab_type": "code",
        "colab": {}
      },
      "source": [
        "import tensorflow as tf"
      ],
      "execution_count": 18,
      "outputs": []
    },
    {
      "cell_type": "code",
      "metadata": {
        "id": "iWnpbx5m24_d",
        "colab_type": "code",
        "colab": {}
      },
      "source": [
        "fashion_mnist = tf.keras.datasets.fashion_mnist\n",
        "(x_train, y_train), (x_test, y_test) = fashion_mnist.load_data()\n",
        "\n",
        "x_train, x_test = x_train / 255., x_test / 255.0"
      ],
      "execution_count": 19,
      "outputs": []
    },
    {
      "cell_type": "markdown",
      "metadata": {
        "id": "F2RQsMy73mvs",
        "colab_type": "text"
      },
      "source": [
        "1. Input\n",
        "2. Convolutions\n",
        "3. Subsampling (Pooling)\n",
        "4. Convolutions\n",
        "5. Subsampling (Pooling)\n",
        "6. Fully Connection (Dense)\n",
        "7. Fully Connection (Dense)\n",
        "8. Fully Connection (Output)"
      ]
    },
    {
      "cell_type": "code",
      "metadata": {
        "id": "mIBcwhZx5fvx",
        "colab_type": "code",
        "colab": {}
      },
      "source": [
        "import matplotlib.pyplot as plt"
      ],
      "execution_count": 20,
      "outputs": []
    },
    {
      "cell_type": "code",
      "metadata": {
        "id": "b73MouoR5j2C",
        "colab_type": "code",
        "colab": {
          "base_uri": "https://localhost:8080/",
          "height": 283
        },
        "outputId": "0ee32a8a-ac73-4f40-da61-49d728f80368"
      },
      "source": [
        "plt.imshow(x_train[100])"
      ],
      "execution_count": 21,
      "outputs": [
        {
          "output_type": "execute_result",
          "data": {
            "text/plain": [
              "<matplotlib.image.AxesImage at 0x7ff89f626eb8>"
            ]
          },
          "metadata": {
            "tags": []
          },
          "execution_count": 21
        },
        {
          "output_type": "display_data",
          "data": {
            "image/png": "[encoded data removed]",
            "text/plain": [
              "<Figure size 432x288 with 1 Axes>"
            ]
          },
          "metadata": {
            "tags": [],
            "needs_background": "light"
          }
        }
      ]
    },
    {
      "cell_type": "code",
      "metadata": {
        "id": "I4TFUc-D4LfN",
        "colab_type": "code",
        "colab": {}
      },
      "source": [
        "model = tf.keras.models.Sequential(\n",
        "    [\n",
        "      # 1. Input\n",
        "      # 2. Convolutions -> 선언 하면서 input_shape (filter 수 : 6)\n",
        "      tf.keras.layers.Conv2D(6, (5, 5), activation='sigmoid', input_shape=(28, 28, 1) ),\n",
        "      # 3. Subsampling (Pooling)\n",
        "      tf.keras.layers.MaxPooling2D((2,2)),\n",
        "      # 4. Convolutions ( fillter 수 : 16)\n",
        "      tf.keras.layers.Conv2D(16, (5,5), activation='sigmoid'),\n",
        "      # 5. Subsampling (Pooling)\n",
        "      tf.keras.layers.MaxPooling2D((2, 2)),\n",
        "      # 6. Fully Connection (Dense : 120개) 16 * 5 * 5 -> Flatten 하고 120개로 Fully connection\n",
        "      tf.keras.layers.Flatten(),\n",
        "      tf.keras.layers.Dense(120, activation='sigmoid'),\n",
        "      # 7. Fully Connection (Dense : 84개)\n",
        "      tf.keras.layers.Dense(84, activation='sigmoid'),\n",
        "      # 8. Fully Connection (Output : 10) 10개 class 개수\n",
        "      tf.keras.layers.Dense(10, activation='softmax'),\n",
        "    ]\n",
        ")"
      ],
      "execution_count": 22,
      "outputs": []
    },
    {
      "cell_type": "code",
      "metadata": {
        "id": "8Z3-lOJFxs6y",
        "colab_type": "code",
        "colab": {}
      },
      "source": [
        "model.build()"
      ],
      "execution_count": 23,
      "outputs": []
    },
    {
      "cell_type": "code",
      "metadata": {
        "id": "j_N8mIkcxwo_",
        "colab_type": "code",
        "colab": {}
      },
      "source": [
        "model.compile(\n",
        "    optimizer = tf.keras.optimizers.SGD(learning_rate=0.01, momentum=0.5),\n",
        "    loss = tf.keras.losses.SparseCategoricalCrossentropy(),\n",
        "    metrics = ['accuracy'] \n",
        ")"
      ],
      "execution_count": 24,
      "outputs": []
    },
    {
      "cell_type": "code",
      "metadata": {
        "id": "wiQP8IgNzaXO",
        "colab_type": "code",
        "colab": {}
      },
      "source": [
        "x_train = x_train[..., tf.newaxis]"
      ],
      "execution_count": 25,
      "outputs": []
    },
    {
      "cell_type": "code",
      "metadata": {
        "id": "3Ll_-WX91XFj",
        "colab_type": "code",
        "colab": {}
      },
      "source": [
        "x_test = x_test[..., tf.newaxis]"
      ],
      "execution_count": 28,
      "outputs": []
    },
    {
      "cell_type": "code",
      "metadata": {
        "id": "790WkMm32Qkq",
        "colab_type": "code",
        "colab": {
          "base_uri": "https://localhost:8080/",
          "height": 35
        },
        "outputId": "ccf4f4a5-026a-423e-a325-7bf898e497ad"
      },
      "source": [
        "x_test.shape, x_train.shape"
      ],
      "execution_count": 32,
      "outputs": [
        {
          "output_type": "execute_result",
          "data": {
            "text/plain": [
              "((10000, 28, 28, 1), (60000, 28, 28, 1))"
            ]
          },
          "metadata": {
            "tags": []
          },
          "execution_count": 32
        }
      ]
    },
    {
      "cell_type": "code",
      "metadata": {
        "id": "7Cp1NezGzPb9",
        "colab_type": "code",
        "colab": {
          "base_uri": "https://localhost:8080/",
          "height": 215
        },
        "outputId": "bd4d5ae9-5ab6-414e-96c3-825a2a842af1"
      },
      "source": [
        "model.fit(x_train, y_train, epochs = 5)"
      ],
      "execution_count": 29,
      "outputs": [
        {
          "output_type": "stream",
          "text": [
            "Epoch 1/5\n",
            "1875/1875 [==============================] - 4s 2ms/step - loss: 1.3406 - accuracy: 0.5285\n",
            "Epoch 2/5\n",
            "1875/1875 [==============================] - 5s 3ms/step - loss: 1.0809 - accuracy: 0.5900\n",
            "Epoch 3/5\n",
            "1875/1875 [==============================] - 4s 2ms/step - loss: 0.9695 - accuracy: 0.6360\n",
            "Epoch 4/5\n",
            "1875/1875 [==============================] - 5s 3ms/step - loss: 0.8930 - accuracy: 0.6744\n",
            "Epoch 5/5\n",
            "1875/1875 [==============================] - 4s 2ms/step - loss: 0.8360 - accuracy: 0.6968\n"
          ],
          "name": "stdout"
        },
        {
          "output_type": "execute_result",
          "data": {
            "text/plain": [
              "<tensorflow.python.keras.callbacks.History at 0x7ff8affded68>"
            ]
          },
          "metadata": {
            "tags": []
          },
          "execution_count": 29
        }
      ]
    },
    {
      "cell_type": "code",
      "metadata": {
        "id": "_PASg7EW1Ghq",
        "colab_type": "code",
        "colab": {
          "base_uri": "https://localhost:8080/",
          "height": 1000
        },
        "outputId": "4e8bdf40-2e12-426a-979c-70ddfb2fa047"
      },
      "source": [
        "history = model.fit(x_train, y_train, epochs=50, validation_data=(x_test, y_test) )"
      ],
      "execution_count": 31,
      "outputs": [
        {
          "output_type": "stream",
          "text": [
            "Epoch 1/50\n",
            "1875/1875 [==============================] - 5s 3ms/step - loss: 0.7923 - accuracy: 0.7118 - val_loss: 0.7911 - val_accuracy: 0.7113\n",
            "Epoch 2/50\n",
            "1875/1875 [==============================] - 5s 3ms/step - loss: 0.7552 - accuracy: 0.7239 - val_loss: 0.7564 - val_accuracy: 0.7265\n",
            "Epoch 3/50\n",
            "1875/1875 [==============================] - 5s 3ms/step - loss: 0.7220 - accuracy: 0.7321 - val_loss: 0.7249 - val_accuracy: 0.7324\n",
            "Epoch 4/50\n",
            "1875/1875 [==============================] - 5s 3ms/step - loss: 0.6933 - accuracy: 0.7389 - val_loss: 0.6975 - val_accuracy: 0.7378\n",
            "Epoch 5/50\n",
            "1875/1875 [==============================] - 5s 3ms/step - loss: 0.6690 - accuracy: 0.7444 - val_loss: 0.6815 - val_accuracy: 0.7382\n",
            "Epoch 6/50\n",
            "1875/1875 [==============================] - 5s 3ms/step - loss: 0.6499 - accuracy: 0.7490 - val_loss: 0.6596 - val_accuracy: 0.7455\n",
            "Epoch 7/50\n",
            "1875/1875 [==============================] - 5s 3ms/step - loss: 0.6333 - accuracy: 0.7547 - val_loss: 0.6440 - val_accuracy: 0.7481\n",
            "Epoch 8/50\n",
            "1875/1875 [==============================] - 5s 3ms/step - loss: 0.6193 - accuracy: 0.7593 - val_loss: 0.6318 - val_accuracy: 0.7559\n",
            "Epoch 9/50\n",
            "1875/1875 [==============================] - 5s 3ms/step - loss: 0.6063 - accuracy: 0.7637 - val_loss: 0.6173 - val_accuracy: 0.7631\n",
            "Epoch 10/50\n",
            "1875/1875 [==============================] - 5s 3ms/step - loss: 0.5949 - accuracy: 0.7676 - val_loss: 0.6114 - val_accuracy: 0.7628\n",
            "Epoch 11/50\n",
            "1875/1875 [==============================] - 5s 3ms/step - loss: 0.5830 - accuracy: 0.7727 - val_loss: 0.6009 - val_accuracy: 0.7660\n",
            "Epoch 12/50\n",
            "1875/1875 [==============================] - 5s 3ms/step - loss: 0.5713 - accuracy: 0.7791 - val_loss: 0.5890 - val_accuracy: 0.7711\n",
            "Epoch 13/50\n",
            "1875/1875 [==============================] - 5s 3ms/step - loss: 0.5608 - accuracy: 0.7834 - val_loss: 0.5757 - val_accuracy: 0.7789\n",
            "Epoch 14/50\n",
            "1875/1875 [==============================] - 5s 3ms/step - loss: 0.5496 - accuracy: 0.7872 - val_loss: 0.5647 - val_accuracy: 0.7839\n",
            "Epoch 15/50\n",
            "1875/1875 [==============================] - 5s 3ms/step - loss: 0.5389 - accuracy: 0.7911 - val_loss: 0.5558 - val_accuracy: 0.7856\n",
            "Epoch 16/50\n",
            "1875/1875 [==============================] - 5s 3ms/step - loss: 0.5283 - accuracy: 0.7966 - val_loss: 0.5410 - val_accuracy: 0.7964\n",
            "Epoch 17/50\n",
            "1875/1875 [==============================] - 5s 3ms/step - loss: 0.5183 - accuracy: 0.8022 - val_loss: 0.5390 - val_accuracy: 0.7969\n",
            "Epoch 18/50\n",
            "1875/1875 [==============================] - 5s 3ms/step - loss: 0.5084 - accuracy: 0.8079 - val_loss: 0.5216 - val_accuracy: 0.8062\n",
            "Epoch 19/50\n",
            "1875/1875 [==============================] - 5s 3ms/step - loss: 0.4993 - accuracy: 0.8117 - val_loss: 0.5123 - val_accuracy: 0.8072\n",
            "Epoch 20/50\n",
            "1875/1875 [==============================] - 5s 3ms/step - loss: 0.4898 - accuracy: 0.8165 - val_loss: 0.5138 - val_accuracy: 0.8141\n",
            "Epoch 21/50\n",
            "1875/1875 [==============================] - 5s 3ms/step - loss: 0.4817 - accuracy: 0.8203 - val_loss: 0.4940 - val_accuracy: 0.8233\n",
            "Epoch 22/50\n",
            "1875/1875 [==============================] - 5s 3ms/step - loss: 0.4734 - accuracy: 0.8266 - val_loss: 0.4881 - val_accuracy: 0.8218\n",
            "Epoch 23/50\n",
            "1875/1875 [==============================] - 5s 3ms/step - loss: 0.4666 - accuracy: 0.8282 - val_loss: 0.4885 - val_accuracy: 0.8256\n",
            "Epoch 24/50\n",
            "1875/1875 [==============================] - 5s 3ms/step - loss: 0.4597 - accuracy: 0.8322 - val_loss: 0.4763 - val_accuracy: 0.8254\n",
            "Epoch 25/50\n",
            "1875/1875 [==============================] - 5s 3ms/step - loss: 0.4538 - accuracy: 0.8341 - val_loss: 0.4694 - val_accuracy: 0.8321\n",
            "Epoch 26/50\n",
            "1875/1875 [==============================] - 5s 3ms/step - loss: 0.4473 - accuracy: 0.8369 - val_loss: 0.4631 - val_accuracy: 0.8339\n",
            "Epoch 27/50\n",
            "1875/1875 [==============================] - 5s 3ms/step - loss: 0.4414 - accuracy: 0.8399 - val_loss: 0.4537 - val_accuracy: 0.8344\n",
            "Epoch 28/50\n",
            "1875/1875 [==============================] - 5s 3ms/step - loss: 0.4366 - accuracy: 0.8420 - val_loss: 0.4562 - val_accuracy: 0.8338\n",
            "Epoch 29/50\n",
            "1875/1875 [==============================] - 5s 3ms/step - loss: 0.4316 - accuracy: 0.8433 - val_loss: 0.4469 - val_accuracy: 0.8383\n",
            "Epoch 30/50\n",
            "1875/1875 [==============================] - 5s 3ms/step - loss: 0.4263 - accuracy: 0.8461 - val_loss: 0.4472 - val_accuracy: 0.8362\n",
            "Epoch 31/50\n",
            "1875/1875 [==============================] - 5s 3ms/step - loss: 0.4216 - accuracy: 0.8474 - val_loss: 0.4405 - val_accuracy: 0.8446\n",
            "Epoch 32/50\n",
            "1875/1875 [==============================] - 5s 3ms/step - loss: 0.4177 - accuracy: 0.8491 - val_loss: 0.4396 - val_accuracy: 0.8398\n",
            "Epoch 33/50\n",
            "1875/1875 [==============================] - 5s 3ms/step - loss: 0.4132 - accuracy: 0.8516 - val_loss: 0.4307 - val_accuracy: 0.8446\n",
            "Epoch 34/50\n",
            "1875/1875 [==============================] - 5s 3ms/step - loss: 0.4090 - accuracy: 0.8528 - val_loss: 0.4259 - val_accuracy: 0.8482\n",
            "Epoch 35/50\n",
            "1875/1875 [==============================] - 5s 3ms/step - loss: 0.4045 - accuracy: 0.8550 - val_loss: 0.4248 - val_accuracy: 0.8444\n",
            "Epoch 36/50\n",
            "1875/1875 [==============================] - 5s 3ms/step - loss: 0.4004 - accuracy: 0.8561 - val_loss: 0.4157 - val_accuracy: 0.8517\n",
            "Epoch 37/50\n",
            "1875/1875 [==============================] - 5s 3ms/step - loss: 0.3961 - accuracy: 0.8575 - val_loss: 0.4165 - val_accuracy: 0.8503\n",
            "Epoch 38/50\n",
            "1875/1875 [==============================] - 5s 3ms/step - loss: 0.3924 - accuracy: 0.8581 - val_loss: 0.4071 - val_accuracy: 0.8548\n",
            "Epoch 39/50\n",
            "1875/1875 [==============================] - 5s 3ms/step - loss: 0.3893 - accuracy: 0.8597 - val_loss: 0.4151 - val_accuracy: 0.8518\n",
            "Epoch 40/50\n",
            "1875/1875 [==============================] - 5s 3ms/step - loss: 0.3849 - accuracy: 0.8620 - val_loss: 0.4042 - val_accuracy: 0.8539\n",
            "Epoch 41/50\n",
            "1875/1875 [==============================] - 5s 3ms/step - loss: 0.3808 - accuracy: 0.8626 - val_loss: 0.4032 - val_accuracy: 0.8537\n",
            "Epoch 42/50\n",
            "1875/1875 [==============================] - 5s 3ms/step - loss: 0.3776 - accuracy: 0.8643 - val_loss: 0.4053 - val_accuracy: 0.8544\n",
            "Epoch 43/50\n",
            "1875/1875 [==============================] - 5s 3ms/step - loss: 0.3744 - accuracy: 0.8656 - val_loss: 0.3961 - val_accuracy: 0.8591\n",
            "Epoch 44/50\n",
            "1875/1875 [==============================] - 5s 3ms/step - loss: 0.3709 - accuracy: 0.8666 - val_loss: 0.3886 - val_accuracy: 0.8625\n",
            "Epoch 45/50\n",
            "1875/1875 [==============================] - 5s 3ms/step - loss: 0.3676 - accuracy: 0.8683 - val_loss: 0.3924 - val_accuracy: 0.8616\n",
            "Epoch 46/50\n",
            "1875/1875 [==============================] - 5s 3ms/step - loss: 0.3649 - accuracy: 0.8689 - val_loss: 0.3869 - val_accuracy: 0.8628\n",
            "Epoch 47/50\n",
            "1875/1875 [==============================] - 5s 3ms/step - loss: 0.3616 - accuracy: 0.8705 - val_loss: 0.3851 - val_accuracy: 0.8642\n",
            "Epoch 48/50\n",
            "1875/1875 [==============================] - 5s 3ms/step - loss: 0.3579 - accuracy: 0.8725 - val_loss: 0.3911 - val_accuracy: 0.8614\n",
            "Epoch 49/50\n",
            "1875/1875 [==============================] - 5s 3ms/step - loss: 0.3558 - accuracy: 0.8730 - val_loss: 0.3803 - val_accuracy: 0.8662\n",
            "Epoch 50/50\n",
            "1875/1875 [==============================] - 5s 3ms/step - loss: 0.3528 - accuracy: 0.8731 - val_loss: 0.3909 - val_accuracy: 0.8605\n"
          ],
          "name": "stdout"
        }
      ]
    },
    {
      "cell_type": "code",
      "metadata": {
        "id": "CsY6fwW52ild",
        "colab_type": "code",
        "colab": {}
      },
      "source": [
        "import pandas as pd\n",
        "import matplotlib.pyplot as plt\n"
      ],
      "execution_count": 34,
      "outputs": []
    },
    {
      "cell_type": "code",
      "metadata": {
        "id": "eGzKLjtp3Ngb",
        "colab_type": "code",
        "colab": {
          "base_uri": "https://localhost:8080/",
          "height": 320
        },
        "outputId": "27b9dc1f-9f59-410e-b035-c9c4e9e836f2"
      },
      "source": [
        "pd.DataFrame(history.history).plot(figsize=(8,5))\n",
        "plt.show()"
      ],
      "execution_count": 36,
      "outputs": [
        {
          "output_type": "display_data",
          "data": {
            "image/png": "[encoded data removed]",
            "text/plain": [
              "<Figure size 576x360 with 1 Axes>"
            ]
          },
          "metadata": {
            "tags": [],
            "needs_background": "light"
          }
        }
      ]
    }
  ]
}