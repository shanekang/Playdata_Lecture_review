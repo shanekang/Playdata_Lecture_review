{
  "nbformat": 4,
  "nbformat_minor": 0,
  "metadata": {
    "colab": {
      "name": "text_classification.ipynb",
      "provenance": [],
      "collapsed_sections": []
    },
    "kernelspec": {
      "name": "python3",
      "display_name": "Python 3"
    },
    "accelerator": "GPU"
  },
  "cells": [
    {
      "cell_type": "code",
      "metadata": {
        "id": "Ur0lwEVU4YXm"
      },
      "source": [
        "import tensorflow as tf\n",
        "import numpy as np"
      ],
      "execution_count": null,
      "outputs": []
    },
    {
      "cell_type": "code",
      "metadata": {
        "id": "KwtmWZFD4lWL"
      },
      "source": [
        "imdb = tf.keras.datasets.imdb\n",
        "(train_data, train_labels), (test_data, test_labels) = imdb.load_data(num_words=10000)"
      ],
      "execution_count": null,
      "outputs": []
    },
    {
      "cell_type": "code",
      "metadata": {
        "id": "BpFynKli4pGv"
      },
      "source": [
        "# word_to_id\n",
        "word_index = imdb.get_word_index()"
      ],
      "execution_count": null,
      "outputs": []
    },
    {
      "cell_type": "code",
      "metadata": {
        "id": "DkyxTM1w9MrO"
      },
      "source": [
        "vocab_size = len(word_index)"
      ],
      "execution_count": null,
      "outputs": []
    },
    {
      "cell_type": "code",
      "metadata": {
        "id": "xCPbif1r9PoJ",
        "outputId": "d382205f-4f2e-4aa5-de36-87b65025d352",
        "colab": {
          "base_uri": "https://localhost:8080/",
          "height": 34
        }
      },
      "source": [
        "len(word_index)"
      ],
      "execution_count": null,
      "outputs": [
        {
          "output_type": "execute_result",
          "data": {
            "text/plain": [
              "88588"
            ]
          },
          "metadata": {
            "tags": []
          },
          "execution_count": 61
        }
      ]
    },
    {
      "cell_type": "code",
      "metadata": {
        "id": "cMAhagh05KY2"
      },
      "source": [
        "word_index = {k:(v+3) for k,v in word_index.items()}\n",
        "word_index[\"<PAD>\"] = 0\n",
        "word_index[\"<START>\"] = 1\n",
        "word_index[\"<UNK>\"] = 2\n",
        "word_index[\"<UNUSED>\"] = 3\n",
        "\n",
        "# id_to_word\n",
        "# 1\n",
        "revserse_word_index = dict([(value,key) for (key,value) in word_index.items()])\n",
        "\n",
        "# 2\n",
        "revserse_word_index = {}\n",
        "for (key, value) in word_index.items():\n",
        "  revserse_word_index[value] = key"
      ],
      "execution_count": null,
      "outputs": []
    },
    {
      "cell_type": "code",
      "metadata": {
        "id": "SDdYXOsa_3mP",
        "outputId": "df429c33-590f-4deb-fb61-7772b5fc8f3a",
        "colab": {
          "base_uri": "https://localhost:8080/",
          "height": 34
        }
      },
      "source": [
        "len(word_index), len(revserse_word_index)"
      ],
      "execution_count": null,
      "outputs": [
        {
          "output_type": "execute_result",
          "data": {
            "text/plain": [
              "(88588, 88588)"
            ]
          },
          "metadata": {
            "tags": []
          },
          "execution_count": 62
        }
      ]
    },
    {
      "cell_type": "code",
      "metadata": {
        "id": "IAHdQYkN6R4f"
      },
      "source": [
        "def decode_review(text):\n",
        "  return ' '.join([revserse_word_index.get(i, '?') for i in text])"
      ],
      "execution_count": null,
      "outputs": []
    },
    {
      "cell_type": "code",
      "metadata": {
        "id": "hmpOXKYs6bna",
        "outputId": "2e2dbd16-df4c-409d-9666-9fb48aa46250",
        "colab": {
          "base_uri": "https://localhost:8080/",
          "height": 175
        }
      },
      "source": [
        "decode_review(train_data[0])"
      ],
      "execution_count": null,
      "outputs": [
        {
          "output_type": "execute_result",
          "data": {
            "application/vnd.google.colaboratory.intrinsic+json": {
              "type": "string"
            },
            "text/plain": [
              "\"<PAD> <PAD> <PAD> <PAD> <PAD> <PAD> <PAD> <PAD> <PAD> <PAD> <PAD> <PAD> <PAD> <PAD> <PAD> <PAD> <PAD> <PAD> <PAD> <PAD> <PAD> <PAD> <PAD> <PAD> <PAD> <PAD> <PAD> <PAD> <PAD> <PAD> <PAD> <PAD> <PAD> <PAD> <PAD> <PAD> <PAD> <PAD> <START> this film was just brilliant casting location scenery story direction everyone's really suited the part they played and you could just imagine being there robert redford's is an amazing actor and now the same being director norman's father came from the same scottish island as myself so i loved the fact there was a real connection with this film the witty remarks throughout the film were great it was just brilliant so much that i bought the film as soon as it was released for retail and would recommend it to everyone to watch and the fly fishing was amazing really cried at the end it was so sad and you know what they say if you cry at a film it must have been good and this definitely was also congratulations to the two little boy's that played the part's of norman and paul they were just brilliant children are often left out of the praising list i think because the stars that play them all grown up are such a big profile for the whole film but these children are amazing and should be praised for what they have done don't you think the whole story was so lovely because it was true and was someone's life after all that was shared with us all\""
            ]
          },
          "metadata": {
            "tags": []
          },
          "execution_count": 64
        }
      ]
    },
    {
      "cell_type": "code",
      "metadata": {
        "id": "A-USUyWY6v3G",
        "outputId": "ffd838b3-83a1-416b-e27e-ecde47f34d29",
        "colab": {
          "base_uri": "https://localhost:8080/",
          "height": 34
        }
      },
      "source": [
        "len(train_data[0]), len(train_data[10]), len(train_data[5])\n"
      ],
      "execution_count": null,
      "outputs": [
        {
          "output_type": "execute_result",
          "data": {
            "text/plain": [
              "(218, 450, 43)"
            ]
          },
          "metadata": {
            "tags": []
          },
          "execution_count": 34
        }
      ]
    },
    {
      "cell_type": "code",
      "metadata": {
        "id": "YkiyVKrN8tYR",
        "outputId": "4ecb199c-8db6-4536-c933-e03cee763490",
        "colab": {
          "base_uri": "https://localhost:8080/",
          "height": 54
        }
      },
      "source": [
        "print(train_data[10])"
      ],
      "execution_count": null,
      "outputs": [
        {
          "output_type": "stream",
          "text": [
            "[1, 785, 189, 438, 47, 110, 142, 7, 6, 7475, 120, 4, 236, 378, 7, 153, 19, 87, 108, 141, 17, 1004, 5, 30432, 883, 10789, 23, 8, 4, 136, 13772, 11631, 4, 7475, 43, 1076, 21, 1407, 419, 5, 5202, 120, 91, 682, 189, 2818, 5, 9, 1348, 31, 7, 4, 118, 785, 189, 108, 126, 93, 13772, 16, 540, 324, 23, 6, 364, 352, 21, 14, 9, 93, 56, 18, 11, 230, 53, 771, 74, 31, 34, 4, 2834, 7, 4, 22, 5, 14, 11, 471, 9, 17547, 34, 4, 321, 487, 5, 116, 15, 6584, 4, 22, 9, 6, 2286, 4, 114, 2679, 23, 107, 293, 1008, 1172, 5, 328, 1236, 4, 1375, 109, 9, 6, 132, 773, 14799, 1412, 8, 1172, 18, 7865, 29, 9, 276, 11, 6, 2768, 19, 289, 409, 4, 5341, 2140, 20250, 648, 1430, 10136, 8914, 5, 27, 3000, 1432, 7130, 103, 6, 346, 137, 11, 4, 2768, 295, 36, 7740, 725, 6, 3208, 273, 11, 4, 1513, 15, 1367, 35, 154, 14040, 103, 19100, 173, 7, 12, 36, 515, 3547, 94, 2547, 1722, 5, 3547, 36, 203, 30, 502, 8, 361, 12, 8, 989, 143, 4, 1172, 3404, 10, 10, 328, 1236, 9, 6, 55, 221, 2989, 5, 146, 165, 179, 770, 15, 50, 713, 53, 108, 448, 23, 12, 17, 225, 38, 76, 4397, 18, 183, 8, 81, 19, 12, 45, 1257, 8, 135, 15, 13772, 166, 4, 118, 7, 45, 12831, 17, 466, 45, 24410, 4, 22, 115, 165, 764, 6075, 5, 1030, 8, 2973, 73, 469, 167, 2127, 18281, 1568, 6, 87, 841, 18, 4, 22, 4, 192, 15, 91, 7, 12, 304, 273, 1004, 4, 1375, 1172, 2768, 12356, 15, 4, 22, 764, 55, 5773, 5, 14, 4233, 7444, 4, 1375, 326, 7, 4, 4760, 1786, 8, 361, 1236, 8, 989, 46, 7, 4, 2768, 45, 55, 776, 8, 79, 496, 98, 45, 400, 301, 15, 4, 1859, 9, 4, 155, 15, 66, 21885, 84, 5, 14, 22, 1534, 15, 17, 4, 167, 12356, 15, 75, 70, 115, 66, 30, 252, 7, 618, 51, 9, 2161, 4, 3130, 5, 14, 1525, 8, 6584, 15, 13772, 165, 127, 1921, 8, 30, 179, 2532, 4, 22, 9, 906, 18, 6, 176, 7, 1007, 1005, 4, 1375, 114, 4, 105, 26, 32, 55, 221, 11, 68, 205, 96, 5, 4, 192, 15, 4, 274, 410, 220, 304, 23, 94, 205, 109, 9, 55, 73, 224, 259, 3786, 15, 4, 22, 528, 1645, 34, 4, 130, 528, 30, 685, 345, 17, 4, 277, 199, 166, 281, 5, 1030, 8, 30, 179, 4442, 444, 13772, 9, 6, 371, 87, 189, 22, 5, 31, 7, 4, 118, 7, 4, 2068, 545, 1178, 829]\n"
          ],
          "name": "stdout"
        }
      ]
    },
    {
      "cell_type": "code",
      "metadata": {
        "id": "VksIYz8W7MHm"
      },
      "source": [
        "train_data = tf.keras.preprocessing.sequence.pad_sequences(train_data, \n",
        "                                              value=0,\n",
        "                                              padding='pre',\n",
        "                                              maxlen=256\n",
        "                                              )\n",
        "test_data = tf.keras.preprocessing.sequence.pad_sequences(test_data, \n",
        "                                              value=0,\n",
        "                                              padding='pre', \n",
        "                                              maxlen=256\n",
        "                                              )"
      ],
      "execution_count": null,
      "outputs": []
    },
    {
      "cell_type": "code",
      "metadata": {
        "id": "Bj-SNCFZ7HyW",
        "outputId": "0116fe36-7f63-4f3c-8629-bed38dcc5079",
        "colab": {
          "base_uri": "https://localhost:8080/",
          "height": 34
        }
      },
      "source": [
        "len(train_data[0]), len(train_data[10]), len(train_data[5])\n"
      ],
      "execution_count": null,
      "outputs": [
        {
          "output_type": "execute_result",
          "data": {
            "text/plain": [
              "(256, 256, 256)"
            ]
          },
          "metadata": {
            "tags": []
          },
          "execution_count": 39
        }
      ]
    },
    {
      "cell_type": "code",
      "metadata": {
        "id": "N8id8J-e82Cs"
      },
      "source": [
        "vocab_size = len(word_index)\n",
        "# vocab_size = 10000\n",
        "model = tf.keras.Sequential(\n",
        "    [\n",
        "     tf.keras.layers.Embedding(vocab_size, 16, input_shape=(None,)),\n",
        "     tf.keras.layers.GlobalAveragePooling1D(),\n",
        "     tf.keras.layers.Dense(16, activation='relu'),\n",
        "     tf.keras.layers.Dense(1, activation='sigmoid')\n",
        "    ]\n",
        ")"
      ],
      "execution_count": null,
      "outputs": []
    },
    {
      "cell_type": "code",
      "metadata": {
        "id": "PuUZpBj79_aZ",
        "outputId": "045fb9b9-c21c-4782-e6e9-86bb3200d9d4",
        "colab": {
          "base_uri": "https://localhost:8080/",
          "height": 297
        }
      },
      "source": [
        "model.summary() "
      ],
      "execution_count": null,
      "outputs": [
        {
          "output_type": "stream",
          "text": [
            "Model: \"sequential_5\"\n",
            "_________________________________________________________________\n",
            "Layer (type)                 Output Shape              Param #   \n",
            "=================================================================\n",
            "embedding_5 (Embedding)      (None, None, 16)          1417408   \n",
            "_________________________________________________________________\n",
            "global_average_pooling1d_5 ( (None, 16)                0         \n",
            "_________________________________________________________________\n",
            "dense_10 (Dense)             (None, 16)                272       \n",
            "_________________________________________________________________\n",
            "dense_11 (Dense)             (None, 1)                 17        \n",
            "=================================================================\n",
            "Total params: 1,417,697\n",
            "Trainable params: 1,417,697\n",
            "Non-trainable params: 0\n",
            "_________________________________________________________________\n"
          ],
          "name": "stdout"
        }
      ]
    },
    {
      "cell_type": "code",
      "metadata": {
        "id": "EuHDKiI2-Yir"
      },
      "source": [
        "model.compile(optimizer='adam', loss='binary_crossentropy', metrics=['accuracy'])"
      ],
      "execution_count": null,
      "outputs": []
    },
    {
      "cell_type": "code",
      "metadata": {
        "id": "2tcgy8MG-6M-",
        "outputId": "dd9e2bbc-a9c0-411d-d2dd-dd07dec36cc2",
        "colab": {
          "base_uri": "https://localhost:8080/",
          "height": 562
        }
      },
      "source": [
        "history = model.fit(train_data, \n",
        "          train_labels, \n",
        "          epochs=15, \n",
        "          batch_size=512, \n",
        "          validation_data=(test_data, test_labels))"
      ],
      "execution_count": null,
      "outputs": [
        {
          "output_type": "stream",
          "text": [
            "Epoch 1/15\n",
            "49/49 [==============================] - 2s 38ms/step - loss: 0.6908 - accuracy: 0.5738 - val_loss: 0.6865 - val_accuracy: 0.6170\n",
            "Epoch 2/15\n",
            "49/49 [==============================] - 2s 35ms/step - loss: 0.6764 - accuracy: 0.7043 - val_loss: 0.6650 - val_accuracy: 0.7391\n",
            "Epoch 3/15\n",
            "49/49 [==============================] - 2s 34ms/step - loss: 0.6405 - accuracy: 0.7774 - val_loss: 0.6201 - val_accuracy: 0.7698\n",
            "Epoch 4/15\n",
            "49/49 [==============================] - 2s 35ms/step - loss: 0.5766 - accuracy: 0.8170 - val_loss: 0.5536 - val_accuracy: 0.8073\n",
            "Epoch 5/15\n",
            "49/49 [==============================] - 2s 36ms/step - loss: 0.4971 - accuracy: 0.8478 - val_loss: 0.4842 - val_accuracy: 0.8339\n",
            "Epoch 6/15\n",
            "49/49 [==============================] - 2s 35ms/step - loss: 0.4208 - accuracy: 0.8733 - val_loss: 0.4274 - val_accuracy: 0.8484\n",
            "Epoch 7/15\n",
            "49/49 [==============================] - 2s 34ms/step - loss: 0.3590 - accuracy: 0.8891 - val_loss: 0.3848 - val_accuracy: 0.8578\n",
            "Epoch 8/15\n",
            "49/49 [==============================] - 2s 35ms/step - loss: 0.3115 - accuracy: 0.9019 - val_loss: 0.3555 - val_accuracy: 0.8640\n",
            "Epoch 9/15\n",
            "49/49 [==============================] - 2s 35ms/step - loss: 0.2750 - accuracy: 0.9129 - val_loss: 0.3354 - val_accuracy: 0.8684\n",
            "Epoch 10/15\n",
            "49/49 [==============================] - 2s 35ms/step - loss: 0.2454 - accuracy: 0.9221 - val_loss: 0.3207 - val_accuracy: 0.8718\n",
            "Epoch 11/15\n",
            "49/49 [==============================] - 2s 36ms/step - loss: 0.2211 - accuracy: 0.9299 - val_loss: 0.3112 - val_accuracy: 0.8738\n",
            "Epoch 12/15\n",
            "49/49 [==============================] - 2s 37ms/step - loss: 0.2006 - accuracy: 0.9376 - val_loss: 0.3021 - val_accuracy: 0.8776\n",
            "Epoch 13/15\n",
            "49/49 [==============================] - 2s 36ms/step - loss: 0.1828 - accuracy: 0.9435 - val_loss: 0.2957 - val_accuracy: 0.8795\n",
            "Epoch 14/15\n",
            "49/49 [==============================] - 2s 36ms/step - loss: 0.1666 - accuracy: 0.9499 - val_loss: 0.2928 - val_accuracy: 0.8803\n",
            "Epoch 15/15\n",
            "49/49 [==============================] - 2s 35ms/step - loss: 0.1527 - accuracy: 0.9548 - val_loss: 0.2897 - val_accuracy: 0.8820\n"
          ],
          "name": "stdout"
        }
      ]
    },
    {
      "cell_type": "code",
      "metadata": {
        "id": "hV4oSvs6_blm",
        "outputId": "d4766044-7a00-45d2-eefe-c0d4bf7a3a6d",
        "colab": {
          "base_uri": "https://localhost:8080/",
          "height": 52
        }
      },
      "source": [
        "model.evaluate(test_data, test_labels)"
      ],
      "execution_count": null,
      "outputs": [
        {
          "output_type": "stream",
          "text": [
            "782/782 [==============================] - 2s 3ms/step - loss: 0.2897 - accuracy: 0.8820\n"
          ],
          "name": "stdout"
        },
        {
          "output_type": "execute_result",
          "data": {
            "text/plain": [
              "[0.2897310256958008, 0.8819599747657776]"
            ]
          },
          "metadata": {
            "tags": []
          },
          "execution_count": 77
        }
      ]
    },
    {
      "cell_type": "code",
      "metadata": {
        "id": "TARI1IgvB3YC",
        "outputId": "fec40fdf-6fa1-4d83-80d0-1e82ce377233",
        "colab": {
          "base_uri": "https://localhost:8080/",
          "height": 324
        }
      },
      "source": [
        "import pandas as pd\n",
        "import matplotlib.pyplot as plt\n",
        "\n",
        "pd.DataFrame(history.history).plot(figsize=(8,5))\n",
        "plt.grid(True)\n",
        "plt.gca().set_ylim(0, 1)\n",
        "plt.show()"
      ],
      "execution_count": null,
      "outputs": [
        {
          "output_type": "display_data",
          "data": {
            "image/png": "[encoded data removed]",
            "text/plain": [
              "<Figure size 576x360 with 1 Axes>"
            ]
          },
          "metadata": {
            "tags": [],
            "needs_background": "light"
          }
        }
      ]
    },
    {
      "cell_type": "code",
      "metadata": {
        "id": "Hoo4LmuOB4jQ"
      },
      "source": [
        ""
      ],
      "execution_count": null,
      "outputs": []
    }
  ]
}