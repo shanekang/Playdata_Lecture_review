{
  "nbformat": 4,
  "nbformat_minor": 0,
  "metadata": {
    "colab": {
      "name": "tfidf_practice.ipynb",
      "provenance": [],
      "collapsed_sections": []
    },
    "kernelspec": {
      "name": "python3",
      "display_name": "Python 3"
    }
  },
  "cells": [
    {
      "cell_type": "markdown",
      "metadata": {
        "id": "Y560656wiZj9"
      },
      "source": [
        "* 전처리 -> koNLPy에서 pos 함수로 품사태깅 -> 명사,동사만 사용하도록\n",
        "* 문장별로 분리 한 다음 전처리 수행\n",
        "* TF-IDF 계산 후 주요 단어/문장 추출?"
      ]
    },
    {
      "cell_type": "code",
      "metadata": {
        "id": "e5OWcsAeh0a8"
      },
      "source": [
        "text = '''\n",
        "애플 CEO인 팀 쿡이 13일(현지시간) 첫 5G 모델인 아이폰12 시리즈에 대해 설명하고 있다. 〈애플 홈페이지〉\n",
        "애플이 예년보다 한 달가량 늦게 신작 아이폰12 시리즈를 출시하면서 향후 판매량에도 관심이 쏠린다. 대기 수요가 폭발하며 전작(아이폰11)의 판매량을 넘어설 것이라는 관측이 지배적이다. 삼성전자와 화웨이의 양강 구도였던 5G 스마트폰 시장 경쟁도 더욱 치열해질 전망이다.\n",
        "\n",
        "아이폰12 프로맥스. [애플 홈페이지]\n",
        "한 달 늦은 아이폰12 전작보다 많이 팔릴 것\n",
        "14일 시장조사업체인 카운터포인트리서치에 따르면, 올해 애플의 아이폰 판매량은 전년 대비 4% 증가할 전망이다. 13일(현지시간) 출시한 아이폰12 시리즈가 후반기 판매를 주도할 것으로 보인다. 카운터포인트리서치는 아이폰12 출시 후 연말까지 누적 판매량은 전작인 아이폰11의 9~12월 판매량보다 1%가량 많을 것으로 내다봤다. 제프 필드핵 카운터포인트리서치 연구원은 “5G 모델이 출시될 때까지 미뤘던 아이폰 이용자들의 억눌린 수요가 많다”며 “(아이폰12 시리즈의) 다양한 사이즈와 가격대도 판매 촉진에 도움이 될 것”이라고 분석했다. 또한 “글로벌 이동통신사들이 LTE 가입자를 5G 네트워크로 옮기려는 노력도 아이폰12 판매량 증가에 도움이 될 것”이라고 강조했다.\n",
        "\n",
        "애플 아이폰 시리즈별 출시 후 초기 판매량 추이 〈카운터포인트리서치〉\n",
        "아이폰12 글로벌 교체 수요 3억5000만대\n",
        "증권가의 전망도 밝다. 애플 관련 정보에 정통한 궈밍치 TF인터내셔널증권 애널리스트는 올 4분기에만 아이폰12가 8000만~8500만대 판매될 것으로 예상했다. 전작보다 1000만~1500만대 많은 수치다. 모건스탠리는 최근 보고서에서 “2021 회계연도(2020년 10월~2021년 9월)에 애플이 아이폰 2억2000만대를 판매할 것”으로 전망했다. 또한 미국 증권사인 웨드부시는 “전 세계에서 사용하는 9억5000만 대의 아이폰 중 향후 12~18개월 이내에 아이폰12로 교체할 잠재 수요가 3억5000만대에 이를 것”으로 내다봤다.\n",
        "\n",
        "국내 판매 1차 출시국과 일주일 차이\n",
        "국내 교체 수요도 적지 않을 것으로 보인다. 관련 업계에 따르면, 국내 애플 iOS 가입자는 약 450만명이다. 이와 관련 애플은 한국에서 이달 23일 사전 주문을 받고 30일부터 판매를 시작한다. 1차 출시국과 일주일 정도 차이가 난다. 통상 1차 출시국보다 1~2달 늦었던 예년과 비교해 크게 단축됐다. 애플이 한국에 아이폰 교체 대기 수요가 그만큼 많다고 판단한 것으로 보인다.\n",
        "\n",
        "애플의 분기별 아이폰 판매량 추이 〈카운터포인트리서치〉\n",
        "애플, 삼성 5G폰 시장 점유율 상당부분 잠식\n",
        "삼성전자와 화웨이의 양강 체제이던 5G 스마트폰 시장 구도도 크게 흔들릴 것으로 보인다. 미국의 제재로 궁지에 몰린 화웨이는 이달 22일 신작 메이트40으로, 삼성전자는 9월 출시한 갤럭시 노트20 시리즈와 신작 갤럭시S20 FE로 맞불을 놓겠지만, 애플의 출격으로 시장은 빠르게 ‘3강 구도’로 재편될 것으로 전망된다. 이와 관련, 시장조사업체인 스트래티지 애널리틱스(SA)는 내년 5G 스마트폰 시장에서 애플이 24.2%로 1위에 올라서고, 화웨이와 삼성전자는 각각 22.2%, 15.1%를 차지할 것으로 예상했다.\n",
        "\n",
        "내년 5G 스마트폰 시장 3배 증가할 전망\n",
        "5G 스마트폰 시장은 ‘아이폰12’ 효과로 본격적으로 시장이 커질 전망이다. 시장조사업체인 카날리스는 올해 5G 스마트폰 출하량이 2억7800만대에 이를 것으로 전망했다. 전체 스마트폰 출하량의 약 20%다. 스트래티지 애널리틱스(SA)는 올해 5G폰 판매량이 전체 스마트폰 시장 중 15%(2억3500만대)를 차지하고 내년에는 6억7000만대 규모로 증가할 것으로 내다봤다.\n",
        "\n",
        "'''"
      ],
      "execution_count": null,
      "outputs": []
    },
    {
      "cell_type": "code",
      "metadata": {
        "id": "L-nfRVkmi6Qs"
      },
      "source": [
        "!pip install konlpy"
      ],
      "execution_count": null,
      "outputs": []
    },
    {
      "cell_type": "code",
      "metadata": {
        "id": "08QkZKGqjDyM"
      },
      "source": [
        "import nltk"
      ],
      "execution_count": null,
      "outputs": []
    },
    {
      "cell_type": "code",
      "metadata": {
        "id": "pcLdRqMTjOTT"
      },
      "source": [
        "nltk.download('all')"
      ],
      "execution_count": null,
      "outputs": []
    },
    {
      "cell_type": "code",
      "metadata": {
        "id": "jri73Xx5jP5r"
      },
      "source": [
        "from nltk.tokenize import sent_tokenize"
      ],
      "execution_count": null,
      "outputs": []
    },
    {
      "cell_type": "code",
      "metadata": {
        "id": "O7qPUOZgjYOT"
      },
      "source": [
        "corpus = sent_tokenize(text)"
      ],
      "execution_count": null,
      "outputs": []
    },
    {
      "cell_type": "code",
      "metadata": {
        "id": "vmNcWbGCjfgO"
      },
      "source": [
        "from sklearn.feature_extraction.text import TfidfVectorizer\n",
        "from collections import defaultdict"
      ],
      "execution_count": null,
      "outputs": []
    },
    {
      "cell_type": "code",
      "metadata": {
        "id": "NRSF7AzyjpFU"
      },
      "source": [
        "tfidf = TfidfVectorizer()"
      ],
      "execution_count": null,
      "outputs": []
    },
    {
      "cell_type": "code",
      "metadata": {
        "id": "t2KQU4jZj3K7",
        "outputId": "c2a2bdb7-5324-4379-a753-ff9007e16126",
        "colab": {
          "base_uri": "https://localhost:8080/",
          "height": 106
        }
      },
      "source": [
        "corpus[:5]"
      ],
      "execution_count": null,
      "outputs": [
        {
          "output_type": "execute_result",
          "data": {
            "text/plain": [
              "['\\n애플 CEO인 팀 쿡이 13일(현지시간) 첫 5G 모델인 아이폰12 시리즈에 대해 설명하고 있다.',\n",
              " '〈애플 홈페이지〉\\n애플이 예년보다 한 달가량 늦게 신작 아이폰12 시리즈를 출시하면서 향후 판매량에도 관심이 쏠린다.',\n",
              " '대기 수요가 폭발하며 전작(아이폰11)의 판매량을 넘어설 것이라는 관측이 지배적이다.',\n",
              " '삼성전자와 화웨이의 양강 구도였던 5G 스마트폰 시장 경쟁도 더욱 치열해질 전망이다.',\n",
              " '아이폰12 프로맥스.']"
            ]
          },
          "metadata": {
            "tags": []
          },
          "execution_count": 90
        }
      ]
    },
    {
      "cell_type": "code",
      "metadata": {
        "id": "9CqXOABVkH_T"
      },
      "source": [
        "from konlpy.tag import Okt\n",
        "okt = Okt()"
      ],
      "execution_count": null,
      "outputs": []
    },
    {
      "cell_type": "code",
      "metadata": {
        "id": "OSZBBq9vj8Ur"
      },
      "source": [
        "NV_token_sentences = list()\n",
        "for s in corpus:\n",
        "  # nv_sentence = list()\n",
        "  \n",
        "  nv_sentence = ''\n",
        "  for (token, tag) in okt.pos(s.replace(' ','')):\n",
        "    if tag=='Noun' or tag=='Verb':\n",
        "      nv_sentence += token +' '\n",
        "  NV_token_sentences.append(nv_sentence)"
      ],
      "execution_count": null,
      "outputs": []
    },
    {
      "cell_type": "code",
      "metadata": {
        "id": "o3ZWjWP4k399",
        "outputId": "6f375c86-4ed3-4312-bbde-bd79a88c2a9c",
        "colab": {
          "base_uri": "https://localhost:8080/",
          "height": 70
        }
      },
      "source": [
        "NV_token_sentences[:3]"
      ],
      "execution_count": null,
      "outputs": [
        {
          "output_type": "execute_result",
          "data": {
            "text/plain": [
              "['애플 인 팀쿡 현지 시간 첫 모델 아이폰 ',\n",
              " '애플 홈페이지 애플 예년 달 가량 늦게 신작 아이폰 ',\n",
              " '수요 폭발 전작 아이폰 의 판매량 넘어설것이라는 관측 배적 ']"
            ]
          },
          "metadata": {
            "tags": []
          },
          "execution_count": 93
        }
      ]
    },
    {
      "cell_type": "code",
      "metadata": {
        "id": "1ieAcHtejtks"
      },
      "source": [
        "sp_matrix = tfidf.fit_transform(NV_token_sentences)"
      ],
      "execution_count": null,
      "outputs": []
    },
    {
      "cell_type": "code",
      "metadata": {
        "id": "yJQNSSEblCU6",
        "outputId": "abc19041-3d2e-4348-cd7c-19393642c754",
        "colab": {
          "base_uri": "https://localhost:8080/",
          "height": 35
        }
      },
      "source": [
        "sp_matrix.shape"
      ],
      "execution_count": null,
      "outputs": [
        {
          "output_type": "execute_result",
          "data": {
            "text/plain": [
              "(28, 148)"
            ]
          },
          "metadata": {
            "tags": []
          },
          "execution_count": 95
        }
      ]
    },
    {
      "cell_type": "code",
      "metadata": {
        "id": "uamH3vsml2Xs"
      },
      "source": [
        "from sklearn.metrics.pairwise import linear_kernel\n",
        "cosine_sim = linear_kernel(sp_matrix, sp_matrix) "
      ],
      "execution_count": null,
      "outputs": []
    },
    {
      "cell_type": "code",
      "metadata": {
        "id": "_-tdnh_xmxpj",
        "outputId": "3e3af84a-8c3e-4c75-de28-43125ffd8951",
        "colab": {
          "base_uri": "https://localhost:8080/",
          "height": 35
        }
      },
      "source": [
        "cosine_sim.shape"
      ],
      "execution_count": null,
      "outputs": [
        {
          "output_type": "execute_result",
          "data": {
            "text/plain": [
              "(28, 28)"
            ]
          },
          "metadata": {
            "tags": []
          },
          "execution_count": 97
        }
      ]
    },
    {
      "cell_type": "code",
      "metadata": {
        "id": "saiDylrLmRHM",
        "outputId": "96fdc2a1-5225-42be-8329-02acdbfded8d",
        "colab": {
          "base_uri": "https://localhost:8080/",
          "height": 123
        }
      },
      "source": [
        "cosine_sim[0]"
      ],
      "execution_count": null,
      "outputs": [
        {
          "output_type": "execute_result",
          "data": {
            "text/plain": [
              "array([1.        , 0.14607918, 0.04011701, 0.        , 0.0652979 ,\n",
              "       0.15355449, 0.59441597, 0.07035062, 0.14642384, 0.02792728,\n",
              "       0.09268824, 0.04804535, 0.        , 0.10455635, 0.02913418,\n",
              "       0.        , 0.0589105 , 0.09768427, 0.        , 0.        ,\n",
              "       0.09615927, 0.08588455, 0.03580459, 0.03451451, 0.02763773,\n",
              "       0.        , 0.        , 0.        ])"
            ]
          },
          "metadata": {
            "tags": []
          },
          "execution_count": 98
        }
      ]
    },
    {
      "cell_type": "code",
      "metadata": {
        "id": "hqtkCRpWmcGE",
        "outputId": "f0b8f6f9-829b-4e00-a4af-3734e4ad749f",
        "colab": {
          "base_uri": "https://localhost:8080/",
          "height": 35
        }
      },
      "source": [
        "NV_token_sentences[0]"
      ],
      "execution_count": null,
      "outputs": [
        {
          "output_type": "execute_result",
          "data": {
            "application/vnd.google.colaboratory.intrinsic+json": {
              "type": "string"
            },
            "text/plain": [
              "'애플 인 팀쿡 현지 시간 첫 모델 아이폰 '"
            ]
          },
          "metadata": {
            "tags": []
          },
          "execution_count": 99
        }
      ]
    },
    {
      "cell_type": "code",
      "metadata": {
        "id": "mFCv92JemjPz"
      },
      "source": [
        "sim_score = list(enumerate(cosine_sim[0]))\n",
        "sim_score = sorted(sim_score, key=lambda x:x[1], reverse=True) "
      ],
      "execution_count": null,
      "outputs": []
    },
    {
      "cell_type": "code",
      "metadata": {
        "id": "z6SJjbH4mvi0"
      },
      "source": [
        "top5_list = sim_score[1:6] "
      ],
      "execution_count": null,
      "outputs": []
    },
    {
      "cell_type": "code",
      "metadata": {
        "id": "oqriuBCXoSK_",
        "outputId": "d9658043-7fd1-4275-f6c8-72c2df83669e",
        "colab": {
          "base_uri": "https://localhost:8080/",
          "height": 143
        }
      },
      "source": [
        "print('input sentence : ', NV_token_sentences[0])\n",
        "for idx, score in top5_list:\n",
        "  print(round(score,3), NV_token_sentences[idx])"
      ],
      "execution_count": null,
      "outputs": [
        {
          "output_type": "stream",
          "text": [
            "input sentence :  애플 인 팀쿡 현지 시간 첫 모델 아이폰 \n",
            "0.594 현지 시간 출시 아이폰 \n",
            "0.154 애플 홈페이지 달 늦은 아이폰 전작 팔릴것 올해 애플 아이폰 판매량 년 대비 증가 할 전망 \n",
            "0.146 제프 필드 핵 카운터 포인트 리서치 연구원 모델 출시 될 때 미뤘던 아이폰 이용자 억눌린수 요가 며 아이폰 사이즈 가격 판매촉진 도움 될것 이 분석 했다 \n",
            "0.146 애플 홈페이지 애플 예년 달 가량 늦게 신작 아이폰 \n",
            "0.105 모건스탠리 최근 보고서 애플 아이폰 전망 했다 \n"
          ],
          "name": "stdout"
        }
      ]
    },
    {
      "cell_type": "code",
      "metadata": {
        "id": "Q55qZZn3rTxk"
      },
      "source": [
        "word2id = defaultdict()\n",
        "for idx, feature in enumerate(tfidf.get_feature_names()):\n",
        "  word2id[feature] = idx"
      ],
      "execution_count": null,
      "outputs": []
    },
    {
      "cell_type": "code",
      "metadata": {
        "id": "pRhTFW-1q4s0"
      },
      "source": [
        "# 주요 단어 추출 \n",
        "token_list = []\n",
        "for idx, sent in enumerate(NV_token_sentences):\n",
        "  temp_list = []\n",
        "  for token in sent.split():\n",
        "    try:\n",
        "      temp_list.append((token, sp_matrix[idx, word2id[token]]))\n",
        "    except:\n",
        "      continue\n",
        "  token_list += temp_list\n",
        "  # token_list += [(token, sp_matrix[idx, word2id[token]])  for token in sent.split()]"
      ],
      "execution_count": null,
      "outputs": []
    },
    {
      "cell_type": "code",
      "metadata": {
        "id": "L6AN3xIpswpN",
        "outputId": "d7a547f1-e5a5-4004-9279-a0efbeb1b7c8",
        "colab": {
          "base_uri": "https://localhost:8080/",
          "height": 106
        }
      },
      "source": [
        "sorted(dict(token_list).items(), key=lambda x:x[1], reverse=True)[:5]"
      ],
      "execution_count": null,
      "outputs": [
        {
          "output_type": "execute_result",
          "data": {
            "text/plain": [
              "[('전작', 1.0),\n",
              " ('프로', 0.6759865348637613),\n",
              " ('맥스', 0.6759865348637613),\n",
              " ('현지', 0.5822336528871499),\n",
              " ('시간', 0.5822336528871499)]"
            ]
          },
          "metadata": {
            "tags": []
          },
          "execution_count": 113
        }
      ]
    },
    {
      "cell_type": "code",
      "metadata": {
        "id": "GwvO6sKmo7Xl"
      },
      "source": [
        "# 주요 문장 추출"
      ],
      "execution_count": null,
      "outputs": []
    },
    {
      "cell_type": "code",
      "metadata": {
        "id": "g-0hJGYyqjeo"
      },
      "source": [
        "data_array = sp_matrix.toarray()"
      ],
      "execution_count": null,
      "outputs": []
    },
    {
      "cell_type": "code",
      "metadata": {
        "id": "E_N9oy2Xqt-q",
        "outputId": "dc3ce9a6-89c9-4123-8f8a-c5b8774f43de",
        "colab": {
          "base_uri": "https://localhost:8080/",
          "height": 35
        }
      },
      "source": [
        "NV_token_sentences[0]"
      ],
      "execution_count": null,
      "outputs": [
        {
          "output_type": "execute_result",
          "data": {
            "application/vnd.google.colaboratory.intrinsic+json": {
              "type": "string"
            },
            "text/plain": [
              "'애플 인 팀쿡 현지 시간 첫 모델 아이폰 '"
            ]
          },
          "metadata": {
            "tags": []
          },
          "execution_count": 65
        }
      ]
    },
    {
      "cell_type": "code",
      "metadata": {
        "id": "KEirO3DltX0Z"
      },
      "source": [
        "import numpy as np"
      ],
      "execution_count": null,
      "outputs": []
    },
    {
      "cell_type": "code",
      "metadata": {
        "id": "l77RSS2wqp97"
      },
      "source": [
        "score_sum = np.sum(data_array, axis=1)"
      ],
      "execution_count": null,
      "outputs": []
    },
    {
      "cell_type": "code",
      "metadata": {
        "id": "27RBmzcVtgKk"
      },
      "source": [
        "score_sum_dict = defaultdict()\n",
        "for idx, feature in enumerate(score_sum):\n",
        "  score_sum_dict[idx] = feature"
      ],
      "execution_count": null,
      "outputs": []
    },
    {
      "cell_type": "code",
      "metadata": {
        "id": "i7FqjOestxUA"
      },
      "source": [
        "top5_sentence = sorted(dict(score_sum_dict).items(), key=lambda x:x[1], reverse=True)[:5]"
      ],
      "execution_count": null,
      "outputs": []
    },
    {
      "cell_type": "code",
      "metadata": {
        "id": "urdaeJMFt1vl",
        "outputId": "25f4e679-b6e2-4ec3-8607-810dd6ff150f",
        "colab": {
          "base_uri": "https://localhost:8080/",
          "height": 126
        }
      },
      "source": [
        "for idx, score in top5_sentence:\n",
        "  print(NV_token_sentences[idx])"
      ],
      "execution_count": null,
      "outputs": [
        {
          "output_type": "stream",
          "text": [
            "애플 분기 아이폰 판매량 추이 카운터 포인트 리서치 애플 삼성 폰 시장점유율 부분 잠식 전자 화웨이 양강 체제 스마트폰 장구도 도크 흔들릴것으로 보인다 \n",
            "제프 필드 핵 카운터 포인트 리서치 연구원 모델 출시 될 때 미뤘던 아이폰 이용자 억눌린수 요가 며 아이폰 사이즈 가격 판매촉진 도움 될것 이 분석 했다 \n",
            "이 관련 시장조사 업체 스트 티 지애 널리 스 는 내년 스마트폰 시장 애플 로 위 올라서고 화웨이 전자 각각 를 차지 할것으로 예상 했다 \n",
            "애플 아이폰 시리즈 출시 후 초기 판매량 추이 카운터 포인트 리서치 아이폰 글로벌 교체 수요 증권 가의 전망 밝다 \n",
            "미국 제재 궁지 몰린 화웨이 달 전자 로 맞 불을놓겠지만 애플 출격 시장 강 구도 로재편 될것으로 전망 된다 \n"
          ],
          "name": "stdout"
        }
      ]
    }
  ]
}