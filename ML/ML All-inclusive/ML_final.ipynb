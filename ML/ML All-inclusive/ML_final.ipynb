{
 "cells": [
  {
   "cell_type": "code",
   "execution_count": 6,
   "metadata": {
    "colab": {
     "base_uri": "https://localhost:8080/",
     "height": 181
    },
    "colab_type": "code",
    "executionInfo": {
     "elapsed": 4429,
     "status": "ok",
     "timestamp": 1599379556796,
     "user": {
      "displayName": "‍최영진[ 대학원석·박사통합과정수료 / 산업경영공학과 ]",
      "photoUrl": "",
      "userId": "11452561759636107247"
     },
     "user_tz": -540
    },
    "id": "q_WDQkph4B5Y",
    "outputId": "dd03ddcd-7468-4b3e-f1c4-02d2853b33cd"
   },
   "outputs": [
    {
     "name": "stdout",
     "output_type": "stream",
     "text": [
      "Collecting pycm\n",
      "  Downloading pycm-2.8-py2.py3-none-any.whl (59 kB)\n",
      "Requirement already satisfied: numpy>=1.9.0 in c:\\users\\playdata\\anaconda3\\lib\\site-packages (from pycm) (1.18.1)\n",
      "Collecting art>=1.8\n",
      "  Downloading art-4.7-py2.py3-none-any.whl (547 kB)\n",
      "Installing collected packages: art, pycm\n",
      "Successfully installed art-4.7 pycm-2.8\n"
     ]
    }
   ],
   "source": [
    "!pip install pycm"
   ]
  },
  {
   "cell_type": "raw",
   "metadata": {
    "colab": {
     "base_uri": "https://localhost:8080/",
     "height": 381
    },
    "colab_type": "code",
    "executionInfo": {
     "elapsed": 83426,
     "status": "ok",
     "timestamp": 1599379635803,
     "user": {
      "displayName": "‍최영진[ 대학원석·박사통합과정수료 / 산업경영공학과 ]",
      "photoUrl": "",
      "userId": "11452561759636107247"
     },
     "user_tz": -540
    },
    "id": "sw4E-Xwo18hS",
    "outputId": "f7b1bf9d-12d8-44cf-d22d-b7a0b41669c7"
   },
   "source": [
    "from sklearn.model_selection import GridSearchCV\n",
    "from sklearn.pipeline import Pipeline , make_pipeline\n",
    "from sklearn.preprocessing import StandardScaler\n",
    "\n",
    "##\n",
    "from sklearn import preprocessing\n",
    "from sklearn import metrics\n",
    "from sklearn.metrics import classification_report, accuracy_score, precision_score, recall_score,f1_score\n",
    "\n",
    "## plot\n",
    "import matplotlib.pyplot as plt\n",
    "import pandas as pd\n",
    "import seaborn as sns\n",
    "import numpy as np\n",
    "from sklearn.model_selection import train_test_split\n",
    "from sklearn import datasets\n",
    "\n",
    "##Model classification\n",
    "from sklearn.ensemble import RandomForestClassifier\n",
    "from sklearn.linear_model import LogisticRegression \n",
    "from sklearn.ensemble import GradientBoostingClassifier as GBM\n",
    "from sklearn.neighbors import KNeighborsClassifier as KNN\n",
    "from sklearn.svm import SVC\n",
    "from xgboost import XGBClassifier\n",
    "from lightgbm import LGBMClassifier \n",
    "from sklearn.tree import DecisionTreeClassifier\n",
    "\n",
    "import warnings\n",
    "warnings.filterwarnings(\"ignore\")\n",
    "from pycm import * \n",
    "#PyCM 라이브러리를 사용하여 confusion Martix\n",
    "\n",
    "\n",
    "cancer = datasets.load_breast_cancer()\n",
    "\n",
    "\n",
    "X_train, X_test, y_train, y_test = train_test_split(\n",
    "    cancer.data, cancer.target, test_size=0.4, random_state=0)\n",
    "    \n",
    "\n",
    "\n",
    "\n",
    "\n",
    "pipe_lr = Pipeline([('scl', StandardScaler()),\n",
    "                    ('clf', LogisticRegression(random_state=42))])\n",
    "\n",
    "pipe_rf = Pipeline([('scl', StandardScaler()),\n",
    "                    ('clf', RandomForestClassifier(random_state=42 ,))])\n",
    "\n",
    "pipe_svm = Pipeline([('scl', StandardScaler()),\n",
    "                     ('clf', SVC(random_state=42 , probability = True))])\n",
    "\n",
    "pipe_gbm = Pipeline([('scl', StandardScaler()),\n",
    "                     ('clf', GBM(n_estimators  = 100 , random_state = 42))])\n",
    "\n",
    "pipe_knn = Pipeline([('scl', StandardScaler()),\n",
    "                     ('clf', KNN())])\n",
    "\n",
    "pipe_tree = Pipeline([('scl', StandardScaler()),\n",
    "                     ('clf', DecisionTreeClassifier(random_state = 42,))])\n",
    "\n",
    "pipe_xg = Pipeline([('scl', StandardScaler()),\n",
    "                     ('clf', XGBClassifier(n_estimators  = 100 , random_state = 42,))])\n",
    "\n",
    "\n",
    "pipe_lgbm = Pipeline([('scl', StandardScaler()),\n",
    "                     ('clf', LGBMClassifier(n_estimators  = 100 , random_state = 42,))])\n",
    "\n",
    "aram_range = [1, 2, 3, 4, 5, 6, 7, 8, 9, 10]\n",
    "depth_range = [3,5,8]\n",
    "min_samples_split_range = [0.5, 0.7 , 0.9]\n",
    "param_range = [0.5, 0.1]\n",
    "param_range_fl = np.logspace(0,-5,5)\n",
    "lr_rate=[0.01, 0.1, 0.5]\n",
    "\n",
    "grid_params_lr = [{'clf__penalty': ['l1', 'l2'],\n",
    "                   #'clf__C': param_range_fl,\n",
    "                   'clf__solver': ['liblinear']}] \n",
    "\n",
    "grid_params_rf = [{'clf__criterion': ['gini', 'entropy'],\n",
    "                   'clf__min_samples_leaf': param_range,\n",
    "                   'clf__max_depth': depth_range,\n",
    "                   'clf__min_samples_split': min_samples_split_range \n",
    "                  }]\n",
    "\n",
    "grid_params_svm = [{'clf__kernel': ['linear', 'rbf'], \n",
    "                    'clf__C': param_range\n",
    "                   }]\n",
    "\n",
    "\n",
    "grid_params_gbm = [{\"clf__tol\" : param_range_fl , \n",
    "                    'clf__max_depth': depth_range,\n",
    "                    'clf__min_samples_leaf': param_range,\n",
    "                    'clf__loss' : [\"deviance\", \"exponential\"]\n",
    "                   } ]\n",
    "\n",
    "grid_params_knn = [{\"clf__n_neighbors\" : [2,4,6] , \n",
    "                    \"clf__weights\" : [\"uniform\",\"distance\"] , \n",
    "                    'clf__algorithm': [\"ball_tree\", \"kd_tree\", \"brute\"]\n",
    "                   } ]\n",
    "\n",
    "grid_params_tree = [{'clf__criterion': ['gini', 'entropy'],\n",
    "                   'clf__min_samples_leaf': param_range,\n",
    "                   'clf__max_depth': depth_range,\n",
    "                   'clf__min_samples_split': min_samples_split_range \n",
    "                  }]\n",
    "\n",
    "grid_params_xg = [{'clf__learning_rate': lr_rate,\n",
    "                   'clf__max_depth': depth_range,\n",
    "                  }]\n",
    "\n",
    "grid_params_lgbm = [{'clf__learning_rate': lr_rate,\n",
    "                   'clf__max_depth': depth_range,\n",
    "                  }]\n",
    "\n",
    "pipe = [\n",
    "    pipe_lr , pipe_rf , pipe_svm , \n",
    "    pipe_gbm , pipe_knn ,pipe_tree , pipe_xg, pipe_lgbm\n",
    "    ]\n",
    "params = [\n",
    "    grid_params_lr , grid_params_rf , grid_params_svm , \n",
    "    grid_params_gbm , grid_params_knn, grid_params_tree,\n",
    "    grid_params_xg ,grid_params_lgbm\n",
    "    ]\n",
    "\n",
    "jobs = 20\n",
    "cv=5\n",
    "\n",
    "grid_dict = {0: 'Logistic Regression', \n",
    "             1: 'Random Forest', \n",
    "             2: 'Support Vector Machine' ,\n",
    "             3: \"GradientBoostingClassifer\" ,\n",
    "             4: \"KNNClassifier\" , \n",
    "             5: \"DecisionTreeClassifier\" , \n",
    "             6: \"XGBClassifier\" ,\n",
    "             7: \"LGBMClassifier\"\n",
    "            }\n",
    "\n",
    "model_prob = {}\n",
    "model_result = {}\n",
    "model_result1 = {}\n",
    "model_result2 = {}\n",
    "model_result3 = {}\n",
    "model_best_params = {}\n",
    "model_confusion = {}\n",
    "\n",
    "\n",
    "for idx , (param , model) in enumerate(zip(params , pipe)) :\n",
    "    search = GridSearchCV(model, param, iid=True , cv=cv , n_jobs=jobs , verbose=-1 )\n",
    "    search.fit(X_train , y_train)\n",
    "    \n",
    "    y_pred = search.predict(X_test)\n",
    "    try :\n",
    "        y_prob = search.predict_proba(X_test)\n",
    "    except Exception as e :\n",
    "        pass\n",
    "    model_result[grid_dict.get(idx)] = accuracy_score(y_test, y_pred) \n",
    "    model_result1[grid_dict.get(idx)] = precision_score(y_test, y_pred)\n",
    "    model_result2[grid_dict.get(idx)] = recall_score(y_test, y_pred)\n",
    "    model_result3[grid_dict.get(idx)] = f1_score(y_test, y_pred) \n",
    "\n"
   ]
  },
  {
   "cell_type": "code",
   "execution_count": 11,
   "metadata": {
    "colab": {
     "base_uri": "https://localhost:8080/",
     "height": 934
    },
    "colab_type": "code",
    "executionInfo": {
     "elapsed": 83748,
     "status": "ok",
     "timestamp": 1599379636134,
     "user": {
      "displayName": "‍최영진[ 대학원석·박사통합과정수료 / 산업경영공학과 ]",
      "photoUrl": "",
      "userId": "11452561759636107247"
     },
     "user_tz": -540
    },
    "id": "NeploY0C6V95",
    "outputId": "d3c7642e-25de-4fcf-f0b7-72ad220e4d1a"
   },
   "outputs": [
    {
     "name": "stdout",
     "output_type": "stream",
     "text": [
      "                   algorithm       auc precision    recall        f1\n",
      "0        Logistic Regression  0.982456  0.986207  0.986207  0.986207\n",
      "2     Support Vector Machine   0.97807  0.992958  0.972414  0.982578\n",
      "7             LGBMClassifier   0.97807  0.966667         1  0.983051\n",
      "3  GradientBoostingClassifer  0.964912  0.959732  0.986207  0.972789\n",
      "6              XGBClassifier  0.960526  0.965753  0.972414  0.969072\n",
      "4              KNNClassifier  0.947368  0.940397   0.97931  0.959459\n",
      "1              Random Forest  0.929825  0.921569  0.972414  0.946309\n",
      "5     DecisionTreeClassifier  0.881579  0.915493  0.896552  0.905923\n",
      "                   algorithm       auc\n",
      "0        Logistic Regression  0.982456\n",
      "2     Support Vector Machine   0.97807\n",
      "7             LGBMClassifier   0.97807\n",
      "3  GradientBoostingClassifer  0.964912\n",
      "6              XGBClassifier  0.960526\n",
      "4              KNNClassifier  0.947368\n",
      "1              Random Forest  0.929825\n",
      "5     DecisionTreeClassifier  0.881579\n"
     ]
    },
    {
     "data": {
      "image/png": "[encoded data removed]",
      "text/plain": [
       "<Figure size 1440x720 with 1 Axes>"
      ]
     },
     "metadata": {
      "needs_background": "light"
     },
     "output_type": "display_data"
    }
   ],
   "source": [
    "output = pd.DataFrame([model_result.keys() , \n",
    "                       model_result.values(),\n",
    "                       model_result1.values(),\n",
    "                       model_result2.values(),\n",
    "                       model_result3.values()], \n",
    "                      index = [\"algorithm\",\"auc\",\"precision\",\"recall\",\"f1\"]).T\n",
    "output.sort_values([\"auc\"], ascending= False ,inplace=True)\n",
    "print(output)\n",
    "\n",
    "dataset= output.iloc[:,0:2]\n",
    "print(dataset)\n",
    "fig ,ax = plt.subplots(figsize=(20, 10))\n",
    "sns.set(font_scale = 2)\n",
    "sns.barplot(y=\"algorithm\", x=\"auc\", data=dataset)\n",
    "plt.show()"
   ]
  }
 ],
 "metadata": {
  "colab": {
   "authorship_tag": "ABX9TyO321GW/7HOf6Y6FAYFR/8G",
   "collapsed_sections": [],
   "name": "ML_final.ipynb",
   "provenance": []
  },
  "kernelspec": {
   "display_name": "Python 3",
   "language": "python",
   "name": "python3"
  },
  "language_info": {
   "codemirror_mode": {
    "name": "ipython",
    "version": 3
   },
   "file_extension": ".py",
   "mimetype": "text/x-python",
   "name": "python",
   "nbconvert_exporter": "python",
   "pygments_lexer": "ipython3",
   "version": "3.7.6"
  }
 },
 "nbformat": 4,
 "nbformat_minor": 1
}
